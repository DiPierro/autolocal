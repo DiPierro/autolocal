{
 "cells": [
  {
   "cell_type": "code",
   "execution_count": 1,
   "metadata": {},
   "outputs": [],
   "source": [
    "%load_ext autoreload\n",
    "%autoreload 2"
   ]
  },
  {
   "cell_type": "code",
   "execution_count": 2,
   "metadata": {},
   "outputs": [],
   "source": [
    "import autolocal\n",
    "from autolocal import DocumentManager\n",
    "from autolocal import WebApp"
   ]
  },
  {
   "cell_type": "code",
   "execution_count": 3,
   "metadata": {},
   "outputs": [],
   "source": [
    "webapp = WebApp()"
   ]
  },
  {
   "cell_type": "code",
   "execution_count": 4,
   "metadata": {
    "scrolled": false
   },
   "outputs": [
    {
     "name": "stderr",
     "output_type": "stream",
     "text": [
      "8it [00:06,  1.42it/s]\n"
     ]
    }
   ],
   "source": [
    "doc_list_path = '../data/misc/meeting_table_prototype_v2.csv'\n",
    "webapp.documents.add_docs_from_csv(doc_list_path)"
   ]
  },
  {
   "cell_type": "code",
   "execution_count": null,
   "metadata": {
    "scrolled": false
   },
   "outputs": [
    {
     "name": "stdout",
     "output_type": "stream",
     "text": [
      " * Serving Flask app \"autolocal.webapp\" (lazy loading)\n",
      " * Environment: production\n",
      "   WARNING: This is a development server. Do not use it in a production deployment.\n",
      "   Use a production WSGI server instead.\n",
      " * Debug mode: off\n"
     ]
    },
    {
     "name": "stderr",
     "output_type": "stream",
     "text": [
      " * Running on http://127.0.0.1:8050/ (Press CTRL+C to quit)\n",
      "127.0.0.1 - - [12/Oct/2019 02:17:41] \"\u001b[37mGET / HTTP/1.1\u001b[0m\" 200 -\n",
      "127.0.0.1 - - [12/Oct/2019 02:17:41] \"\u001b[37mGET /_dash-component-suites/dash_renderer/prop-types@15.7.2.min.js?v=1.1.0&m=1568818297 HTTP/1.1\u001b[0m\" 200 -\n",
      "127.0.0.1 - - [12/Oct/2019 02:17:41] \"\u001b[37mGET /_dash-component-suites/dash_renderer/react@16.8.6.min.js?v=1.1.0&m=1568818297 HTTP/1.1\u001b[0m\" 200 -\n",
      "127.0.0.1 - - [12/Oct/2019 02:17:41] \"\u001b[37mGET /_dash-component-suites/dash_renderer/react-dom@16.8.6.min.js?v=1.1.0&m=1568818297 HTTP/1.1\u001b[0m\" 200 -\n",
      "127.0.0.1 - - [12/Oct/2019 02:17:41] \"\u001b[37mGET /_dash-component-suites/dash_html_components/dash_html_components.min.js?v=1.0.1&m=1566962730 HTTP/1.1\u001b[0m\" 200 -\n",
      "127.0.0.1 - - [12/Oct/2019 02:17:41] \"\u001b[37mGET /_dash-component-suites/dash_core_components/highlight.pack.js?v=1.2.0&m=1568821458 HTTP/1.1\u001b[0m\" 200 -\n",
      "127.0.0.1 - - [12/Oct/2019 02:17:41] \"\u001b[37mGET /_dash-component-suites/dash_renderer/dash_renderer.min.js?v=1.1.0&m=1568818297 HTTP/1.1\u001b[0m\" 200 -\n",
      "127.0.0.1 - - [12/Oct/2019 02:17:41] \"\u001b[37mGET /_dash-component-suites/dash_core_components/dash_core_components.min.js?v=1.2.0&m=1568821458 HTTP/1.1\u001b[0m\" 200 -\n",
      "127.0.0.1 - - [12/Oct/2019 02:17:41] \"\u001b[37mGET /_dash-component-suites/dash_core_components/plotly-1.49.4.min.js?v=1.2.0&m=1568821458 HTTP/1.1\u001b[0m\" 200 -\n",
      "127.0.0.1 - - [12/Oct/2019 02:17:41] \"\u001b[37mGET /_dash-dependencies HTTP/1.1\u001b[0m\" 200 -\n",
      "127.0.0.1 - - [12/Oct/2019 02:17:41] \"\u001b[37mGET /_dash-layout HTTP/1.1\u001b[0m\" 200 -\n",
      "127.0.0.1 - - [12/Oct/2019 02:17:41] \"\u001b[37mPOST /_dash-update-component HTTP/1.1\u001b[0m\" 200 -\n",
      "127.0.0.1 - - [12/Oct/2019 02:17:41] \"\u001b[37mGET /_favicon.ico?v=1.3.0 HTTP/1.1\u001b[0m\" 200 -\n",
      "127.0.0.1 - - [12/Oct/2019 02:17:47] \"\u001b[37mPOST /_dash-update-component HTTP/1.1\u001b[0m\" 200 -\n",
      "127.0.0.1 - - [12/Oct/2019 02:17:47] \"\u001b[37mPOST /_dash-update-component HTTP/1.1\u001b[0m\" 200 -\n"
     ]
    },
    {
     "name": "stdout",
     "output_type": "stream",
     "text": [
      "[6 6 7 4 5 4 2 0]\n",
      "[0 0 0 0 0 0 0 0]\n"
     ]
    },
    {
     "name": "stderr",
     "output_type": "stream",
     "text": [
      "127.0.0.1 - - [12/Oct/2019 02:17:48] \"\u001b[37mPOST /_dash-update-component HTTP/1.1\u001b[0m\" 200 -\n"
     ]
    },
    {
     "name": "stdout",
     "output_type": "stream",
     "text": [
      "[0 0 0 0 0 0 0 0]\n"
     ]
    },
    {
     "name": "stderr",
     "output_type": "stream",
     "text": [
      "127.0.0.1 - - [12/Oct/2019 02:17:48] \"\u001b[37mPOST /_dash-update-component HTTP/1.1\u001b[0m\" 200 -\n",
      "127.0.0.1 - - [12/Oct/2019 02:17:48] \"\u001b[37mPOST /_dash-update-component HTTP/1.1\u001b[0m\" 200 -\n"
     ]
    },
    {
     "name": "stdout",
     "output_type": "stream",
     "text": [
      "[0 0 0 0 0 0 0 0]\n",
      "[6 6 7 4 5 4 2 0]\n"
     ]
    },
    {
     "name": "stderr",
     "output_type": "stream",
     "text": [
      "127.0.0.1 - - [12/Oct/2019 02:17:50] \"\u001b[37mPOST /_dash-update-component HTTP/1.1\u001b[0m\" 200 -\n"
     ]
    },
    {
     "name": "stdout",
     "output_type": "stream",
     "text": [
      "[0 0 0 0 0 0 0 0]\n"
     ]
    },
    {
     "name": "stderr",
     "output_type": "stream",
     "text": [
      "127.0.0.1 - - [12/Oct/2019 02:17:51] \"\u001b[37mPOST /_dash-update-component HTTP/1.1\u001b[0m\" 200 -\n",
      "127.0.0.1 - - [12/Oct/2019 02:17:51] \"\u001b[37mPOST /_dash-update-component HTTP/1.1\u001b[0m\" 200 -\n"
     ]
    },
    {
     "name": "stdout",
     "output_type": "stream",
     "text": [
      "[6 6 7 4 5 4 2 0]\n"
     ]
    },
    {
     "name": "stderr",
     "output_type": "stream",
     "text": [
      "127.0.0.1 - - [12/Oct/2019 02:17:52] \"\u001b[37mPOST /_dash-update-component HTTP/1.1\u001b[0m\" 200 -\n",
      "127.0.0.1 - - [12/Oct/2019 02:17:52] \"\u001b[37mPOST /_dash-update-component HTTP/1.1\u001b[0m\" 200 -\n",
      "127.0.0.1 - - [12/Oct/2019 02:17:53] \"\u001b[37mPOST /_dash-update-component HTTP/1.1\u001b[0m\" 200 -\n"
     ]
    },
    {
     "name": "stdout",
     "output_type": "stream",
     "text": [
      "[0 0 0 0 0 0 0 0]\n",
      "[0 0 0 0 0 0 0 0]\n",
      "[0 0 0 0 0 0 0 0]\n"
     ]
    },
    {
     "name": "stderr",
     "output_type": "stream",
     "text": [
      "127.0.0.1 - - [12/Oct/2019 02:17:53] \"\u001b[37mPOST /_dash-update-component HTTP/1.1\u001b[0m\" 200 -\n"
     ]
    },
    {
     "name": "stdout",
     "output_type": "stream",
     "text": [
      "[0 0 0 0 0 0 0 0]\n"
     ]
    },
    {
     "name": "stderr",
     "output_type": "stream",
     "text": [
      "127.0.0.1 - - [12/Oct/2019 02:17:53] \"\u001b[37mPOST /_dash-update-component HTTP/1.1\u001b[0m\" 200 -\n",
      "127.0.0.1 - - [12/Oct/2019 02:17:53] \"\u001b[37mPOST /_dash-update-component HTTP/1.1\u001b[0m\" 200 -\n"
     ]
    },
    {
     "name": "stdout",
     "output_type": "stream",
     "text": [
      "[0 0 0 0 0 0 0 0]\n",
      "[0 0 0 0 0 0 0 0]\n"
     ]
    },
    {
     "name": "stderr",
     "output_type": "stream",
     "text": [
      "127.0.0.1 - - [12/Oct/2019 02:17:53] \"\u001b[37mPOST /_dash-update-component HTTP/1.1\u001b[0m\" 200 -\n",
      "127.0.0.1 - - [12/Oct/2019 02:17:54] \"\u001b[37mPOST /_dash-update-component HTTP/1.1\u001b[0m\" 200 -\n"
     ]
    },
    {
     "name": "stdout",
     "output_type": "stream",
     "text": [
      "[0 0 0 0 0 0 0 0]\n"
     ]
    },
    {
     "name": "stderr",
     "output_type": "stream",
     "text": [
      "127.0.0.1 - - [12/Oct/2019 02:17:54] \"\u001b[37mPOST /_dash-update-component HTTP/1.1\u001b[0m\" 200 -\n",
      "127.0.0.1 - - [12/Oct/2019 02:17:54] \"\u001b[37mPOST /_dash-update-component HTTP/1.1\u001b[0m\" 200 -\n"
     ]
    },
    {
     "name": "stdout",
     "output_type": "stream",
     "text": [
      "[0 0 1 0 1 0 0 0]\n",
      "[1 0 0 0 0 0 0 0]\n"
     ]
    },
    {
     "name": "stderr",
     "output_type": "stream",
     "text": [
      "127.0.0.1 - - [12/Oct/2019 02:17:55] \"\u001b[37mPOST /_dash-update-component HTTP/1.1\u001b[0m\" 200 -\n",
      "127.0.0.1 - - [12/Oct/2019 02:17:55] \"\u001b[37mPOST /_dash-update-component HTTP/1.1\u001b[0m\" 200 -\n"
     ]
    },
    {
     "name": "stdout",
     "output_type": "stream",
     "text": [
      "[0 0 0 0 0 0 0 0]\n",
      "[0 0 0 0 0 0 0 0]\n"
     ]
    },
    {
     "name": "stderr",
     "output_type": "stream",
     "text": [
      "127.0.0.1 - - [12/Oct/2019 02:17:55] \"\u001b[37mPOST /_dash-update-component HTTP/1.1\u001b[0m\" 200 -\n",
      "127.0.0.1 - - [12/Oct/2019 02:17:55] \"\u001b[37mPOST /_dash-update-component HTTP/1.1\u001b[0m\" 200 -\n"
     ]
    },
    {
     "name": "stdout",
     "output_type": "stream",
     "text": [
      "[0 0 0 0 0 0 0 0]\n",
      "[0 0 0 0 0 0 0 0]\n"
     ]
    },
    {
     "name": "stderr",
     "output_type": "stream",
     "text": [
      "127.0.0.1 - - [12/Oct/2019 02:17:56] \"\u001b[37mPOST /_dash-update-component HTTP/1.1\u001b[0m\" 200 -\n",
      "127.0.0.1 - - [12/Oct/2019 02:18:33] \"\u001b[37mPOST /_dash-update-component HTTP/1.1\u001b[0m\" 200 -\n"
     ]
    },
    {
     "name": "stdout",
     "output_type": "stream",
     "text": [
      "[0 0 0 0 0 0 0 0]\n"
     ]
    },
    {
     "name": "stderr",
     "output_type": "stream",
     "text": [
      "127.0.0.1 - - [12/Oct/2019 02:18:33] \"\u001b[37mPOST /_dash-update-component HTTP/1.1\u001b[0m\" 200 -\n",
      "127.0.0.1 - - [12/Oct/2019 02:18:34] \"\u001b[37mPOST /_dash-update-component HTTP/1.1\u001b[0m\" 200 -\n"
     ]
    },
    {
     "name": "stdout",
     "output_type": "stream",
     "text": [
      "[0 0 0 0 0 0 0 0]\n",
      "[2 2 2 2 2 2 2 1]\n"
     ]
    },
    {
     "name": "stderr",
     "output_type": "stream",
     "text": [
      "127.0.0.1 - - [12/Oct/2019 02:18:36] \"\u001b[37mPOST /_dash-update-component HTTP/1.1\u001b[0m\" 200 -\n",
      "127.0.0.1 - - [12/Oct/2019 02:18:36] \"\u001b[37mPOST /_dash-update-component HTTP/1.1\u001b[0m\" 200 -\n"
     ]
    },
    {
     "name": "stdout",
     "output_type": "stream",
     "text": [
      "[0 0 0 0 0 0 0 0]\n"
     ]
    },
    {
     "name": "stderr",
     "output_type": "stream",
     "text": [
      "127.0.0.1 - - [12/Oct/2019 02:18:36] \"\u001b[37mPOST /_dash-update-component HTTP/1.1\u001b[0m\" 200 -\n",
      "127.0.0.1 - - [12/Oct/2019 02:18:36] \"\u001b[37mPOST /_dash-update-component HTTP/1.1\u001b[0m\" 200 -\n"
     ]
    },
    {
     "name": "stdout",
     "output_type": "stream",
     "text": [
      "[0 0 0 0 0 0 0 0]\n",
      "[2 2 2 2 2 2 2 1]\n"
     ]
    },
    {
     "name": "stderr",
     "output_type": "stream",
     "text": [
      "127.0.0.1 - - [12/Oct/2019 02:18:38] \"\u001b[37mPOST /_dash-update-component HTTP/1.1\u001b[0m\" 200 -\n",
      "127.0.0.1 - - [12/Oct/2019 02:18:38] \"\u001b[37mPOST /_dash-update-component HTTP/1.1\u001b[0m\" 200 -\n"
     ]
    },
    {
     "name": "stdout",
     "output_type": "stream",
     "text": [
      "[0 0 0 1 0 0 0 0]\n",
      "[0 0 0 0 0 0 0 0]\n"
     ]
    },
    {
     "name": "stderr",
     "output_type": "stream",
     "text": [
      "127.0.0.1 - - [12/Oct/2019 02:18:38] \"\u001b[37mPOST /_dash-update-component HTTP/1.1\u001b[0m\" 200 -\n",
      "127.0.0.1 - - [12/Oct/2019 02:18:38] \"\u001b[37mPOST /_dash-update-component HTTP/1.1\u001b[0m\" 200 -\n"
     ]
    },
    {
     "name": "stdout",
     "output_type": "stream",
     "text": [
      "[0 0 0 0 0 0 0 0]\n",
      "[0 0 0 0 0 0 0 0]\n"
     ]
    },
    {
     "name": "stderr",
     "output_type": "stream",
     "text": [
      "127.0.0.1 - - [12/Oct/2019 02:18:38] \"\u001b[37mPOST /_dash-update-component HTTP/1.1\u001b[0m\" 200 -\n",
      "127.0.0.1 - - [12/Oct/2019 02:18:38] \"\u001b[37mPOST /_dash-update-component HTTP/1.1\u001b[0m\" 200 -\n"
     ]
    },
    {
     "name": "stdout",
     "output_type": "stream",
     "text": [
      "[0 0 0 0 0 0 0 0]\n",
      "[0 0 0 0 0 0 0 0]\n"
     ]
    },
    {
     "name": "stderr",
     "output_type": "stream",
     "text": [
      "127.0.0.1 - - [12/Oct/2019 02:18:39] \"\u001b[37mPOST /_dash-update-component HTTP/1.1\u001b[0m\" 200 -\n",
      "127.0.0.1 - - [12/Oct/2019 02:18:39] \"\u001b[37mPOST /_dash-update-component HTTP/1.1\u001b[0m\" 200 -\n"
     ]
    },
    {
     "name": "stdout",
     "output_type": "stream",
     "text": [
      "[0 0 0 0 0 0 0 0]\n",
      "[3 3 3 2 2 2 2 1]\n"
     ]
    },
    {
     "name": "stderr",
     "output_type": "stream",
     "text": [
      "127.0.0.1 - - [12/Oct/2019 02:18:40] \"\u001b[37mPOST /_dash-update-component HTTP/1.1\u001b[0m\" 200 -\n"
     ]
    },
    {
     "name": "stdout",
     "output_type": "stream",
     "text": [
      "[0 0 0 1 0 0 0 0]\n"
     ]
    },
    {
     "name": "stderr",
     "output_type": "stream",
     "text": [
      "127.0.0.1 - - [12/Oct/2019 02:18:40] \"\u001b[37mPOST /_dash-update-component HTTP/1.1\u001b[0m\" 200 -\n",
      "127.0.0.1 - - [12/Oct/2019 02:18:41] \"\u001b[37mPOST /_dash-update-component HTTP/1.1\u001b[0m\" 200 -\n"
     ]
    },
    {
     "name": "stdout",
     "output_type": "stream",
     "text": [
      "[0 0 0 0 0 0 0 0]\n",
      "[0 0 0 0 0 0 0 0]\n"
     ]
    },
    {
     "name": "stderr",
     "output_type": "stream",
     "text": [
      "127.0.0.1 - - [12/Oct/2019 02:18:41] \"\u001b[37mPOST /_dash-update-component HTTP/1.1\u001b[0m\" 200 -\n",
      "127.0.0.1 - - [12/Oct/2019 02:18:41] \"\u001b[37mPOST /_dash-update-component HTTP/1.1\u001b[0m\" 200 -\n"
     ]
    },
    {
     "name": "stdout",
     "output_type": "stream",
     "text": [
      "[0 0 0 0 0 0 0 0]\n",
      "[0 0 0 0 0 0 0 0]\n"
     ]
    },
    {
     "name": "stderr",
     "output_type": "stream",
     "text": [
      "127.0.0.1 - - [12/Oct/2019 02:18:41] \"\u001b[37mPOST /_dash-update-component HTTP/1.1\u001b[0m\" 200 -\n"
     ]
    },
    {
     "name": "stdout",
     "output_type": "stream",
     "text": [
      "[3 3 3 2 2 2 2 1]\n"
     ]
    },
    {
     "name": "stderr",
     "output_type": "stream",
     "text": [
      "127.0.0.1 - - [12/Oct/2019 02:18:50] \"\u001b[37mPOST /_dash-update-component HTTP/1.1\u001b[0m\" 200 -\n",
      "127.0.0.1 - - [12/Oct/2019 02:18:51] \"\u001b[37mPOST /_dash-update-component HTTP/1.1\u001b[0m\" 200 -\n"
     ]
    },
    {
     "name": "stdout",
     "output_type": "stream",
     "text": [
      "[0 0 0 0 0 0 0 0]\n",
      "[0 0 0 0 0 0 0 0]\n"
     ]
    },
    {
     "name": "stderr",
     "output_type": "stream",
     "text": [
      "127.0.0.1 - - [12/Oct/2019 02:18:51] \"\u001b[37mPOST /_dash-update-component HTTP/1.1\u001b[0m\" 200 -\n",
      "127.0.0.1 - - [12/Oct/2019 02:18:51] \"\u001b[37mPOST /_dash-update-component HTTP/1.1\u001b[0m\" 200 -\n"
     ]
    },
    {
     "name": "stdout",
     "output_type": "stream",
     "text": [
      "[0 0 0 0 0 0 0 0]\n",
      "[0 0 0 0 0 0 0 0]\n"
     ]
    },
    {
     "name": "stderr",
     "output_type": "stream",
     "text": [
      "127.0.0.1 - - [12/Oct/2019 02:18:51] \"\u001b[37mPOST /_dash-update-component HTTP/1.1\u001b[0m\" 200 -\n",
      "127.0.0.1 - - [12/Oct/2019 02:18:51] \"\u001b[37mPOST /_dash-update-component HTTP/1.1\u001b[0m\" 200 -\n"
     ]
    },
    {
     "name": "stdout",
     "output_type": "stream",
     "text": [
      "[0 0 0 0 0 0 0 0]\n",
      "[0 0 0 0 0 0 0 0]\n"
     ]
    },
    {
     "name": "stderr",
     "output_type": "stream",
     "text": [
      "127.0.0.1 - - [12/Oct/2019 02:18:51] \"\u001b[37mPOST /_dash-update-component HTTP/1.1\u001b[0m\" 200 -\n"
     ]
    },
    {
     "name": "stdout",
     "output_type": "stream",
     "text": [
      "[1 1 0 1 0 0 0 0]\n"
     ]
    },
    {
     "name": "stderr",
     "output_type": "stream",
     "text": [
      "127.0.0.1 - - [12/Oct/2019 02:18:52] \"\u001b[37mPOST /_dash-update-component HTTP/1.1\u001b[0m\" 200 -\n"
     ]
    },
    {
     "name": "stdout",
     "output_type": "stream",
     "text": [
      "[1 1 1 0 0 0 0 0]\n"
     ]
    },
    {
     "name": "stderr",
     "output_type": "stream",
     "text": [
      "127.0.0.1 - - [12/Oct/2019 02:18:53] \"\u001b[37mPOST /_dash-update-component HTTP/1.1\u001b[0m\" 200 -\n"
     ]
    },
    {
     "name": "stdout",
     "output_type": "stream",
     "text": [
      "[1 1 0 1 0 0 0 0]\n"
     ]
    },
    {
     "name": "stderr",
     "output_type": "stream",
     "text": [
      "127.0.0.1 - - [12/Oct/2019 02:18:55] \"\u001b[37mPOST /_dash-update-component HTTP/1.1\u001b[0m\" 200 -\n"
     ]
    },
    {
     "name": "stdout",
     "output_type": "stream",
     "text": [
      "[1 1 1 0 0 0 0 0]\n"
     ]
    },
    {
     "name": "stderr",
     "output_type": "stream",
     "text": [
      "127.0.0.1 - - [12/Oct/2019 02:18:55] \"\u001b[37mPOST /_dash-update-component HTTP/1.1\u001b[0m\" 200 -\n"
     ]
    },
    {
     "name": "stdout",
     "output_type": "stream",
     "text": [
      "[1 1 0 1 0 0 0 0]\n"
     ]
    },
    {
     "name": "stderr",
     "output_type": "stream",
     "text": [
      "127.0.0.1 - - [12/Oct/2019 02:18:56] \"\u001b[37mPOST /_dash-update-component HTTP/1.1\u001b[0m\" 200 -\n"
     ]
    },
    {
     "name": "stdout",
     "output_type": "stream",
     "text": [
      "[1 1 1 0 0 0 0 0]\n"
     ]
    },
    {
     "name": "stderr",
     "output_type": "stream",
     "text": [
      "127.0.0.1 - - [12/Oct/2019 02:18:57] \"\u001b[37mPOST /_dash-update-component HTTP/1.1\u001b[0m\" 200 -\n"
     ]
    },
    {
     "name": "stdout",
     "output_type": "stream",
     "text": [
      "[1 1 0 1 0 0 0 0]\n"
     ]
    },
    {
     "name": "stderr",
     "output_type": "stream",
     "text": [
      "127.0.0.1 - - [12/Oct/2019 02:18:57] \"\u001b[37mPOST /_dash-update-component HTTP/1.1\u001b[0m\" 200 -\n"
     ]
    },
    {
     "name": "stdout",
     "output_type": "stream",
     "text": [
      "[1 1 1 0 0 0 0 0]\n"
     ]
    },
    {
     "name": "stderr",
     "output_type": "stream",
     "text": [
      "127.0.0.1 - - [12/Oct/2019 02:18:58] \"\u001b[37mPOST /_dash-update-component HTTP/1.1\u001b[0m\" 200 -\n"
     ]
    },
    {
     "name": "stdout",
     "output_type": "stream",
     "text": [
      "[1 1 0 1 0 0 0 0]\n"
     ]
    },
    {
     "name": "stderr",
     "output_type": "stream",
     "text": [
      "127.0.0.1 - - [12/Oct/2019 02:18:59] \"\u001b[37mPOST /_dash-update-component HTTP/1.1\u001b[0m\" 200 -\n"
     ]
    },
    {
     "name": "stdout",
     "output_type": "stream",
     "text": [
      "[1 1 1 0 0 0 0 0]\n"
     ]
    },
    {
     "name": "stderr",
     "output_type": "stream",
     "text": [
      "127.0.0.1 - - [12/Oct/2019 02:18:59] \"\u001b[37mPOST /_dash-update-component HTTP/1.1\u001b[0m\" 200 -\n"
     ]
    },
    {
     "name": "stdout",
     "output_type": "stream",
     "text": [
      "[1 1 0 1 0 0 0 0]\n"
     ]
    },
    {
     "name": "stderr",
     "output_type": "stream",
     "text": [
      "127.0.0.1 - - [12/Oct/2019 02:18:59] \"\u001b[37mPOST /_dash-update-component HTTP/1.1\u001b[0m\" 200 -\n"
     ]
    },
    {
     "name": "stdout",
     "output_type": "stream",
     "text": [
      "[1 1 1 0 0 0 0 0]\n"
     ]
    },
    {
     "name": "stderr",
     "output_type": "stream",
     "text": [
      "127.0.0.1 - - [12/Oct/2019 02:19:00] \"\u001b[37mPOST /_dash-update-component HTTP/1.1\u001b[0m\" 200 -\n"
     ]
    },
    {
     "name": "stdout",
     "output_type": "stream",
     "text": [
      "[1 1 0 1 0 0 0 0]\n"
     ]
    },
    {
     "name": "stderr",
     "output_type": "stream",
     "text": [
      "127.0.0.1 - - [12/Oct/2019 02:19:00] \"\u001b[37mPOST /_dash-update-component HTTP/1.1\u001b[0m\" 200 -\n"
     ]
    },
    {
     "name": "stdout",
     "output_type": "stream",
     "text": [
      "[1 1 1 0 0 0 0 0]\n"
     ]
    },
    {
     "name": "stderr",
     "output_type": "stream",
     "text": [
      "127.0.0.1 - - [12/Oct/2019 02:19:00] \"\u001b[37mPOST /_dash-update-component HTTP/1.1\u001b[0m\" 200 -\n"
     ]
    },
    {
     "name": "stdout",
     "output_type": "stream",
     "text": [
      "[1 1 0 1 0 0 0 0]\n"
     ]
    },
    {
     "name": "stderr",
     "output_type": "stream",
     "text": [
      "127.0.0.1 - - [12/Oct/2019 02:19:32] \"\u001b[37mPOST /_dash-update-component HTTP/1.1\u001b[0m\" 200 -\n",
      "127.0.0.1 - - [12/Oct/2019 02:19:32] \"\u001b[37mPOST /_dash-update-component HTTP/1.1\u001b[0m\" 200 -\n",
      "127.0.0.1 - - [12/Oct/2019 02:19:32] \"\u001b[37mPOST /_dash-update-component HTTP/1.1\u001b[0m\" 200 -\n"
     ]
    },
    {
     "name": "stdout",
     "output_type": "stream",
     "text": [
      "[3 3 7 2 5 5 4 2]\n",
      "[0 0 0 0 0 0 0 0]\n",
      "[0 0 0 0 0 0 0 0]\n"
     ]
    },
    {
     "name": "stderr",
     "output_type": "stream",
     "text": [
      "127.0.0.1 - - [12/Oct/2019 02:19:32] \"\u001b[37mPOST /_dash-update-component HTTP/1.1\u001b[0m\" 200 -\n",
      "127.0.0.1 - - [12/Oct/2019 02:19:32] \"\u001b[37mPOST /_dash-update-component HTTP/1.1\u001b[0m\" 200 -\n"
     ]
    },
    {
     "name": "stdout",
     "output_type": "stream",
     "text": [
      "[0 0 0 0 0 0 0 0]\n",
      "[0 0 0 0 0 0 0 0]\n"
     ]
    },
    {
     "name": "stderr",
     "output_type": "stream",
     "text": [
      "127.0.0.1 - - [12/Oct/2019 02:19:32] \"\u001b[37mPOST /_dash-update-component HTTP/1.1\u001b[0m\" 200 -\n",
      "127.0.0.1 - - [12/Oct/2019 02:19:32] \"\u001b[37mPOST /_dash-update-component HTTP/1.1\u001b[0m\" 200 -\n"
     ]
    },
    {
     "name": "stdout",
     "output_type": "stream",
     "text": [
      "[0 0 0 0 0 0 0 0]\n",
      "[0 0 0 0 0 0 0 0]\n"
     ]
    },
    {
     "name": "stderr",
     "output_type": "stream",
     "text": [
      "127.0.0.1 - - [12/Oct/2019 02:19:33] \"\u001b[37mPOST /_dash-update-component HTTP/1.1\u001b[0m\" 200 -\n",
      "127.0.0.1 - - [12/Oct/2019 02:19:33] \"\u001b[37mPOST /_dash-update-component HTTP/1.1\u001b[0m\" 200 -\n"
     ]
    },
    {
     "name": "stdout",
     "output_type": "stream",
     "text": [
      "[0 0 0 0 0 0 0 0]\n",
      "[0 0 0 0 0 0 0 0]\n"
     ]
    },
    {
     "name": "stderr",
     "output_type": "stream",
     "text": [
      "127.0.0.1 - - [12/Oct/2019 02:19:34] \"\u001b[37mPOST /_dash-update-component HTTP/1.1\u001b[0m\" 200 -\n",
      "127.0.0.1 - - [12/Oct/2019 02:19:41] \"\u001b[37mPOST /_dash-update-component HTTP/1.1\u001b[0m\" 200 -\n",
      "127.0.0.1 - - [12/Oct/2019 02:19:41] \"\u001b[37mPOST /_dash-update-component HTTP/1.1\u001b[0m\" 200 -\n",
      "127.0.0.1 - - [12/Oct/2019 02:19:41] \"\u001b[37mPOST /_dash-update-component HTTP/1.1\u001b[0m\" 200 -\n"
     ]
    },
    {
     "name": "stdout",
     "output_type": "stream",
     "text": [
      "[3 3 7 2 5 5 4 2]\n",
      "[0 0 0 0 0 0 0 0]\n",
      "[0 0 0 0 0 0 0 0]\n"
     ]
    },
    {
     "name": "stderr",
     "output_type": "stream",
     "text": [
      "127.0.0.1 - - [12/Oct/2019 02:19:42] \"\u001b[37mPOST /_dash-update-component HTTP/1.1\u001b[0m\" 200 -\n"
     ]
    },
    {
     "name": "stdout",
     "output_type": "stream",
     "text": [
      "[3 3 0 0 0 0 0 0]\n"
     ]
    },
    {
     "name": "stderr",
     "output_type": "stream",
     "text": [
      "127.0.0.1 - - [12/Oct/2019 02:19:54] \"\u001b[37mPOST /_dash-update-component HTTP/1.1\u001b[0m\" 200 -\n"
     ]
    },
    {
     "name": "stdout",
     "output_type": "stream",
     "text": [
      "[1 1 1 1 4 1 1 0]\n"
     ]
    },
    {
     "name": "stderr",
     "output_type": "stream",
     "text": [
      "127.0.0.1 - - [12/Oct/2019 02:19:54] \"\u001b[37mPOST /_dash-update-component HTTP/1.1\u001b[0m\" 200 -\n",
      "127.0.0.1 - - [12/Oct/2019 02:19:55] \"\u001b[37mPOST /_dash-update-component HTTP/1.1\u001b[0m\" 200 -\n",
      "127.0.0.1 - - [12/Oct/2019 02:19:55] \"\u001b[37mPOST /_dash-update-component HTTP/1.1\u001b[0m\" 200 -\n"
     ]
    },
    {
     "name": "stdout",
     "output_type": "stream",
     "text": [
      "[10 10 25  6 15 12 12  0]\n",
      "[0 0 0 0 0 0 0 0]\n"
     ]
    },
    {
     "name": "stderr",
     "output_type": "stream",
     "text": [
      "127.0.0.1 - - [12/Oct/2019 02:19:55] \"\u001b[37mPOST /_dash-update-component HTTP/1.1\u001b[0m\" 200 -\n",
      "127.0.0.1 - - [12/Oct/2019 02:19:55] \"\u001b[37mPOST /_dash-update-component HTTP/1.1\u001b[0m\" 200 -\n"
     ]
    },
    {
     "name": "stdout",
     "output_type": "stream",
     "text": [
      "[0 0 0 0 0 0 0 0]\n",
      "[0 0 0 0 0 0 0 0]\n"
     ]
    },
    {
     "name": "stderr",
     "output_type": "stream",
     "text": [
      "127.0.0.1 - - [12/Oct/2019 02:19:55] \"\u001b[37mPOST /_dash-update-component HTTP/1.1\u001b[0m\" 200 -\n",
      "127.0.0.1 - - [12/Oct/2019 02:19:55] \"\u001b[37mPOST /_dash-update-component HTTP/1.1\u001b[0m\" 200 -\n"
     ]
    },
    {
     "name": "stdout",
     "output_type": "stream",
     "text": [
      "[0 0 0 0 0 0 0 0]\n",
      "[0 0 0 0 0 0 0 0]\n"
     ]
    },
    {
     "name": "stderr",
     "output_type": "stream",
     "text": [
      "127.0.0.1 - - [12/Oct/2019 02:19:55] \"\u001b[37mPOST /_dash-update-component HTTP/1.1\u001b[0m\" 200 -\n",
      "127.0.0.1 - - [12/Oct/2019 02:19:55] \"\u001b[37mPOST /_dash-update-component HTTP/1.1\u001b[0m\" 200 -\n"
     ]
    },
    {
     "name": "stdout",
     "output_type": "stream",
     "text": [
      "[0 0 0 0 0 0 0 0]\n",
      "[0 0 0 0 0 0 0 0]\n",
      "[2 2 5 0 3 2 4 0]\n"
     ]
    },
    {
     "name": "stderr",
     "output_type": "stream",
     "text": [
      "127.0.0.1 - - [12/Oct/2019 02:19:55] \"\u001b[37mPOST /_dash-update-component HTTP/1.1\u001b[0m\" 200 -\n",
      "127.0.0.1 - - [12/Oct/2019 02:19:59] \"\u001b[37mPOST /_dash-update-component HTTP/1.1\u001b[0m\" 200 -\n",
      "127.0.0.1 - - [12/Oct/2019 02:20:39] \"\u001b[37mPOST /_dash-update-component HTTP/1.1\u001b[0m\" 200 -\n",
      "127.0.0.1 - - [12/Oct/2019 02:20:39] \"\u001b[37mPOST /_dash-update-component HTTP/1.1\u001b[0m\" 200 -\n"
     ]
    },
    {
     "name": "stdout",
     "output_type": "stream",
     "text": [
      "[0 0 0 0 0 0 0 0]\n",
      "[0 0 0 0 0 0 0 0]\n"
     ]
    },
    {
     "name": "stderr",
     "output_type": "stream",
     "text": [
      "127.0.0.1 - - [12/Oct/2019 02:20:39] \"\u001b[37mPOST /_dash-update-component HTTP/1.1\u001b[0m\" 200 -\n",
      "127.0.0.1 - - [12/Oct/2019 02:20:40] \"\u001b[37mPOST /_dash-update-component HTTP/1.1\u001b[0m\" 200 -\n",
      "127.0.0.1 - - [12/Oct/2019 02:20:40] \"\u001b[37mPOST /_dash-update-component HTTP/1.1\u001b[0m\" 200 -\n"
     ]
    },
    {
     "name": "stdout",
     "output_type": "stream",
     "text": [
      "[0 0 0 0 0 0 0 0]\n",
      "[0 0 0 0 0 0 0 0]\n",
      "[0 0 0 0 0 0 0 0]\n"
     ]
    },
    {
     "name": "stderr",
     "output_type": "stream",
     "text": [
      "127.0.0.1 - - [12/Oct/2019 02:20:40] \"\u001b[37mPOST /_dash-update-component HTTP/1.1\u001b[0m\" 200 -\n",
      "127.0.0.1 - - [12/Oct/2019 02:20:40] \"\u001b[37mPOST /_dash-update-component HTTP/1.1\u001b[0m\" 200 -\n"
     ]
    },
    {
     "name": "stdout",
     "output_type": "stream",
     "text": [
      "[0 0 0 0 0 0 0 0]\n",
      "[1 1 0 1 0 0 0 0]\n"
     ]
    },
    {
     "name": "stderr",
     "output_type": "stream",
     "text": [
      "127.0.0.1 - - [12/Oct/2019 02:20:40] \"\u001b[37mPOST /_dash-update-component HTTP/1.1\u001b[0m\" 200 -\n"
     ]
    },
    {
     "name": "stdout",
     "output_type": "stream",
     "text": [
      "[1 1 1 0 0 0 0 0]\n"
     ]
    },
    {
     "name": "stderr",
     "output_type": "stream",
     "text": [
      "127.0.0.1 - - [12/Oct/2019 02:20:54] \"\u001b[37mPOST /_dash-update-component HTTP/1.1\u001b[0m\" 200 -\n",
      "127.0.0.1 - - [12/Oct/2019 02:20:57] \"\u001b[37mPOST /_dash-update-component HTTP/1.1\u001b[0m\" 200 -\n"
     ]
    }
   ],
   "source": [
    "webapp.run()"
   ]
  },
  {
   "cell_type": "code",
   "execution_count": 10,
   "metadata": {},
   "outputs": [
    {
     "data": {
      "text/plain": [
       "{'Keyword': {'REVISED': [(0, 2), (5, 1), (6, 1)],\n",
       "  'AGENDA': [(0, 11),\n",
       "   (1, 10),\n",
       "   (2, 12),\n",
       "   (3, 10),\n",
       "   (4, 11),\n",
       "   (5, 10),\n",
       "   (6, 10),\n",
       "   (7, 5)],\n",
       "  'THIS': [(0, 7), (1, 7), (2, 7), (3, 6), (4, 6), (5, 7), (6, 6), (7, 3)],\n",
       "  'WAS': [(0, 2), (1, 2), (2, 2), (3, 2), (4, 2), (5, 2), (6, 2), (7, 1)],\n",
       "  'POSTED': [(0, 3), (1, 3), (2, 3), (3, 2), (4, 2), (5, 2), (6, 2), (7, 1)],\n",
       "  'ON': [(0, 18),\n",
       "   (1, 15),\n",
       "   (2, 11),\n",
       "   (3, 11),\n",
       "   (4, 10),\n",
       "   (5, 11),\n",
       "   (6, 11),\n",
       "   (7, 4)],\n",
       "  'THE': [(0, 50),\n",
       "   (1, 46),\n",
       "   (2, 77),\n",
       "   (3, 30),\n",
       "   (4, 63),\n",
       "   (5, 52),\n",
       "   (6, 43),\n",
       "   (7, 15)],\n",
       "  'BULLETIN': [(0, 1), (1, 1), (2, 1), (3, 1), (4, 1), (5, 1), (6, 1), (7, 1)],\n",
       "  'BOARD': [(0, 2), (1, 2), (2, 2), (3, 2), (4, 1), (5, 1), (6, 1), (7, 1)],\n",
       "  'OR': [(0, 5), (1, 5), (2, 4), (3, 5), (4, 4), (5, 4), (6, 4)],\n",
       "  'WINDOW': [(0, 1), (1, 1), (2, 1), (3, 1), (4, 1), (5, 1), (6, 1), (7, 1)],\n",
       "  'IN': [(0, 8), (1, 8), (2, 10), (3, 7), (4, 8), (5, 8), (6, 8), (7, 3)],\n",
       "  'FRONT': [(0, 1), (1, 1), (2, 1), (3, 1), (4, 1), (5, 1), (6, 1)],\n",
       "  'OF': [(0, 35),\n",
       "   (1, 33),\n",
       "   (2, 54),\n",
       "   (3, 19),\n",
       "   (4, 43),\n",
       "   (5, 36),\n",
       "   (6, 33),\n",
       "   (7, 10)],\n",
       "  'CITY': [(0, 21),\n",
       "   (1, 20),\n",
       "   (2, 30),\n",
       "   (3, 18),\n",
       "   (4, 26),\n",
       "   (5, 23),\n",
       "   (6, 25),\n",
       "   (7, 9)],\n",
       "  'HALL': [(0, 1), (1, 1), (2, 1), (3, 1), (4, 1), (5, 1), (6, 1), (7, 1)],\n",
       "  'BY': [(0, 7), (1, 7), (2, 8), (3, 5), (4, 5), (5, 5), (6, 6), (7, 2)],\n",
       "  '5': [(0, 3), (1, 3), (2, 4), (3, 3), (4, 4), (5, 3), (6, 4), (7, 1)],\n",
       "  '00': [(0, 1), (1, 1), (2, 1), (3, 1), (4, 1), (5, 1), (6, 1), (7, 1)],\n",
       "  'PM': [(0, 2), (1, 2), (2, 2), (3, 2), (4, 2), (5, 2), (6, 2), (7, 2)],\n",
       "  '4TH': [(0, 1), (1, 1)],\n",
       "  'OCTOBER': [(0, 6), (1, 5), (4, 1)],\n",
       "  'ACCORDANCE': [(0, 2),\n",
       "   (1, 2),\n",
       "   (2, 2),\n",
       "   (3, 2),\n",
       "   (4, 2),\n",
       "   (5, 2),\n",
       "   (6, 2),\n",
       "   (7, 1)],\n",
       "  'WITH': [(0, 4), (1, 4), (2, 2), (3, 2), (4, 4), (5, 2), (6, 2), (7, 1)],\n",
       "  'GOVERNMENT': [(0, 3),\n",
       "   (1, 3),\n",
       "   (2, 1),\n",
       "   (3, 1),\n",
       "   (4, 1),\n",
       "   (5, 1),\n",
       "   (6, 1),\n",
       "   (7, 1)],\n",
       "  'CODE': [(0, 6), (1, 6), (2, 6), (3, 6), (4, 3), (5, 1), (6, 1), (7, 1)],\n",
       "  '54954': [(0, 1), (1, 1), (2, 1), (3, 1), (4, 1), (5, 1), (6, 1), (7, 1)],\n",
       "  '2': [(0, 6), (1, 6), (2, 18), (3, 4), (4, 8), (5, 6), (6, 10), (7, 4)],\n",
       "  'MATERIALS': [(0, 1),\n",
       "   (1, 1),\n",
       "   (2, 1),\n",
       "   (3, 1),\n",
       "   (4, 1),\n",
       "   (5, 1),\n",
       "   (6, 1),\n",
       "   (7, 1)],\n",
       "  'RELATED': [(0, 1), (1, 1), (2, 1), (3, 3), (4, 2), (5, 1), (6, 1), (7, 1)],\n",
       "  'TO': [(0, 25),\n",
       "   (1, 18),\n",
       "   (2, 40),\n",
       "   (3, 19),\n",
       "   (4, 35),\n",
       "   (5, 25),\n",
       "   (6, 23),\n",
       "   (7, 6)],\n",
       "  'AN': [(0, 4), (1, 4), (2, 4), (3, 2), (4, 2), (5, 2), (6, 4), (7, 1)],\n",
       "  'ITEM': [(0, 6), (1, 6), (2, 6), (3, 5), (4, 5), (5, 5), (6, 5), (7, 3)],\n",
       "  'SUBMITTED': [(0, 1),\n",
       "   (1, 1),\n",
       "   (2, 1),\n",
       "   (3, 1),\n",
       "   (4, 1),\n",
       "   (5, 1),\n",
       "   (6, 1),\n",
       "   (7, 1)],\n",
       "  'COUNCIL': [(0, 18),\n",
       "   (1, 15),\n",
       "   (2, 27),\n",
       "   (3, 21),\n",
       "   (4, 29),\n",
       "   (5, 22),\n",
       "   (6, 20),\n",
       "   (7, 6)],\n",
       "  'FOR': [(0, 12),\n",
       "   (1, 11),\n",
       "   (2, 10),\n",
       "   (3, 6),\n",
       "   (4, 16),\n",
       "   (5, 10),\n",
       "   (6, 11),\n",
       "   (7, 3)],\n",
       "  'BIGGS': [(0, 14),\n",
       "   (1, 14),\n",
       "   (2, 19),\n",
       "   (3, 12),\n",
       "   (4, 14),\n",
       "   (5, 12),\n",
       "   (6, 10),\n",
       "   (7, 6)],\n",
       "  'AFTER': [(0, 2), (1, 2), (2, 2), (3, 2), (4, 2), (5, 2), (6, 2), (7, 1)],\n",
       "  'DISTRIBUTION': [(0, 1),\n",
       "   (1, 1),\n",
       "   (2, 1),\n",
       "   (3, 1),\n",
       "   (4, 1),\n",
       "   (5, 1),\n",
       "   (6, 1),\n",
       "   (7, 1)],\n",
       "  'PACKET': [(0, 1), (1, 1), (2, 1), (3, 1), (4, 1), (5, 1), (6, 1), (7, 1)],\n",
       "  'ARE': [(0, 6), (1, 6), (2, 5), (3, 4), (4, 5), (5, 4), (6, 5), (7, 1)],\n",
       "  'AVAILABLE': [(0, 1),\n",
       "   (1, 1),\n",
       "   (2, 1),\n",
       "   (3, 1),\n",
       "   (4, 1),\n",
       "   (5, 1),\n",
       "   (6, 2),\n",
       "   (7, 1)],\n",
       "  'PUBLIC': [(0, 8),\n",
       "   (1, 8),\n",
       "   (2, 15),\n",
       "   (3, 8),\n",
       "   (4, 13),\n",
       "   (5, 12),\n",
       "   (6, 10),\n",
       "   (7, 4)],\n",
       "  'INSPECTION': [(0, 1),\n",
       "   (1, 1),\n",
       "   (2, 1),\n",
       "   (3, 1),\n",
       "   (4, 1),\n",
       "   (5, 1),\n",
       "   (6, 1),\n",
       "   (7, 1)],\n",
       "  'OFFICES': [(0, 1), (1, 1), (2, 1), (3, 1), (4, 1), (5, 1), (6, 1), (7, 1)],\n",
       "  'AT': [(0, 5), (1, 5), (2, 6), (3, 5), (4, 4), (5, 5), (6, 3), (7, 2)],\n",
       "  '465': [(0, 1), (1, 1), (2, 1), (3, 1), (4, 1), (5, 1), (6, 1), (7, 1)],\n",
       "  'C': [(0, 3), (1, 3), (2, 7), (3, 2), (4, 5), (5, 5), (6, 4), (7, 2)],\n",
       "  'STREET': [(0, 16),\n",
       "   (1, 16),\n",
       "   (2, 15),\n",
       "   (3, 1),\n",
       "   (4, 5),\n",
       "   (5, 5),\n",
       "   (6, 3),\n",
       "   (7, 2)],\n",
       "  'CA': [(0, 2), (1, 2), (2, 2), (3, 2), (4, 2), (5, 2), (6, 2), (7, 2)],\n",
       "  'DURING': [(0, 2), (1, 2), (2, 2), (3, 2), (4, 2), (5, 2), (6, 2), (7, 2)],\n",
       "  'NORMAL': [(0, 1), (1, 1), (2, 1), (3, 1), (4, 1), (5, 1), (6, 1), (7, 1)],\n",
       "  'BUSINESS': [(0, 1), (1, 1), (2, 1), (3, 1), (4, 2), (5, 1), (6, 1), (7, 1)],\n",
       "  'HOURS': [(0, 1), (1, 1), (2, 1), (3, 1), (4, 1), (5, 1), (6, 1), (7, 1)],\n",
       "  'MEETING': [(0, 5), (1, 5), (2, 5), (3, 4), (4, 5), (5, 4), (6, 4), (7, 3)],\n",
       "  'WILL': [(0, 3), (1, 2), (2, 2), (3, 2), (4, 2), (5, 2), (6, 3), (7, 2)],\n",
       "  'BE': [(0, 3), (1, 3), (2, 4), (3, 3), (4, 3), (5, 3), (6, 4), (7, 1)],\n",
       "  'HELD': [(0, 1), (1, 1), (2, 1), (3, 1), (4, 1), (5, 1), (6, 1), (7, 1)],\n",
       "  'UNIFIED': [(0, 2), (1, 2), (2, 2), (3, 2), (4, 1), (5, 1), (6, 1)],\n",
       "  'SCHOOL': [(0, 2), (1, 2), (2, 2), (3, 2), (4, 1), (5, 1), (6, 1)],\n",
       "  'DISTRICT': [(0, 2), (1, 2), (2, 3), (3, 2), (4, 2), (5, 1), (6, 1)],\n",
       "  'ROOM': [(0, 1), (1, 1), (2, 1), (3, 1)],\n",
       "  '300': [(0, 1), (1, 1), (2, 1), (3, 1)],\n",
       "  'B': [(0, 6), (1, 6), (2, 7), (3, 4), (4, 5), (5, 4), (6, 2)],\n",
       "  '6': [(0, 4), (1, 4), (2, 5), (3, 2), (4, 2), (5, 2), (6, 2), (7, 1)],\n",
       "  '30': [(0, 1), (1, 1), (2, 1), (3, 1), (4, 4), (5, 1), (6, 1), (7, 1)],\n",
       "  'TUESDAY': [(0, 1), (1, 1), (2, 1), (3, 1), (4, 1), (5, 1), (6, 1), (7, 1)],\n",
       "  '8': [(0, 4), (1, 4), (3, 1)],\n",
       "  '2019': [(0, 9), (1, 7), (2, 20), (3, 6), (4, 19), (5, 10), (6, 10), (7, 3)],\n",
       "  'REGULAR': [(0, 2), (1, 2), (2, 1), (3, 1), (4, 1), (5, 1), (6, 1)],\n",
       "  'CALLED': [(0, 1), (1, 1), (2, 1), (3, 1), (4, 1), (5, 1), (6, 1), (7, 1)],\n",
       "  'ORDER': [(0, 1), (1, 1), (2, 1), (3, 1), (4, 1), (5, 1), (6, 1), (7, 1)],\n",
       "  'PLEDGE': [(0, 1), (1, 1), (2, 1), (3, 1), (4, 1), (5, 1), (6, 1)],\n",
       "  'ALLEGIANCE': [(0, 1), (1, 1), (2, 1), (3, 1), (4, 1), (5, 1), (6, 1)],\n",
       "  'FLAG': [(0, 1), (1, 1), (2, 1), (3, 1), (4, 1), (5, 1), (6, 1)],\n",
       "  '1': [(0, 5), (1, 5), (2, 11), (3, 3), (4, 6), (5, 4), (6, 5), (7, 1)],\n",
       "  'COMMUNITY': [(0, 1), (1, 1), (2, 1), (3, 1), (4, 1), (5, 1), (6, 1)],\n",
       "  'PARTICIPATION': [(0, 1), (1, 1), (2, 1), (3, 1), (4, 1), (5, 1), (6, 1)],\n",
       "  'FORUM': [(0, 2), (1, 2), (2, 2), (3, 2), (4, 2), (5, 2), (6, 2)],\n",
       "  'MINUTE': [(0, 1), (1, 1), (2, 1), (3, 1), (4, 1), (5, 1), (6, 1)],\n",
       "  'LIMITATION': [(0, 1), (1, 1), (2, 1), (3, 1), (4, 2), (5, 1), (6, 1)],\n",
       "  'TIME': [(0, 1), (1, 1), (2, 1), (3, 1), (4, 1), (5, 2), (6, 1)],\n",
       "  'ANY': [(0, 4), (1, 4), (2, 3), (3, 3), (4, 3), (5, 3), (6, 3)],\n",
       "  'MEMBER': [(0, 3), (1, 3), (2, 3), (3, 2), (4, 2), (5, 2), (6, 2)],\n",
       "  'MAY': [(0, 3), (1, 2), (2, 4), (3, 2), (4, 2), (5, 4), (6, 8), (7, 3)],\n",
       "  'ADDRESS': [(0, 1), (1, 1), (2, 1), (3, 1), (4, 1), (5, 1), (6, 1)],\n",
       "  'MATTERS': [(0, 2), (1, 2), (2, 2), (3, 2), (4, 2), (5, 2), (6, 2)],\n",
       "  'WHICH': [(0, 1), (1, 1), (2, 1), (3, 1), (4, 1), (5, 1), (6, 2)],\n",
       "  'NOT': [(0, 4), (1, 4), (2, 4), (3, 3), (4, 3), (5, 4), (6, 3)],\n",
       "  'LISTED': [(0, 2), (1, 2), (2, 2), (3, 2), (4, 2), (5, 2), (6, 2)],\n",
       "  'DISCUSS': [(0, 1), (1, 1), (2, 1), (3, 1), (4, 1), (5, 1), (6, 2)],\n",
       "  'NOR': [(0, 1), (1, 1), (2, 1), (3, 1), (4, 1), (5, 1), (6, 1)],\n",
       "  'TAKE': [(0, 4), (1, 2), (2, 2), (3, 2), (4, 3), (5, 2), (6, 2)],\n",
       "  'ACTION': [(0, 14),\n",
       "   (1, 11),\n",
       "   (2, 10),\n",
       "   (3, 10),\n",
       "   (4, 9),\n",
       "   (5, 10),\n",
       "   (6, 10),\n",
       "   (7, 2)],\n",
       "  'PLEASE': [(0, 3), (1, 3), (2, 3), (3, 3), (4, 3), (5, 3), (6, 3), (7, 1)],\n",
       "  'LIMIT': [(0, 2), (1, 2), (2, 2), (3, 2), (4, 3), (5, 2), (6, 2), (7, 1)],\n",
       "  'YOUR': [(0, 2), (1, 2), (2, 2), (3, 2), (4, 2), (5, 2), (6, 2)],\n",
       "  'COMMENTS': [(0, 3), (1, 3), (2, 6), (3, 3), (4, 5), (5, 4), (6, 3), (7, 1)],\n",
       "  'FIVE': [(0, 2), (1, 2), (2, 2), (3, 2), (4, 2), (5, 2), (6, 2), (7, 1)],\n",
       "  'MINUTES': [(0, 3), (1, 3), (2, 3), (3, 3), (4, 3), (5, 3), (6, 3), (7, 1)],\n",
       "  'STATE': [(0, 2), (1, 2), (2, 2), (3, 2), (4, 2), (5, 2), (6, 3), (7, 1)],\n",
       "  'LAW': [(0, 1), (1, 1), (2, 1), (3, 1), (4, 1), (5, 1), (6, 1)],\n",
       "  'NO': [(0, 5), (1, 5), (2, 12), (3, 1), (4, 6), (5, 4), (6, 4), (7, 1)],\n",
       "  'SHALL': [(0, 1), (1, 1), (2, 1), (3, 1), (4, 1), (5, 1), (6, 1)],\n",
       "  'TAKEN': [(0, 2), (1, 2), (2, 1), (3, 1), (4, 1), (5, 1), (6, 1)],\n",
       "  'PRESENTED': [(0, 2),\n",
       "   (1, 2),\n",
       "   (2, 2),\n",
       "   (3, 2),\n",
       "   (4, 2),\n",
       "   (5, 2),\n",
       "   (6, 2),\n",
       "   (7, 1)],\n",
       "  'UNSCHEDULED': [(0, 1), (1, 1), (2, 1), (3, 1), (4, 1), (5, 1), (6, 1)],\n",
       "  'UNLESS': [(0, 3), (1, 3), (2, 3), (3, 3), (4, 3), (5, 3), (6, 3)],\n",
       "  'MAJORITY': [(0, 1), (1, 1), (2, 1), (3, 1), (4, 1), (5, 1), (6, 1)],\n",
       "  'VOTE': [(0, 3), (1, 3), (2, 2), (3, 2), (4, 2), (5, 2), (6, 2)],\n",
       "  'DETERMINES': [(0, 1), (1, 1), (2, 1), (3, 1), (4, 1), (5, 1), (6, 1)],\n",
       "  'THAT': [(0, 2), (1, 2), (2, 6), (3, 2), (4, 3), (5, 4), (6, 3)],\n",
       "  'EMERGENCY': [(0, 1), (1, 1), (2, 1), (3, 1), (4, 1), (5, 1), (6, 1)],\n",
       "  'SITUATION': [(0, 1), (1, 1), (2, 1), (3, 1), (4, 1), (5, 1), (6, 1)],\n",
       "  'EXISTS': [(0, 1), (1, 1), (2, 1), (3, 1), (4, 1), (5, 1), (6, 1)],\n",
       "  'TWO': [(0, 2), (1, 2), (2, 4), (3, 1), (4, 1), (5, 2), (6, 1)],\n",
       "  'THIRDS': [(0, 1), (1, 1), (2, 1), (3, 1), (4, 1), (5, 1), (6, 1)],\n",
       "  'FINDS': [(0, 1), (1, 1), (2, 1), (3, 1), (4, 1), (5, 1), (6, 1)],\n",
       "  'NEED': [(0, 1), (1, 1), (2, 1), (3, 1), (4, 1), (5, 1), (6, 1)],\n",
       "  'AROSE': [(0, 1), (1, 1), (2, 1), (3, 1), (4, 1), (5, 1), (6, 1)],\n",
       "  'ALL': [(0, 1), (1, 1), (2, 1), (3, 1), (4, 1), (5, 1), (6, 1)],\n",
       "  'VISITORS': [(0, 1), (1, 1), (2, 1), (3, 1), (4, 1), (5, 1), (6, 1)],\n",
       "  'REQUESTED': [(0, 2), (1, 2), (2, 2), (3, 2), (4, 2), (5, 2), (6, 2)],\n",
       "  'APPROACH': [(0, 1), (1, 1), (2, 1), (3, 1), (4, 1), (5, 1), (6, 1)],\n",
       "  'LECTERN': [(0, 1), (1, 1), (2, 1), (3, 1), (4, 1), (5, 1), (6, 1)],\n",
       "  'WHEN': [(0, 2), (1, 2), (2, 2), (3, 1), (4, 1), (5, 1), (6, 1)],\n",
       "  'RECOGNIZED': [(0, 1), (1, 1), (2, 1), (3, 1), (4, 1), (5, 1), (6, 1)],\n",
       "  'AND': [(0, 18),\n",
       "   (1, 10),\n",
       "   (2, 18),\n",
       "   (3, 7),\n",
       "   (4, 15),\n",
       "   (5, 12),\n",
       "   (6, 16),\n",
       "   (7, 1)],\n",
       "  'NAME': [(0, 1), (1, 1), (2, 1), (3, 1), (4, 1), (5, 1), (6, 1)],\n",
       "  'RECORD': [(0, 1), (1, 1), (2, 1), (3, 1), (4, 1), (5, 1), (6, 1)],\n",
       "  'IF': [(0, 1), (1, 1), (2, 1), (3, 1), (4, 1), (5, 1), (6, 1)],\n",
       "  'YOU': [(0, 1), (1, 1), (2, 1), (3, 1), (4, 1), (5, 1), (6, 1)],\n",
       "  'HAVE': [(0, 1), (1, 1), (2, 1), (3, 1), (4, 1), (5, 1), (6, 1)],\n",
       "  'A': [(0, 10), (1, 10), (2, 25), (3, 6), (4, 15), (5, 12), (6, 12)],\n",
       "  'CELL': [(0, 1), (1, 1), (2, 1), (3, 1), (4, 1), (5, 1), (6, 1)],\n",
       "  'PHONE': [(0, 1), (1, 1), (2, 1), (3, 1), (4, 1), (5, 1), (6, 1)],\n",
       "  'SET': [(0, 1), (1, 1), (2, 1), (3, 1), (4, 1), (5, 1), (6, 2)],\n",
       "  'IT': [(0, 3), (1, 3), (2, 3), (3, 2), (4, 2), (5, 2), (6, 2)],\n",
       "  'SILENT': [(0, 1), (1, 1), (2, 1), (3, 1), (4, 1), (5, 1), (6, 1)],\n",
       "  'CITIZEN': [(0, 1), (1, 1), (2, 1), (3, 1), (4, 1), (5, 1), (6, 1)],\n",
       "  'S': [(0, 4), (1, 4), (2, 3), (3, 2), (4, 3), (5, 3), (6, 3), (7, 1)],\n",
       "  'ANNOUNCE': [(0, 1), (1, 1), (2, 1), (3, 1), (4, 1), (5, 1), (6, 1), (7, 1)],\n",
       "  'OPPORTUNITY': [(0, 2),\n",
       "   (1, 2),\n",
       "   (2, 2),\n",
       "   (3, 2),\n",
       "   (4, 2),\n",
       "   (5, 2),\n",
       "   (6, 2),\n",
       "   (7, 2)],\n",
       "  'COMMENT': [(0, 3), (1, 3), (2, 3), (3, 3), (4, 3), (5, 3), (6, 3), (7, 3)],\n",
       "  'SOME': [(0, 1), (1, 1), (2, 1), (3, 1), (4, 1), (5, 1), (6, 1), (7, 1)],\n",
       "  'POINT': [(0, 1), (1, 1), (2, 1), (3, 1), (4, 1), (5, 1), (6, 1), (7, 1)],\n",
       "  'CONSIDERATION': [(0, 2),\n",
       "   (1, 2),\n",
       "   (2, 2),\n",
       "   (3, 2),\n",
       "   (4, 2),\n",
       "   (5, 2),\n",
       "   (6, 2),\n",
       "   (7, 2)],\n",
       "  'EACH': [(0, 1), (1, 1), (2, 1), (3, 1), (4, 1), (5, 2), (6, 1), (7, 1)],\n",
       "  'PER': [(0, 2), (1, 2), (2, 2), (3, 2), (4, 2), (5, 2), (6, 2), (7, 2)],\n",
       "  'PERSON': [(0, 1), (1, 1), (2, 1), (3, 1), (4, 1), (5, 1), (6, 1), (7, 1)],\n",
       "  'TOPIC': [(0, 1), (1, 1), (2, 1), (3, 1), (4, 1), (5, 1), (6, 1), (7, 1)],\n",
       "  'ONCE': [(0, 1), (1, 1), (2, 1), (3, 1), (4, 1), (5, 1), (6, 1), (7, 1)],\n",
       "  'PERIOD': [(0, 1), (1, 1), (2, 1), (3, 1), (4, 1), (5, 1), (6, 3), (7, 1)],\n",
       "  'IS': [(0, 8), (1, 7), (2, 13), (3, 8), (4, 10), (5, 9), (6, 7), (7, 2)],\n",
       "  'CLOSED': [(0, 2), (1, 2), (2, 1), (3, 1), (4, 1), (5, 1), (6, 1), (7, 1)],\n",
       "  'ASKED': [(0, 4), (1, 3), (2, 4), (3, 6), (4, 7), (5, 5), (6, 5), (7, 1)],\n",
       "  'REFRAIN': [(0, 1), (1, 1), (2, 1), (3, 1), (4, 1), (5, 1), (6, 1), (7, 1)],\n",
       "  'FROM': [(0, 1), (1, 1), (2, 5), (3, 1), (4, 4), (5, 3), (6, 1), (7, 1)],\n",
       "  'ALLOWING': [(0, 1), (1, 1), (2, 2), (3, 1), (4, 1), (5, 1), (6, 1), (7, 1)],\n",
       "  'CONTINUE': [(0, 1), (1, 1), (2, 1), (3, 1), (4, 1), (5, 1), (6, 1), (7, 1)],\n",
       "  'ITS': [(0, 3), (1, 1), (2, 2), (3, 1), (4, 2), (5, 1), (6, 1), (7, 1)],\n",
       "  'WITHOUT': [(0, 1), (1, 1), (2, 1), (3, 1), (4, 1), (5, 1), (6, 1), (7, 1)],\n",
       "  'INTERRUPTION': [(0, 1),\n",
       "   (1, 1),\n",
       "   (2, 1),\n",
       "   (3, 1),\n",
       "   (4, 1),\n",
       "   (5, 1),\n",
       "   (6, 1),\n",
       "   (7, 1)],\n",
       "  'CONSENT': [(0, 2), (1, 2), (2, 2), (3, 2), (4, 2), (5, 2), (6, 2)],\n",
       "  'CALENDAR': [(0, 2), (1, 2), (2, 2), (3, 2), (4, 2), (5, 4), (6, 2)],\n",
       "  'APPROVAL': [(0, 3), (1, 3), (2, 5), (3, 1), (4, 1), (5, 6), (6, 1)],\n",
       "  'WARRANTS': [(0, 1), (1, 1), (2, 1), (3, 1), (4, 1), (5, 1), (6, 1)],\n",
       "  '34318': [(0, 1), (1, 1)],\n",
       "  '34392': [(0, 1), (1, 1)],\n",
       "  'Z02238': [(0, 1), (1, 1)],\n",
       "  'Z02255': [(0, 1), (1, 1)],\n",
       "  'MONTH': [(0, 1), (1, 1), (2, 1), (4, 1), (5, 1), (6, 1)],\n",
       "  'SEPTEMBER': [(0, 3), (1, 3), (2, 7)],\n",
       "  'AMOUNT': [(0, 1), (1, 1), (2, 1), (3, 1), (4, 1), (5, 1), (6, 1)],\n",
       "  '399': [(0, 1), (1, 1)],\n",
       "  '221': [(0, 1), (1, 1)],\n",
       "  '45': [(0, 1), (1, 1)],\n",
       "  'APPROVE': [(0, 2), (1, 2), (2, 10), (3, 2), (4, 8), (5, 5), (6, 3)],\n",
       "  '10': [(0, 2), (1, 2), (2, 8), (4, 2), (6, 1)],\n",
       "  'ACKNOWLEDGE': [(0, 1), (1, 1), (2, 2), (4, 1), (5, 1), (6, 1)],\n",
       "  'RECEIPT': [(0, 1), (1, 1), (2, 3), (4, 1), (5, 1), (6, 1)],\n",
       "  'POLICE': [(0, 1), (1, 1), (2, 1)],\n",
       "  'REPORTS': [(0, 3), (1, 3), (2, 4), (3, 2), (4, 3), (5, 3), (6, 3)],\n",
       "  'D': [(0, 2), (1, 2), (2, 8), (3, 1), (4, 5), (5, 2), (6, 3)],\n",
       "  'ADOPT': [(0, 2), (1, 2), (5, 1)],\n",
       "  'ORDINANCE': [(0, 4), (1, 4), (2, 6)],\n",
       "  '418': [(0, 1), (1, 1), (2, 2)],\n",
       "  'READING': [(0, 2), (1, 2), (2, 6)],\n",
       "  'TITLE': [(0, 2), (1, 2), (2, 2)],\n",
       "  'ONLY': [(0, 2), (1, 2), (2, 2)],\n",
       "  'AMENDING': [(0, 1), (1, 1), (2, 1)],\n",
       "  'SECTION': [(0, 2), (1, 2), (2, 4), (3, 1), (4, 3)],\n",
       "  '25': [(0, 1), (1, 1), (2, 2), (3, 1)],\n",
       "  '055': [(0, 1), (1, 1), (2, 2), (3, 1)],\n",
       "  'MUNICIPAL': [(0, 3), (1, 3), (2, 5), (3, 5), (4, 2)],\n",
       "  'E': [(0, 3), (1, 3), (2, 2), (3, 1), (4, 1), (5, 1), (6, 1)],\n",
       "  '419': [(0, 1), (1, 1), (2, 2)],\n",
       "  'ADDING': [(0, 1), (1, 1), (2, 2)],\n",
       "  '50': [(0, 1), (1, 1), (2, 2)],\n",
       "  'RECOMMENDED': [(0, 1), (1, 1), (2, 1), (3, 1), (4, 1), (5, 1), (6, 2)],\n",
       "  'ITEMS': [(0, 1), (1, 1), (2, 1), (3, 1), (4, 1), (5, 1), (6, 1)],\n",
       "  'THROUGH': [(0, 1), (1, 1), (2, 2), (3, 1), (4, 1), (5, 1), (6, 1)],\n",
       "  'ACTED': [(0, 1), (1, 1), (2, 1), (3, 1), (4, 1), (5, 1), (6, 1)],\n",
       "  'SIMULTANEOUSLY': [(0, 1), (1, 1), (2, 1), (3, 1), (4, 1), (5, 1), (6, 1)],\n",
       "  'SEPARATE': [(0, 1), (1, 1), (2, 1), (3, 1), (4, 1), (5, 1), (6, 1)],\n",
       "  'ACTIONS': [(0, 1), (1, 1), (2, 1), (3, 1), (4, 2), (5, 1), (6, 1)],\n",
       "  'COUNCILMEMBER': [(0, 1), (1, 1), (2, 1), (3, 1), (4, 1), (5, 1), (6, 1)],\n",
       "  'AUDIENCE': [(0, 1), (1, 1), (2, 1), (3, 1), (4, 1), (5, 1), (6, 1)],\n",
       "  'MOTION': [(0, 1), (1, 1), (2, 1), (3, 1), (4, 1), (5, 1), (6, 1)],\n",
       "  '3': [(0, 4), (1, 3), (2, 6), (3, 3), (4, 6), (5, 4), (6, 3), (7, 2)],\n",
       "  'DEPARTMENT': [(0, 1), (1, 1), (2, 1), (3, 1), (4, 2), (5, 1), (6, 1)],\n",
       "  'PLANNING': [(0, 1), (1, 1), (2, 4), (3, 1), (4, 1), (5, 1), (6, 1)],\n",
       "  'MONTHLY': [(0, 2), (1, 2), (2, 2), (3, 2), (4, 2), (5, 2), (6, 2)],\n",
       "  'ACTIVITY': [(0, 2), (1, 2), (2, 2), (3, 2), (4, 2), (5, 2), (6, 2)],\n",
       "  'REPORT': [(0, 3), (1, 3), (2, 2), (3, 2), (4, 5), (5, 5), (6, 3)],\n",
       "  'PROJECT': [(0, 4), (1, 4), (2, 5), (3, 3), (4, 3), (5, 3), (6, 3), (7, 1)],\n",
       "  'UPDATES': [(0, 2), (1, 2), (2, 2), (3, 2), (4, 2), (5, 2), (6, 2)],\n",
       "  'PAGE': [(0, 2), (1, 2), (2, 4), (3, 2), (4, 3), (5, 2), (6, 2)],\n",
       "  'ENGINEERING': [(0, 1), (1, 1), (2, 1), (3, 1), (4, 1), (5, 1), (6, 1)],\n",
       "  'DISCUSSION': [(0, 6),\n",
       "   (1, 4),\n",
       "   (2, 8),\n",
       "   (3, 5),\n",
       "   (4, 7),\n",
       "   (5, 6),\n",
       "   (6, 6),\n",
       "   (7, 1)],\n",
       "  'FIRST': [(0, 5), (1, 5), (2, 9)],\n",
       "  'TRAFFIC': [(0, 3), (1, 3), (2, 3)],\n",
       "  'PARKING': [(0, 4), (1, 4), (2, 3), (3, 1)],\n",
       "  'BETWEEN': [(0, 1), (1, 1)],\n",
       "  'ALEUT': [(0, 1), (1, 1), (2, 2), (5, 2), (6, 1)],\n",
       "  'HAS': [(0, 5), (1, 5), (2, 3)],\n",
       "  'BEEN': [(0, 2), (1, 2), (2, 1)],\n",
       "  'WIDENED': [(0, 2), (1, 2), (2, 1)],\n",
       "  'WEST': [(0, 3), (1, 3), (2, 2)],\n",
       "  'SIDE': [(0, 5), (1, 5), (2, 4)],\n",
       "  'CONCRETE': [(0, 1), (1, 1)],\n",
       "  'CURB': [(0, 1), (1, 1)],\n",
       "  'GUTTER': [(0, 1), (1, 1)],\n",
       "  'SIDEWALK': [(0, 3), (1, 3)],\n",
       "  'EAST': [(0, 2), (1, 2), (2, 2)],\n",
       "  'IMPROVEMENTS': [(0, 3), (1, 3), (2, 1)],\n",
       "  'ALONG': [(0, 3), (1, 3), (2, 3)],\n",
       "  'BUT': [(0, 1), (1, 1), (2, 1)],\n",
       "  'ALLOWED': [(0, 1), (1, 1), (2, 1)],\n",
       "  'VEHICLES': [(0, 1), (1, 1), (2, 1)],\n",
       "  'PARKED': [(0, 1), (1, 1), (2, 1)],\n",
       "  'MAKES': [(0, 1), (1, 1), (2, 1)],\n",
       "  'REMAINING': [(0, 1), (1, 1), (2, 1)],\n",
       "  'PAVEMENT': [(0, 1), (1, 1), (2, 1), (5, 1)],\n",
       "  'TOO': [(0, 1), (1, 1)],\n",
       "  'NARROW': [(0, 1), (1, 1), (2, 1)],\n",
       "  'WAY': [(0, 1), (1, 1), (2, 1)],\n",
       "  'FLOW': [(0, 1), (1, 1), (2, 1)],\n",
       "  'RECOMMENDATION': [(0, 6),\n",
       "   (1, 4),\n",
       "   (2, 8),\n",
       "   (3, 5),\n",
       "   (4, 6),\n",
       "   (5, 5),\n",
       "   (6, 6),\n",
       "   (7, 1)],\n",
       "  'DIRECT': [(0, 5), (1, 4), (2, 1), (3, 5), (4, 2), (5, 1), (6, 3), (7, 1)],\n",
       "  'STAFF': [(0, 6), (1, 4), (2, 4), (3, 5), (4, 4), (5, 2), (6, 5), (7, 1)],\n",
       "  'UPRR': [(0, 5), (1, 5)],\n",
       "  'TRACK': [(0, 2), (1, 2)],\n",
       "  'CROSSING': [(0, 2), (1, 2)],\n",
       "  'PLANNED': [(0, 1), (1, 1)],\n",
       "  'ATP': [(0, 1), (1, 1)],\n",
       "  'SRTS': [(0, 1), (1, 1)],\n",
       "  'HOLD': [(0, 1), (1, 1)],\n",
       "  'PENDING': [(0, 1), (1, 1)],\n",
       "  'PERMIT': [(0, 1), (1, 1)],\n",
       "  'PROVIDED': [(0, 1), (1, 1)],\n",
       "  'COST': [(0, 3), (1, 3)],\n",
       "  'ESTIMATE': [(0, 1), (1, 1)],\n",
       "  'REQUIRED': [(0, 1), (1, 1), (2, 1)],\n",
       "  'UPGRADE': [(0, 1), (1, 1)],\n",
       "  'WORK': [(0, 1), (1, 1)],\n",
       "  'REQUESTING': [(0, 1), (1, 1), (2, 3), (4, 1), (5, 1)],\n",
       "  'PROPOSED': [(0, 1), (1, 1), (5, 1)],\n",
       "  'SHARE': [(0, 2), (1, 2)],\n",
       "  'AGREEMENT': [(0, 2), (1, 2), (2, 5), (4, 3), (5, 2), (6, 4)],\n",
       "  'REQUEST': [(0, 1), (1, 1)],\n",
       "  'SAFETY': [(0, 1), (1, 1), (2, 1), (3, 1), (4, 1), (5, 1), (6, 1)],\n",
       "  'VERBAL': [(0, 10), (1, 10), (2, 10), (3, 10), (4, 10), (5, 10), (6, 10)],\n",
       "  'UPDATE': [(0, 10), (1, 10), (2, 10), (3, 10), (4, 12), (5, 10), (6, 10)],\n",
       "  'WILKINSON': [(0, 5), (1, 5), (2, 5), (3, 5), (4, 5), (5, 5), (6, 5)],\n",
       "  'FLOOD': [(0, 1), (1, 1), (2, 1), (3, 1), (4, 1), (5, 1), (6, 1)],\n",
       "  'CONTROL': [(0, 1), (1, 1), (2, 1), (3, 1), (4, 1), (5, 1), (6, 1)],\n",
       "  'SHEPPARD': [(0, 3), (1, 3), (2, 3), (3, 3), (4, 3), (5, 3), (6, 3)],\n",
       "  'WORKS': [(0, 1), (1, 1), (2, 1), (3, 1), (4, 1), (5, 2), (6, 1)],\n",
       "  'THOMPSON': [(0, 2), (1, 2), (2, 2), (3, 2), (4, 2), (5, 2), (6, 2)],\n",
       "  'F': [(0, 1), (1, 1), (2, 1), (3, 1), (4, 1), (5, 1), (6, 1)],\n",
       "  'ELECTRIC': [(0, 1), (1, 1), (2, 1), (3, 1), (4, 1), (5, 1), (6, 1)],\n",
       "  'FRITH': [(0, 1), (1, 1), (2, 1), (3, 1), (4, 1), (5, 1), (6, 1)],\n",
       "  'G': [(0, 1), (1, 1), (2, 1), (3, 1), (4, 4), (5, 1), (6, 1)],\n",
       "  'BCAG': [(0, 1), (1, 1), (2, 1), (3, 1), (4, 1), (5, 1), (6, 1)],\n",
       "  'H': [(0, 1), (1, 1), (2, 1), (3, 1), (4, 1), (5, 1), (6, 1)],\n",
       "  'AIR': [(0, 1), (1, 1), (2, 1), (3, 1), (4, 1), (5, 2), (6, 1)],\n",
       "  'QUALITY': [(0, 1), (1, 1), (2, 4), (3, 1), (4, 2), (5, 2), (6, 1)],\n",
       "  'I': [(0, 1), (1, 1), (2, 1), (3, 1), (4, 1), (5, 1), (6, 1)],\n",
       "  'SOLID': [(0, 1), (1, 1), (2, 1), (3, 1), (4, 1), (5, 1), (6, 1)],\n",
       "  'WASTE': [(0, 1), (1, 1), (2, 1), (3, 1), (4, 1), (5, 1), (6, 1)],\n",
       "  'BASSETT': [(0, 1), (1, 1), (2, 1), (3, 1), (4, 1), (5, 1), (6, 1)],\n",
       "  'J': [(0, 1), (1, 1), (2, 1), (3, 1), (4, 1), (5, 1), (6, 1)],\n",
       "  'MOSQUITO': [(0, 1), (1, 1), (2, 1), (3, 1), (4, 1), (5, 1), (6, 1)],\n",
       "  'ABATEMENT': [(0, 1), (1, 1), (2, 1), (3, 1), (4, 1), (5, 1), (6, 1)],\n",
       "  'K': [(0, 1), (1, 1), (2, 1), (3, 1), (4, 1), (5, 1), (6, 1)],\n",
       "  'SCORE': [(0, 1), (1, 1), (2, 1), (3, 1), (4, 1), (5, 1), (6, 1)],\n",
       "  'L': [(0, 1), (1, 1), (2, 1), (3, 1), (4, 1), (5, 1), (6, 1)],\n",
       "  'LAFCO': [(0, 1), (1, 1), (2, 1), (3, 1), (4, 1), (5, 1), (6, 1)],\n",
       "  'M': [(0, 1), (1, 1), (2, 1), (3, 1), (4, 1), (5, 1), (6, 1)],\n",
       "  'N': [(0, 1), (1, 1), (2, 1), (3, 1), (4, 1), (5, 1), (6, 1)],\n",
       "  'OTHER': [(0, 1), (1, 1), (2, 1), (3, 1), (4, 1), (5, 1), (6, 1)],\n",
       "  'COMMISSION': [(0, 2), (1, 1), (2, 1), (3, 1), (4, 1), (5, 3), (6, 1)],\n",
       "  'O': [(0, 2), (1, 1), (2, 1), (3, 1), (4, 1), (5, 1), (6, 1)],\n",
       "  'ADMINISTRATOR': [(0, 2), (1, 2), (2, 1), (3, 1), (4, 2), (5, 1), (6, 3)],\n",
       "  'REVIEW': [(0, 2), (1, 2), (2, 3), (3, 7), (4, 2), (5, 4), (6, 3)],\n",
       "  'VEHICLE': [(0, 1), (1, 1), (3, 1)],\n",
       "  'RESTRICTIONS': [(0, 1), (1, 1), (3, 1)],\n",
       "  'BMC': [(0, 1), (1, 1), (3, 2)],\n",
       "  'CHAPTER': [(0, 1), (1, 1), (3, 2)],\n",
       "  '15': [(0, 1), (1, 1), (3, 1), (5, 1)],\n",
       "  'LIGHT': [(0, 1), (1, 1), (3, 1)],\n",
       "  'POLE': [(0, 1), (1, 1), (3, 1)],\n",
       "  'BANNERS': [(0, 2), (1, 2), (3, 2)],\n",
       "  'CONSIDER': [(0, 3), (1, 1), (3, 1), (4, 2), (5, 3), (6, 3)],\n",
       "  'AUTHORIZING': [(0, 1), (1, 1), (2, 1), (3, 1), (4, 2), (6, 1)],\n",
       "  'TEST': [(0, 1), (1, 1)],\n",
       "  'RUN': [(0, 1), (1, 1)],\n",
       "  'PLACEMENT': [(0, 1), (1, 1), (3, 1)],\n",
       "  'CERTAIN': [(0, 1), (1, 1), (3, 1), (5, 1), (6, 1)],\n",
       "  'STREETLIGHT': [(0, 1), (1, 1), (3, 1)],\n",
       "  'POLES': [(0, 1), (1, 1), (3, 1)],\n",
       "  'DELEGATES': [(0, 3)],\n",
       "  'POSITIONS': [(0, 2)],\n",
       "  'LEAGUE': [(0, 1), (4, 2)],\n",
       "  'CALIFORNIA': [(0, 1), (2, 3), (4, 3), (5, 3)],\n",
       "  'CITIES': [(0, 1), (4, 1)],\n",
       "  'POLICY': [(0, 1), (5, 1), (6, 1)],\n",
       "  'RESOLUTIONS': [(0, 2)],\n",
       "  'ANNUAL': [(0, 2), (4, 2)],\n",
       "  'CONFERENCE': [(0, 3), (1, 1)],\n",
       "  '16': [(0, 1), (2, 1), (4, 1)],\n",
       "  '18': [(0, 1), (4, 1)],\n",
       "  'RE': [(0, 1)],\n",
       "  'AFFIRM': [(0, 1)],\n",
       "  'DESIGNATED': [(0, 2), (1, 1)],\n",
       "  'VARIOUS': [(0, 2)],\n",
       "  'ADVISE': [(0, 1)],\n",
       "  'VOTING': [(0, 1), (4, 3)],\n",
       "  'AS': [(0, 4), (6, 1)],\n",
       "  '4': [(0, 3), (1, 2), (2, 5), (3, 2), (4, 5), (5, 3), (6, 2)],\n",
       "  'COMMITTEE': [(0, 1)],\n",
       "  'APPOINTMENTS': [(0, 3)],\n",
       "  'CURRENT': [(0, 1)],\n",
       "  'SCHEDULE': [(0, 1)],\n",
       "  'MEMBERS': [(0, 1)],\n",
       "  'BOARDS': [(0, 1), (3, 1)],\n",
       "  'COMMISSIONS': [(0, 1), (3, 1)],\n",
       "  'REASSIGN': [(0, 1)],\n",
       "  'NEEDED': [(0, 1)],\n",
       "  'DESIRED': [(0, 2)],\n",
       "  'MAKE': [(0, 1)],\n",
       "  'SUCH': [(0, 1)],\n",
       "  'INFORMATIONAL': [(0, 1), (1, 1), (2, 1), (3, 1), (4, 1), (5, 1), (6, 1)],\n",
       "  'SESSION': [(0, 2), (1, 2)],\n",
       "  'LABOR': [(0, 1), (1, 1)],\n",
       "  'NEGOTIATORS': [(0, 1), (1, 1)],\n",
       "  'PURSUANT': [(0, 2), (1, 2), (2, 3), (4, 1), (5, 1)],\n",
       "  '54957': [(0, 2), (1, 2)],\n",
       "  'AGENCY': [(0, 1), (1, 1)],\n",
       "  'REPRESENTATIVES': [(0, 1), (1, 1)],\n",
       "  'ATTORNEY': [(0, 1), (1, 1), (3, 1)],\n",
       "  'EMPLOYEE': [(0, 1), (1, 1)],\n",
       "  'ORGANIZATION': [(0, 1), (1, 1)],\n",
       "  'UPEC': [(0, 1), (1, 1)],\n",
       "  'LOCAL': [(0, 1), (1, 1)],\n",
       "  '792': [(0, 1), (1, 1)],\n",
       "  'RESUME': [(0, 1), (1, 1)],\n",
       "  'ANNOUNCEMENT': [(0, 1), (1, 1)],\n",
       "  'EXECUTIVE': [(0, 1), (1, 1)],\n",
       "  'MUST': [(0, 1), (1, 1)],\n",
       "  'ABSTENTION': [(0, 1), (1, 1)],\n",
       "  'EVERY': [(0, 1), (1, 1)],\n",
       "  'PRESENT': [(0, 1), (1, 1)],\n",
       "  '7': [(0, 1), (1, 1), (2, 1), (3, 1), (5, 2), (6, 2), (7, 1)],\n",
       "  'ADJOURNMENT': [(0, 1),\n",
       "   (1, 1),\n",
       "   (2, 1),\n",
       "   (3, 1),\n",
       "   (4, 1),\n",
       "   (5, 1),\n",
       "   (6, 1),\n",
       "   (7, 1)],\n",
       "  'ROBEN': [(0, 1), (1, 1), (2, 1), (3, 1), (4, 1), (5, 1), (6, 1), (7, 1)],\n",
       "  'BENISH': [(0, 1), (1, 1), (2, 1), (3, 1), (4, 1), (5, 1), (6, 1), (7, 1)],\n",
       "  'CLERK': [(0, 1), (1, 1), (2, 1), (3, 1), (4, 3), (5, 1), (6, 1), (7, 1)],\n",
       "  'DATE': [(0, 1), (1, 1), (2, 1), (3, 1), (4, 1), (5, 1), (6, 2), (7, 1)],\n",
       "  '6TH': [(2, 1)],\n",
       "  '34232': [(2, 1)],\n",
       "  '34317': [(2, 1)],\n",
       "  'Z02220': [(2, 1)],\n",
       "  'Z02237': [(2, 1)],\n",
       "  'AUGUST': [(2, 3), (3, 5)],\n",
       "  '607': [(2, 1)],\n",
       "  '345': [(2, 1)],\n",
       "  '85': [(2, 1)],\n",
       "  '13': [(2, 1), (3, 3), (6, 1)],\n",
       "  'ACCOUNTANT': [(2, 1), (4, 1), (5, 1), (6, 1)],\n",
       "  'HEARINGS': [(2, 1), (4, 1)],\n",
       "  'TENTATIVE': [(2, 6), (5, 3), (6, 1)],\n",
       "  'PARCEL': [(2, 10), (5, 5), (6, 1)],\n",
       "  'MAP': [(2, 6), (5, 3), (6, 1)],\n",
       "  '01': [(2, 2), (4, 2), (5, 2), (6, 1)],\n",
       "  'CASEY': [(2, 2)],\n",
       "  '3069': [(2, 1)],\n",
       "  'EIGHTH': [(2, 2)],\n",
       "  'APPLICANT': [(2, 3), (5, 1)],\n",
       "  'OWNER': [(2, 2), (5, 1)],\n",
       "  'DIVIDE': [(2, 2), (5, 1)],\n",
       "  'VACANT': [(2, 2)],\n",
       "  '0': [(2, 2), (5, 1)],\n",
       "  '26': [(2, 1)],\n",
       "  'ACRE': [(2, 2), (5, 1)],\n",
       "  'LOCATED': [(2, 2), (5, 1)],\n",
       "  'NORTHWEST': [(2, 2), (5, 1)],\n",
       "  'CORNER': [(2, 2), (5, 1)],\n",
       "  'STREETS': [(2, 2)],\n",
       "  'INTO': [(2, 2), (5, 1)],\n",
       "  'LOTS': [(2, 2), (5, 1)],\n",
       "  'PROPONENTS': [(2, 6), (4, 4), (5, 2)],\n",
       "  'OPPONENTS': [(2, 6), (4, 4), (5, 2)],\n",
       "  'REBUTTAL': [(2, 6), (4, 4), (5, 2)],\n",
       "  'OPEN': [(2, 3), (4, 3), (5, 1)],\n",
       "  'HEARING': [(2, 6), (4, 4), (5, 3), (6, 2)],\n",
       "  'CLOSE': [(2, 3), (4, 2), (5, 1)],\n",
       "  'MOVE': [(2, 3), (4, 2), (5, 2)],\n",
       "  'CATEGORICALLY': [(2, 3), (4, 1), (5, 1)],\n",
       "  'EXEMPT': [(2, 3), (4, 1), (5, 1)],\n",
       "  'ENVIRONMENTAL': [(2, 3), (4, 1), (5, 1)],\n",
       "  'ACT': [(2, 4), (4, 1), (5, 2), (6, 1)],\n",
       "  'CEQA': [(2, 3), (4, 1), (5, 1)],\n",
       "  'GUIDELINES': [(2, 2), (5, 1)],\n",
       "  'SECTIONS': [(2, 3), (5, 1)],\n",
       "  '15315': [(2, 2), (5, 1)],\n",
       "  'MINOR': [(2, 3), (4, 1), (5, 1)],\n",
       "  'LAND': [(2, 3), (4, 1), (5, 1)],\n",
       "  'DIVISIONS': [(2, 2), (5, 1)],\n",
       "  '15332': [(2, 2), (5, 1)],\n",
       "  'FILL': [(2, 2), (5, 1)],\n",
       "  'DEVELOPMENT': [(2, 2), (5, 1)],\n",
       "  'PROJECTS': [(2, 2), (5, 1), (6, 3)],\n",
       "  'RESOLUTION': [(2, 9), (4, 8), (5, 4), (6, 2)],\n",
       "  '20': [(2, 2), (6, 1)],\n",
       "  'APPROVING': [(2, 3), (4, 3), (5, 1)],\n",
       "  'ASSESSOR': [(2, 2), (5, 1)],\n",
       "  'NUMBER': [(2, 2), (5, 1)],\n",
       "  '001': [(2, 3), (4, 2), (5, 2), (6, 1)],\n",
       "  '173': [(2, 1)],\n",
       "  '006': [(2, 1)],\n",
       "  'SUBJECT': [(2, 2), (5, 1)],\n",
       "  'FINDINGS': [(2, 2), (5, 1)],\n",
       "  'CONDITIONS': [(2, 2), (5, 1)],\n",
       "  '02': [(2, 4)],\n",
       "  'DHAMI': [(2, 4), (5, 2), (6, 1)],\n",
       "  '330': [(2, 1)],\n",
       "  '29': [(2, 1)],\n",
       "  '21': [(2, 1)],\n",
       "  '150': [(2, 1)],\n",
       "  '074': [(2, 1)],\n",
       "  'VARIANCE': [(2, 2), (4, 2)],\n",
       "  '444': [(2, 2)],\n",
       "  'VARY': [(2, 1), (4, 1)],\n",
       "  'FOOT': [(2, 2)],\n",
       "  'REAR': [(2, 1)],\n",
       "  'YARD': [(2, 1)],\n",
       "  'SETBACK': [(2, 1), (4, 1)],\n",
       "  'R': [(2, 1), (4, 1)],\n",
       "  'MEDIUM': [(2, 1)],\n",
       "  'DENSITY': [(2, 1)],\n",
       "  'RESIDENTIAL': [(2, 2)],\n",
       "  'ZONING': [(2, 1), (4, 1)],\n",
       "  'UP': [(2, 2)],\n",
       "  'ENCROACHMENT': [(2, 1)],\n",
       "  'ALLOW': [(2, 2), (4, 1), (6, 1)],\n",
       "  'CONSTRUCTION': [(2, 1), (4, 1)],\n",
       "  'DUPLEX': [(2, 1)],\n",
       "  'STRUCTURE': [(2, 1)],\n",
       "  'PERCENT': [(2, 1)],\n",
       "  'ADDITIONAL': [(2, 1)],\n",
       "  'LOT': [(2, 1), (5, 1)],\n",
       "  'COVERAGE': [(2, 1)],\n",
       "  'UNDER': [(2, 1), (4, 1)],\n",
       "  '15305': [(2, 1), (4, 1)],\n",
       "  'ALTERATIONS': [(2, 1), (4, 1)],\n",
       "  'USE': [(2, 1), (4, 1), (5, 1), (6, 2)],\n",
       "  'LIMITATIONS': [(2, 1)],\n",
       "  '22': [(2, 1)],\n",
       "  'APN': [(2, 1), (4, 2), (5, 1), (6, 1)],\n",
       "  '151': [(2, 1)],\n",
       "  '017': [(2, 1)],\n",
       "  'SUBMIT': [(2, 1)],\n",
       "  'SB': [(2, 3), (6, 3)],\n",
       "  'GRANT': [(2, 1), (6, 3)],\n",
       "  'APPLICATION': [(2, 2)],\n",
       "  'REVIEWED': [(2, 1)],\n",
       "  'OPTIONAL': [(2, 1)],\n",
       "  'ACTIVITIES': [(2, 1)],\n",
       "  'FUNDED': [(2, 1), (6, 1)],\n",
       "  'GRANTS': [(2, 2)],\n",
       "  'PROGRAM': [(2, 2)],\n",
       "  '23': [(2, 1)],\n",
       "  'FUNDS': [(2, 1)],\n",
       "  'LARGE': [(2, 1)],\n",
       "  'LITTLE': [(2, 1)],\n",
       "  'AMEND': [(2, 1), (6, 1)],\n",
       "  'CONDUCT': [(2, 2)],\n",
       "  'APPROVED': [(2, 2)],\n",
       "  'RELATING': [(2, 1)],\n",
       "  'ATTENDANCE': [(2, 1), (3, 2), (4, 2)],\n",
       "  'SUSTAINABLE': [(2, 1), (5, 1)],\n",
       "  'GROUNDWATER': [(2, 1), (5, 1)],\n",
       "  'MANAGEMENT': [(2, 1), (5, 1)],\n",
       "  'SGMA': [(2, 1), (5, 1)],\n",
       "  'COOPERATIVE': [(2, 3), (5, 2)],\n",
       "  'AUTHORIZE': [(2, 2), (4, 2), (5, 1), (6, 1)],\n",
       "  'MAYOR': [(2, 2), (6, 1)],\n",
       "  'SIGN': [(2, 2), (6, 1)],\n",
       "  '9TH': [(3, 1)],\n",
       "  'SREET': [(3, 1)],\n",
       "  '33996': [(3, 1)],\n",
       "  '34058': [(3, 1)],\n",
       "  '34231': [(3, 1)],\n",
       "  'Z02202': [(3, 1)],\n",
       "  'Z02219': [(3, 1)],\n",
       "  'MONTHS': [(3, 1)],\n",
       "  'JUNE': [(3, 1), (4, 5), (5, 5)],\n",
       "  'JULY': [(3, 2), (4, 7)],\n",
       "  '184': [(3, 1)],\n",
       "  '702': [(3, 1)],\n",
       "  '91': [(3, 1)],\n",
       "  '9': [(3, 1), (4, 4), (6, 1)],\n",
       "  'PROTOCOL': [(3, 2)],\n",
       "  'MEETINGS': [(3, 1), (6, 1)],\n",
       "  'ASSIGNED': [(3, 1)],\n",
       "  'APPOINTED': [(3, 1)],\n",
       "  'COMMITTEES': [(3, 1)],\n",
       "  'SIGNS': [(3, 1)],\n",
       "  'CMC': [(3, 1)],\n",
       "  '14': [(3, 1), (5, 2), (6, 3)],\n",
       "  '170': [(3, 1)],\n",
       "  'P': [(3, 1)],\n",
       "  'MARIJUANA': [(3, 1)],\n",
       "  '5TH': [(4, 1)],\n",
       "  'CHAMBERS': [(4, 1), (5, 1), (6, 1), (7, 1)],\n",
       "  '3016': [(4, 1), (5, 1), (6, 1), (7, 1)],\n",
       "  'SIXTH': [(4, 1), (5, 1), (6, 1), (7, 1)],\n",
       "  'MOLINARI': [(4, 2)],\n",
       "  '493': [(4, 3)],\n",
       "  '013': [(4, 2), (5, 2), (6, 1)],\n",
       "  '023': [(4, 2)],\n",
       "  'APPLICANTS': [(4, 1)],\n",
       "  'OWNERS': [(4, 1)],\n",
       "  'SPACE': [(4, 1)],\n",
       "  'REQUIREMENTS': [(4, 1)],\n",
       "  'INSTALLATION': [(4, 1)],\n",
       "  'MANUFACTURED': [(4, 1)],\n",
       "  'HOME': [(4, 1), (5, 1)],\n",
       "  'RECOMMENDATIONS': [(4, 1)],\n",
       "  '19': [(4, 1), (5, 1)],\n",
       "  'DELINQUENT': [(4, 5)],\n",
       "  'CHARGES': [(4, 5)],\n",
       "  'CONFIRM': [(4, 1)],\n",
       "  'EFFECTUATE': [(4, 2)],\n",
       "  'LEVY': [(4, 2)],\n",
       "  'CONFIRMING': [(4, 1)],\n",
       "  'NECESSARY': [(4, 1), (6, 1)],\n",
       "  'IDENTIFIED': [(4, 1)],\n",
       "  '034055': [(4, 1)],\n",
       "  '034057': [(4, 1)],\n",
       "  '034093': [(4, 1)],\n",
       "  '034100': [(4, 1)],\n",
       "  'Z02185': [(4, 1)],\n",
       "  'Z02201': [(4, 1)],\n",
       "  '38': [(4, 1)],\n",
       "  '857': [(4, 1)],\n",
       "  '84': [(4, 1)],\n",
       "  '11': [(4, 1), (5, 3)],\n",
       "  '17': [(4, 1)],\n",
       "  'ADOPTING': [(4, 1), (5, 1)],\n",
       "  'GANN': [(4, 1)],\n",
       "  'APPROPRIATION': [(4, 1)],\n",
       "  'FISCAL': [(4, 4), (5, 2), (6, 1)],\n",
       "  'YEAR': [(4, 2), (5, 4), (6, 1)],\n",
       "  '2020': [(4, 5), (5, 2)],\n",
       "  'CONTRACT': [(4, 2)],\n",
       "  'AUDIT': [(4, 3), (5, 1), (6, 4)],\n",
       "  'SERVICES': [(4, 4), (6, 3)],\n",
       "  'CONTRACTING': [(4, 1)],\n",
       "  'YEARS': [(4, 2)],\n",
       "  'ENDING': [(4, 2)],\n",
       "  '2021': [(4, 2)],\n",
       "  'FIRE': [(4, 3)],\n",
       "  'PROTECTION': [(4, 3)],\n",
       "  'CALFIRE': [(4, 2)],\n",
       "  'FORESTRY': [(4, 1)],\n",
       "  '2CA04401': [(4, 1)],\n",
       "  '05': [(4, 2)],\n",
       "  'SEWERS': [(4, 2)],\n",
       "  'CONCEPT': [(4, 1)],\n",
       "  'COMPREHENSIVE': [(4, 1)],\n",
       "  'RULES': [(4, 2), (5, 2), (6, 3)],\n",
       "  'DESIGNATION': [(4, 1)],\n",
       "  'DELEGATE': [(4, 3)],\n",
       "  'ALTERNATES': [(4, 3)],\n",
       "  'DESIGNATE': [(4, 2)],\n",
       "  'SCHEDULED': [(4, 1)],\n",
       "  '7TH': [(5, 1)],\n",
       "  'PRESENTATION': [(5, 1), (6, 1)],\n",
       "  '2017': [(5, 1), (6, 1)],\n",
       "  '2018': [(5, 5), (6, 2)],\n",
       "  '580': [(5, 1), (6, 1)],\n",
       "  '185': [(5, 2), (6, 1)],\n",
       "  '27': [(5, 1)],\n",
       "  'ELEVENTH': [(5, 1)],\n",
       "  'PURPOSES': [(5, 1)],\n",
       "  'DEVELOPING': [(5, 1)],\n",
       "  'SINGLE': [(5, 1)],\n",
       "  'FAMILY': [(5, 1)],\n",
       "  'NEW': [(5, 1)],\n",
       "  '033952': [(5, 1)],\n",
       "  '034054': [(5, 1)],\n",
       "  'Z02167': [(5, 1)],\n",
       "  'Z02184': [(5, 1)],\n",
       "  '402': [(5, 1)],\n",
       "  '977': [(5, 1)],\n",
       "  'EQUIPMENT': [(5, 4)],\n",
       "  'PURCHASE': [(5, 2)],\n",
       "  'AUTHORIZATION': [(5, 1)],\n",
       "  'CURRENTLY': [(5, 1)],\n",
       "  'LACKS': [(5, 1)],\n",
       "  'PERFORM': [(5, 1)],\n",
       "  'PROPER': [(5, 1)],\n",
       "  'ASPHALT': [(5, 1)],\n",
       "  'REPAIRS': [(5, 1)],\n",
       "  'REPAIR': [(5, 1), (6, 1)],\n",
       "  'COMPACTION': [(5, 1)],\n",
       "  'ROLLER': [(5, 1)],\n",
       "  'COMPRESSOR': [(5, 1)],\n",
       "  'TACK': [(5, 1)],\n",
       "  'OIL': [(5, 1)],\n",
       "  'MACHINE': [(5, 1)],\n",
       "  'EXCEED': [(5, 1)],\n",
       "  '65': [(5, 1)],\n",
       "  '000': [(5, 1)],\n",
       "  'BUILDING': [(5, 1)],\n",
       "  'RESERVE': [(5, 1)],\n",
       "  'FUND': [(5, 1), (6, 1), (7, 1)],\n",
       "  'POWER': [(5, 3)],\n",
       "  'SOURCE': [(5, 3)],\n",
       "  'DISCLOSURE': [(5, 3), (6, 3)],\n",
       "  'ENERGY': [(5, 2)],\n",
       "  'DRAFT': [(5, 3)],\n",
       "  'BUDGET': [(5, 4), (6, 1)],\n",
       "  'ENTITLED': [(5, 1)],\n",
       "  'PARK': [(5, 2), (6, 3)],\n",
       "  'REGULATIONS': [(5, 2), (6, 2)],\n",
       "  'ESTABLISHMENT': [(5, 2), (6, 2)],\n",
       "  'RESERVATIONS': [(5, 2), (6, 2)],\n",
       "  'AREAS': [(5, 1), (6, 1)],\n",
       "  'PARKS': [(5, 1), (6, 1)],\n",
       "  'FACILITIES': [(5, 1)],\n",
       "  '10TH': [(6, 1)],\n",
       "  'DAY': [(6, 1), (7, 1)],\n",
       "  'CANCELED': [(6, 1)],\n",
       "  'DUE': [(6, 1)],\n",
       "  'PROCEDURAL': [(6, 1)],\n",
       "  'NOTICING': [(6, 1)],\n",
       "  'ERROR': [(6, 1)],\n",
       "  'CONTINUED': [(6, 1)],\n",
       "  'NEXT': [(6, 1)],\n",
       "  '033868': [(6, 1)],\n",
       "  '033951': [(6, 1)],\n",
       "  'Z02149': [(6, 1)],\n",
       "  'Z02166': [(6, 1)],\n",
       "  'APRIL': [(6, 2)],\n",
       "  '520': [(6, 1)],\n",
       "  '538': [(6, 1)],\n",
       "  '94': [(6, 1)],\n",
       "  'INCORPORATE': [(6, 1)],\n",
       "  'LIST': [(6, 1)],\n",
       "  'ROAD': [(6, 1)],\n",
       "  'ACCOUNTABILITY': [(6, 1)],\n",
       "  'SUMMARY': [(6, 1)],\n",
       "  'AWARDS': [(6, 1)],\n",
       "  'INTENDED': [(6, 1)],\n",
       "  'PREPARATION': [(6, 1)],\n",
       "  'ADOPTION': [(6, 1)],\n",
       "  'IMPLEMENTATION': [(6, 1)],\n",
       "  'PLANS': [(6, 1)],\n",
       "  'STREAMLINE': [(6, 1)],\n",
       "  'HOUSING': [(6, 2)],\n",
       "  'APPROVALS': [(6, 1)],\n",
       "  'ACCELERATE': [(6, 1)],\n",
       "  'PRODUCTION': [(6, 1)],\n",
       "  'RECOMMENDS': [(6, 1)],\n",
       "  'OPTIONS': [(6, 1)],\n",
       "  'OUTLINED': [(6, 1)],\n",
       "  'PROVIDE': [(6, 1)],\n",
       "  'DIRECTION': [(6, 1)],\n",
       "  'PURSUE': [(6, 1)],\n",
       "  'WASTEWATER': [(6, 2), (7, 2)],\n",
       "  'TREATMENT': [(6, 2), (7, 1)],\n",
       "  'PLANT': [(6, 2), (7, 2)],\n",
       "  'UPGRADES': [(6, 2), (7, 2)],\n",
       "  'PHASE': [(6, 2), (7, 2)],\n",
       "  'CLEAN': [(6, 1), (7, 1)],\n",
       "  'WATER': [(6, 1), (7, 1)],\n",
       "  'REVOLVING': [(6, 1), (7, 1)],\n",
       "  'CWSRF': [(6, 1), (7, 1)],\n",
       "  '06': [(6, 1), (7, 1)],\n",
       "  '7884': [(6, 1), (7, 1)],\n",
       "  '110': [(6, 1), (7, 1)],\n",
       "  'RFP': [(6, 3)],\n",
       "  'ISSUING': [(6, 1)],\n",
       "  'ISSUE': [(6, 1)],\n",
       "  'DESTRUCTION': [(6, 3)],\n",
       "  'RECORDS': [(6, 2)],\n",
       "  'SECURITY': [(6, 2)],\n",
       "  'VIDEO': [(6, 2)],\n",
       "  'SETTING': [(6, 1)],\n",
       "  'MINIMUM': [(6, 2)],\n",
       "  'RETENTION': [(6, 2)],\n",
       "  'REGARDING': [(6, 2)],\n",
       "  'DAYS': [(6, 1)],\n",
       "  'AUTOMATIC': [(6, 1)],\n",
       "  'NCPA': [(6, 3)],\n",
       "  'NON': [(6, 3)],\n",
       "  'UPDATED': [(6, 1)],\n",
       "  'EXHIBITS': [(6, 1)],\n",
       "  'FORMULATION': [(6, 1)],\n",
       "  'REGISTRATION': [(6, 1)],\n",
       "  'METHODOLOGY': [(6, 1)],\n",
       "  'RATES': [(6, 1)],\n",
       "  'NOTICE': [(7, 1)],\n",
       "  '3RD': [(7, 1)],\n",
       "  'SPECIAL': [(7, 3)],\n",
       "  'TREAMENT': [(7, 1)]}}"
      ]
     },
     "execution_count": 10,
     "metadata": {},
     "output_type": "execute_result"
    }
   ],
   "source": [
    "webapp.documents.index"
   ]
  },
  {
   "cell_type": "code",
   "execution_count": null,
   "metadata": {},
   "outputs": [],
   "source": []
  }
 ],
 "metadata": {
  "kernelspec": {
   "display_name": "py37",
   "language": "python",
   "name": "py37"
  },
  "language_info": {
   "codemirror_mode": {
    "name": "ipython",
    "version": 3
   },
   "file_extension": ".py",
   "mimetype": "text/x-python",
   "name": "python",
   "nbconvert_exporter": "python",
   "pygments_lexer": "ipython3",
   "version": "3.7.3"
  }
 },
 "nbformat": 4,
 "nbformat_minor": 2
}
