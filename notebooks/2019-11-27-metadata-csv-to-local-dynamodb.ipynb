{
 "cells": [
  {
   "cell_type": "code",
   "execution_count": 1,
   "metadata": {},
   "outputs": [],
   "source": [
    "import pandas as pd\n",
    "import numpy as np\n",
    "import boto3\n",
    "from  tqdm import tqdm"
   ]
  },
  {
   "cell_type": "code",
   "execution_count": 2,
   "metadata": {},
   "outputs": [],
   "source": [
    "metadata_path = '~/Dropbox/projects/autolocal/data/index/metadata.csv'\n",
    "metadata = pd.read_csv(metadata_path).drop(columns=['Unnamed: 0.1'])\n",
    "metadata = metadata.rename(columns={'Unnamed: 0': 'doc_id'})"
   ]
  },
  {
   "cell_type": "code",
   "execution_count": 3,
   "metadata": {},
   "outputs": [
    {
     "data": {
      "text/html": [
       "<div>\n",
       "<style scoped>\n",
       "    .dataframe tbody tr th:only-of-type {\n",
       "        vertical-align: middle;\n",
       "    }\n",
       "\n",
       "    .dataframe tbody tr th {\n",
       "        vertical-align: top;\n",
       "    }\n",
       "\n",
       "    .dataframe thead th {\n",
       "        text-align: right;\n",
       "    }\n",
       "</style>\n",
       "<table border=\"1\" class=\"dataframe\">\n",
       "  <thead>\n",
       "    <tr style=\"text-align: right;\">\n",
       "      <th></th>\n",
       "      <th>doc_id</th>\n",
       "      <th>city</th>\n",
       "      <th>committee</th>\n",
       "      <th>date</th>\n",
       "      <th>doc_type</th>\n",
       "      <th>meeting_type</th>\n",
       "      <th>url</th>\n",
       "      <th>local_path_pdf</th>\n",
       "      <th>local_path_txt</th>\n",
       "      <th>doc_format</th>\n",
       "    </tr>\n",
       "  </thead>\n",
       "  <tbody>\n",
       "    <tr>\n",
       "      <th>0</th>\n",
       "      <td>Cupertino_2019-10-29_Legislative-Review-Commit...</td>\n",
       "      <td>Cupertino</td>\n",
       "      <td>Legislative Review Committee</td>\n",
       "      <td>2019-10-29</td>\n",
       "      <td>Agenda</td>\n",
       "      <td>NaN</td>\n",
       "      <td>https://cupertino.legistar.com/View.ashx?M=A&amp;I...</td>\n",
       "      <td>../data/docs/cupertino/Cupertino_2019-10-29_Le...</td>\n",
       "      <td>../data/docs/cupertino/Cupertino_2019-10-29_Le...</td>\n",
       "      <td>pdf</td>\n",
       "    </tr>\n",
       "    <tr>\n",
       "      <th>1</th>\n",
       "      <td>Cupertino_2019-10-28_Planning-Commission_Agenda</td>\n",
       "      <td>Cupertino</td>\n",
       "      <td>Planning Commission</td>\n",
       "      <td>2019-10-28</td>\n",
       "      <td>Agenda</td>\n",
       "      <td>NaN</td>\n",
       "      <td>https://cupertino.legistar.com/View.ashx?M=A&amp;I...</td>\n",
       "      <td>../data/docs/cupertino/Cupertino_2019-10-28_Pl...</td>\n",
       "      <td>../data/docs/cupertino/Cupertino_2019-10-28_Pl...</td>\n",
       "      <td>pdf</td>\n",
       "    </tr>\n",
       "    <tr>\n",
       "      <th>2</th>\n",
       "      <td>Cupertino_2019-10-24_Administrative-Hearing_Ag...</td>\n",
       "      <td>Cupertino</td>\n",
       "      <td>Administrative Hearing</td>\n",
       "      <td>2019-10-24</td>\n",
       "      <td>Agenda</td>\n",
       "      <td>NaN</td>\n",
       "      <td>https://cupertino.legistar.com/View.ashx?M=A&amp;I...</td>\n",
       "      <td>../data/docs/cupertino/Cupertino_2019-10-24_Ad...</td>\n",
       "      <td>../data/docs/cupertino/Cupertino_2019-10-24_Ad...</td>\n",
       "      <td>pdf</td>\n",
       "    </tr>\n",
       "    <tr>\n",
       "      <th>3</th>\n",
       "      <td>Cupertino_2019-10-24_Sustainability-Commission...</td>\n",
       "      <td>Cupertino</td>\n",
       "      <td>Sustainability Commission</td>\n",
       "      <td>2019-10-24</td>\n",
       "      <td>Agenda</td>\n",
       "      <td>NaN</td>\n",
       "      <td>https://cupertino.legistar.com/View.ashx?M=A&amp;I...</td>\n",
       "      <td>../data/docs/cupertino/Cupertino_2019-10-24_Su...</td>\n",
       "      <td>../data/docs/cupertino/Cupertino_2019-10-24_Su...</td>\n",
       "      <td>pdf</td>\n",
       "    </tr>\n",
       "    <tr>\n",
       "      <th>4</th>\n",
       "      <td>Cupertino_2019-10-23_Teen-Commission_Agenda</td>\n",
       "      <td>Cupertino</td>\n",
       "      <td>Teen Commission</td>\n",
       "      <td>2019-10-23</td>\n",
       "      <td>Agenda</td>\n",
       "      <td>NaN</td>\n",
       "      <td>https://cupertino.legistar.com/View.ashx?M=A&amp;I...</td>\n",
       "      <td>../data/docs/cupertino/Cupertino_2019-10-23_Te...</td>\n",
       "      <td>../data/docs/cupertino/Cupertino_2019-10-23_Te...</td>\n",
       "      <td>pdf</td>\n",
       "    </tr>\n",
       "  </tbody>\n",
       "</table>\n",
       "</div>"
      ],
      "text/plain": [
       "                                              doc_id       city  \\\n",
       "0  Cupertino_2019-10-29_Legislative-Review-Commit...  Cupertino   \n",
       "1    Cupertino_2019-10-28_Planning-Commission_Agenda  Cupertino   \n",
       "2  Cupertino_2019-10-24_Administrative-Hearing_Ag...  Cupertino   \n",
       "3  Cupertino_2019-10-24_Sustainability-Commission...  Cupertino   \n",
       "4        Cupertino_2019-10-23_Teen-Commission_Agenda  Cupertino   \n",
       "\n",
       "                      committee        date doc_type  meeting_type  \\\n",
       "0  Legislative Review Committee  2019-10-29   Agenda           NaN   \n",
       "1           Planning Commission  2019-10-28   Agenda           NaN   \n",
       "2        Administrative Hearing  2019-10-24   Agenda           NaN   \n",
       "3     Sustainability Commission  2019-10-24   Agenda           NaN   \n",
       "4               Teen Commission  2019-10-23   Agenda           NaN   \n",
       "\n",
       "                                                 url  \\\n",
       "0  https://cupertino.legistar.com/View.ashx?M=A&I...   \n",
       "1  https://cupertino.legistar.com/View.ashx?M=A&I...   \n",
       "2  https://cupertino.legistar.com/View.ashx?M=A&I...   \n",
       "3  https://cupertino.legistar.com/View.ashx?M=A&I...   \n",
       "4  https://cupertino.legistar.com/View.ashx?M=A&I...   \n",
       "\n",
       "                                      local_path_pdf  \\\n",
       "0  ../data/docs/cupertino/Cupertino_2019-10-29_Le...   \n",
       "1  ../data/docs/cupertino/Cupertino_2019-10-28_Pl...   \n",
       "2  ../data/docs/cupertino/Cupertino_2019-10-24_Ad...   \n",
       "3  ../data/docs/cupertino/Cupertino_2019-10-24_Su...   \n",
       "4  ../data/docs/cupertino/Cupertino_2019-10-23_Te...   \n",
       "\n",
       "                                      local_path_txt doc_format  \n",
       "0  ../data/docs/cupertino/Cupertino_2019-10-29_Le...        pdf  \n",
       "1  ../data/docs/cupertino/Cupertino_2019-10-28_Pl...        pdf  \n",
       "2  ../data/docs/cupertino/Cupertino_2019-10-24_Ad...        pdf  \n",
       "3  ../data/docs/cupertino/Cupertino_2019-10-24_Su...        pdf  \n",
       "4  ../data/docs/cupertino/Cupertino_2019-10-23_Te...        pdf  "
      ]
     },
     "execution_count": 3,
     "metadata": {},
     "output_type": "execute_result"
    }
   ],
   "source": [
    "metadata.head()"
   ]
  },
  {
   "cell_type": "code",
   "execution_count": 9,
   "metadata": {},
   "outputs": [],
   "source": [
    "dynamodb = boto3.resource('dynamodb', endpoint_url='http://localhost:8000')\n",
    "table = dynamodb.Table('autolocal-documents')"
   ]
  },
  {
   "cell_type": "code",
   "execution_count": 10,
   "metadata": {},
   "outputs": [],
   "source": [
    "table_args = {\n",
    "    'TableName': 'autolocal-documents',\n",
    "    'KeySchema': [\n",
    "        {\n",
    "            'AttributeName': 'doc_id',\n",
    "            'KeyType': 'HASH'\n",
    "        }\n",
    "    ],\n",
    "    'AttributeDefinitions': [\n",
    "        {\n",
    "            'AttributeName': 'doc_id',\n",
    "            'AttributeType': 'S'\n",
    "        }        \n",
    "    ],\n",
    "    'ProvisionedThroughput':\n",
    "    {\n",
    "        'ReadCapacityUnits': 5,\n",
    "        'WriteCapacityUnits': 5\n",
    "    }\n",
    "}\n",
    "table = dynamodb.create_table(**table_args)"
   ]
  },
  {
   "cell_type": "code",
   "execution_count": 11,
   "metadata": {},
   "outputs": [],
   "source": [
    "def row2item(row):\n",
    "    row = dict(row)\n",
    "    item = {}\n",
    "    for k,v in row.items():\n",
    "        if k in ['local_path_pdf', 'local_path_txt']:\n",
    "            v = v[8:]\n",
    "        if isinstance(v, str):\n",
    "            item[k] = v\n",
    "        elif np.isnan(v):\n",
    "            pass\n",
    "    return item"
   ]
  },
  {
   "cell_type": "code",
   "execution_count": 12,
   "metadata": {
    "scrolled": true
   },
   "outputs": [
    {
     "name": "stderr",
     "output_type": "stream",
     "text": [
      "31678it [01:09, 456.50it/s]\n"
     ]
    }
   ],
   "source": [
    "with table.batch_writer() as batch:\n",
    "    for i, row in tqdm(metadata.iterrows()):\n",
    "        item = row2item(row)\n",
    "        batch.put_item(Item=item)"
   ]
  },
  {
   "cell_type": "code",
   "execution_count": 62,
   "metadata": {},
   "outputs": [
    {
     "data": {
      "text/plain": [
       "'docs/cupertino/Cupertino_2019-10-29_Legislative-Review-Committee_Agenda.txt'"
      ]
     },
     "execution_count": 62,
     "metadata": {},
     "output_type": "execute_result"
    }
   ],
   "source": [
    "s = '../data/docs/cupertino/Cupertino_2019-10-29_Legislative-Review-Committee_Agenda.txt'\n",
    "s[8:]"
   ]
  },
  {
   "cell_type": "code",
   "execution_count": 40,
   "metadata": {},
   "outputs": [
    {
     "ename": "SyntaxError",
     "evalue": "invalid syntax (<ipython-input-40-e806202a7fbb>, line 1)",
     "output_type": "error",
     "traceback": [
      "\u001b[0;36m  File \u001b[0;32m\"<ipython-input-40-e806202a7fbb>\"\u001b[0;36m, line \u001b[0;32m1\u001b[0m\n\u001b[0;31m    with table.batch_writer() as batch\u001b[0m\n\u001b[0m                                      ^\u001b[0m\n\u001b[0;31mSyntaxError\u001b[0m\u001b[0;31m:\u001b[0m invalid syntax\n"
     ]
    }
   ],
   "source": [
    "with table.batch_writer() as batch:\n",
    "    for "
   ]
  },
  {
   "cell_type": "code",
   "execution_count": null,
   "metadata": {},
   "outputs": [],
   "source": []
  }
 ],
 "metadata": {
  "kernelspec": {
   "display_name": "autolocal",
   "language": "python",
   "name": "autolocal"
  },
  "language_info": {
   "codemirror_mode": {
    "name": "ipython",
    "version": 3
   },
   "file_extension": ".py",
   "mimetype": "text/x-python",
   "name": "python",
   "nbconvert_exporter": "python",
   "pygments_lexer": "ipython3",
   "version": "3.7.5"
  }
 },
 "nbformat": 4,
 "nbformat_minor": 2
}
