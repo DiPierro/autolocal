{
 "cells": [
  {
   "cell_type": "code",
   "execution_count": 5,
   "metadata": {},
   "outputs": [
    {
     "name": "stdout",
     "output_type": "stream",
     "text": [
      "<class 'list'>\n",
      "121352 searchable keywords\n"
     ]
    }
   ],
   "source": [
    "import os\n",
    "import urllib\n",
    "\n",
    "import pandas as pd\n",
    "import numpy as np\n",
    "\n",
    "from autolocal import DocumentManager"
   ]
  },
  {
   "cell_type": "code",
   "execution_count": 6,
   "metadata": {},
   "outputs": [],
   "source": [
    "legistar_document_dir = '../data/scraping/scraped_tables'\n",
    "doc_list_dir = '../data/scraping/document_lists'"
   ]
  },
  {
   "cell_type": "code",
   "execution_count": 7,
   "metadata": {},
   "outputs": [],
   "source": [
    "documents = DocumentManager()"
   ]
  },
  {
   "cell_type": "markdown",
   "metadata": {},
   "source": [
    "## Assemble list of documents to download"
   ]
  },
  {
   "cell_type": "code",
   "execution_count": 12,
   "metadata": {},
   "outputs": [],
   "source": [
    "from copy import deepcopy\n",
    "\n",
    "def extract_doc_list(legistar_table_fname):\n",
    "    city_name = documents._parse_city_dir(legistar_table_fname[:-4])\n",
    "    doc_list_path = os.path.join(doc_list_dir, '{}.csv'.format(legistar_table_fname[:-4]))\n",
    "    print('City: {}'.format(city_name))\n",
    "    \n",
    "    # read csv\n",
    "    parse_dates = 'Meeting Date Text'\n",
    "    df = pd.read_csv(os.path.join(legistar_document_dir, legistar_table_fname), parse_dates=[parse_dates])\n",
    "    print(' ...found {} meeting records'.format(len(df)))\n",
    "#     print('Columns:')\n",
    "#     print(df.columns)\n",
    "    \n",
    "    doc_list = []\n",
    "    for i, row in df.iterrows():\n",
    "        data = {\n",
    "            'city': city_name,\n",
    "            'date': row['Meeting Date Text'],\n",
    "            'committee': row['Name Text'],\n",
    "            'doc_format': 'pdf',\n",
    "        }        \n",
    "        url_col_pairs = [\n",
    "            ('Agenda', 'Agenda URL'),\n",
    "            ('Minutes', 'Minutes URL'),\n",
    "            ('Minutes', 'Official Minutes URL')\n",
    "        ]\n",
    "        for doc_type, url_col in url_col_pairs:\n",
    "            try:\n",
    "                url = row[url_col]\n",
    "                if isinstance(url, str):\n",
    "                    row_data = deepcopy(data)\n",
    "                    row_data['url'] = url\n",
    "                    row_data['doc_type'] = doc_type\n",
    "                    doc_list.append(row_data)\n",
    "            except:\n",
    "                pass\n",
    "                \n",
    "    print(' ...found {} documents'.format(len(doc_list)))\n",
    "    print('')\n",
    "\n",
    "    # save new csv\n",
    "    #FOR TESTING: pd.DataFrame(doc_list).head(5).to_csv(doc_list_path)   \n",
    "    pd.DataFrame(doc_list).to_csv(doc_list_path)   \n",
    "    \n",
    "    return doc_list "
   ]
  },
  {
   "cell_type": "code",
   "execution_count": 13,
   "metadata": {
    "scrolled": false
   },
   "outputs": [
    {
     "name": "stdout",
     "output_type": "stream",
     "text": [
      "City: Mountain View\n",
      " ...found 648 meeting records\n",
      " ...found 908 documents\n",
      "\n",
      "City: San Jose\n",
      " ...found 728 meeting records\n",
      " ...found 764 documents\n",
      "\n",
      "City: Burlingame\n",
      " ...found 481 meeting records\n",
      " ...found 422 documents\n",
      "\n",
      "City: Santa Clara\n",
      " ...found 413 meeting records\n",
      " ...found 505 documents\n",
      "\n",
      "City: Mtc\n",
      " ...found 2540 meeting records\n",
      " ...found 3135 documents\n",
      "\n",
      "City: South San Francisco\n",
      " ...found 563 meeting records\n",
      " ...found 489 documents\n",
      "\n",
      "City: Hayward\n",
      " ...found 1289 meeting records\n",
      " ...found 1648 documents\n",
      "\n",
      "City: Hercules\n",
      " ...found 212 meeting records\n",
      " ...found 297 documents\n",
      "\n",
      "City: Oakland\n",
      " ...found 3809 meeting records\n",
      " ...found 4988 documents\n",
      "\n",
      "City: Stockton\n",
      " ...found 712 meeting records\n",
      " ...found 714 documents\n",
      "\n",
      "City: Cupertino\n",
      " ...found 2139 meeting records\n",
      " ...found 3208 documents\n",
      "\n",
      "City: Sunnyvale\n",
      " ...found 1417 meeting records\n",
      " ...found 2010 documents\n",
      "\n",
      "City: San Francisco\n",
      " ...found 3431 meeting records\n",
      " ...found 6226 documents\n",
      "\n",
      "City: Alameda\n",
      " ...found 2864 meeting records\n",
      " ...found 4698 documents\n",
      "\n",
      "City: San Leandro\n",
      " ...found 1476 meeting records\n",
      " ...found 2223 documents\n",
      "\n",
      "City: San Mateo County\n",
      " ...found 371 meeting records\n",
      " ...found 297 documents\n",
      "\n",
      "Found 32532 documents in total\n"
     ]
    }
   ],
   "source": [
    "# iterate \n",
    "legistar_table_fnames = os.listdir(legistar_document_dir)\n",
    "num_docs = 0\n",
    "for legistar_table_fname in legistar_table_fnames:\n",
    "    doc_list = extract_doc_list(legistar_table_fname)\n",
    "    num_docs = num_docs + len(doc_list)\n",
    "    \n",
    "print('Found {} documents in total'.format(num_docs))"
   ]
  },
  {
   "cell_type": "markdown",
   "metadata": {},
   "source": [
    "## Download documents"
   ]
  },
  {
   "cell_type": "code",
   "execution_count": 14,
   "metadata": {},
   "outputs": [
    {
     "data": {
      "text/plain": [
       "['../data/scraping/document_lists/Mountain-View.csv',\n",
       " '../data/scraping/document_lists/San-Jose.csv',\n",
       " '../data/scraping/document_lists/burlingame.csv',\n",
       " '../data/scraping/document_lists/Santa-Clara.csv',\n",
       " '../data/scraping/document_lists/mtc.csv',\n",
       " '../data/scraping/document_lists/South-San-Francisco.csv',\n",
       " '../data/scraping/document_lists/hayward.csv',\n",
       " '../data/scraping/document_lists/hercules.csv',\n",
       " '../data/scraping/document_lists/oakland.csv',\n",
       " '../data/scraping/document_lists/stockton.csv',\n",
       " '../data/scraping/document_lists/cupertino.csv',\n",
       " '../data/scraping/document_lists/sunnyvale.csv',\n",
       " '../data/scraping/document_lists/San-Francisco.csv',\n",
       " '../data/scraping/document_lists/alameda.csv',\n",
       " '../data/scraping/document_lists/San-Leandro.csv',\n",
       " '../data/scraping/document_lists/San-Mateo-County.csv']"
      ]
     },
     "execution_count": 14,
     "metadata": {},
     "output_type": "execute_result"
    }
   ],
   "source": [
    "doc_list_paths = [os.path.join(doc_list_dir, f) for f in os.listdir(doc_list_dir)]\n",
    "doc_list_paths"
   ]
  },
  {
   "cell_type": "code",
   "execution_count": 24,
   "metadata": {},
   "outputs": [],
   "source": [
    "doc_list_paths = [\n",
    "    '../data/scraping/document_lists/cupertino.csv',\n",
    "    '../data/scraping/document_lists/sunnyvale.csv',\n",
    "    '../data/scraping/document_lists/hayward.csv',  \n",
    "    '../data/scraping/document_lists/Mountain-View.csv',    \n",
    "    '../data/scraping/document_lists/Santa-Clara.csv',    \n",
    "    '../data/scraping/document_lists/San-Jose.csv',    \n",
    "]\n",
    "\n",
    "doc_list_paths = [\n",
    " '../data/scraping/document_lists/mtc.csv',    \n",
    "]\n",
    "\n",
    "doc_list_paths = [\n",
    "    '../data/scraping/document_lists/burlingame.csv',\n",
    "    '../data/scraping/document_lists/South-San-Francisco.csv',    \n",
    "    '../data/scraping/document_lists/stockton.csv',\n",
    "    '../data/scraping/document_lists/San-Mateo-County.csv',    \n",
    "    '../data/scraping/document_lists/San-Francisco.csv',\n",
    "    '../data/scraping/document_lists/alameda.csv',    \n",
    "    '../data/scraping/document_lists/oakland.csv', \n",
    "    '../data/scraping/document_lists/San-Leandro.csv',\n",
    "]"
   ]
  },
  {
   "cell_type": "code",
   "execution_count": 25,
   "metadata": {
    "scrolled": false
   },
   "outputs": [
    {
     "name": "stderr",
     "output_type": "stream",
     "text": [
      "\r",
      "0it [00:00, ?it/s]"
     ]
    },
    {
     "name": "stdout",
     "output_type": "stream",
     "text": [
      "document already added: Burlingame_2019-10-28_Planning-Commission_Agenda\n",
      "document already added: Burlingame_2019-10-22_City-Council_Agenda\n",
      "document already added: Burlingame_2019-10-21_City-Council_Agenda\n",
      "document already added: Burlingame_2019-10-17_Parks-&-Recreation-Commission_Agenda\n",
      "document already added: Burlingame_2019-10-15_Planning-Commission_Agenda\n"
     ]
    },
    {
     "name": "stderr",
     "output_type": "stream",
     "text": [
      "\r",
      "6it [00:04,  1.23it/s]"
     ]
    },
    {
     "name": "stdout",
     "output_type": "stream",
     "text": [
      "added document: Burlingame_2019-10-15_Library-Board-Of-Trustees_Agenda\n"
     ]
    },
    {
     "name": "stderr",
     "output_type": "stream",
     "text": [
      "\r",
      "7it [00:09,  1.88s/it]"
     ]
    },
    {
     "name": "stdout",
     "output_type": "stream",
     "text": [
      "added document: Burlingame_2019-10-10_Traffic-Safety-And-Parking-Commission_Agenda\n"
     ]
    },
    {
     "name": "stderr",
     "output_type": "stream",
     "text": [
      "\r",
      "8it [00:12,  2.37s/it]"
     ]
    },
    {
     "name": "stdout",
     "output_type": "stream",
     "text": [
      "added document: Burlingame_2019-10-07_City-Council_Agenda\n"
     ]
    },
    {
     "name": "stderr",
     "output_type": "stream",
     "text": [
      "\r",
      "9it [00:16,  2.65s/it]"
     ]
    },
    {
     "name": "stdout",
     "output_type": "stream",
     "text": [
      "added document: Burlingame_2019-10-03_Beautification-Commission_Agenda\n"
     ]
    },
    {
     "name": "stderr",
     "output_type": "stream",
     "text": [
      "\r",
      "10it [00:19,  2.94s/it]"
     ]
    },
    {
     "name": "stdout",
     "output_type": "stream",
     "text": [
      "added document: Burlingame_2019-09-23_Planning-Commission_Agenda\n"
     ]
    },
    {
     "name": "stderr",
     "output_type": "stream",
     "text": [
      "\r",
      "11it [00:23,  3.14s/it]"
     ]
    },
    {
     "name": "stdout",
     "output_type": "stream",
     "text": [
      "added document: Burlingame_2019-09-19_Parks-&-Recreation-Commission_Agenda\n"
     ]
    },
    {
     "name": "stderr",
     "output_type": "stream",
     "text": [
      "\r",
      "12it [00:26,  3.16s/it]"
     ]
    },
    {
     "name": "stdout",
     "output_type": "stream",
     "text": [
      "added document: Burlingame_2019-09-18_City-Council_Agenda\n"
     ]
    },
    {
     "name": "stderr",
     "output_type": "stream",
     "text": [
      "\r",
      "13it [00:29,  3.19s/it]"
     ]
    },
    {
     "name": "stdout",
     "output_type": "stream",
     "text": [
      "added document: Burlingame_2019-09-17_Library-Board-Of-Trustees_Agenda\n"
     ]
    },
    {
     "name": "stderr",
     "output_type": "stream",
     "text": [
      "\r",
      "14it [00:33,  3.26s/it]"
     ]
    },
    {
     "name": "stdout",
     "output_type": "stream",
     "text": [
      "added document: Burlingame_2019-09-16_City-Council_Agenda\n"
     ]
    },
    {
     "name": "stderr",
     "output_type": "stream",
     "text": [
      "\r",
      "15it [00:36,  3.32s/it]"
     ]
    },
    {
     "name": "stdout",
     "output_type": "stream",
     "text": [
      "added document: Burlingame_2019-09-12_Traffic-Safety-And-Parking-Commission_Agenda\n"
     ]
    },
    {
     "name": "stderr",
     "output_type": "stream",
     "text": [
      "\r",
      "16it [00:40,  3.44s/it]"
     ]
    },
    {
     "name": "stdout",
     "output_type": "stream",
     "text": [
      "added document: Burlingame_2019-09-09_Planning-Commission_Agenda\n"
     ]
    },
    {
     "name": "stderr",
     "output_type": "stream",
     "text": [
      "\r",
      "17it [00:43,  3.40s/it]"
     ]
    },
    {
     "name": "stdout",
     "output_type": "stream",
     "text": [
      "added document: Burlingame_2019-09-05_Beautification-Commission_Agenda\n"
     ]
    },
    {
     "name": "stderr",
     "output_type": "stream",
     "text": [
      "\r",
      "18it [00:47,  3.47s/it]"
     ]
    },
    {
     "name": "stdout",
     "output_type": "stream",
     "text": [
      "added document: Burlingame_2019-09-03_City-Council_Agenda\n"
     ]
    },
    {
     "name": "stderr",
     "output_type": "stream",
     "text": [
      "\r",
      "19it [00:51,  3.59s/it]"
     ]
    },
    {
     "name": "stdout",
     "output_type": "stream",
     "text": [
      "added document: Burlingame_2019-08-26_Planning-Commission_Agenda\n"
     ]
    },
    {
     "name": "stderr",
     "output_type": "stream",
     "text": [
      "\r",
      "20it [00:54,  3.50s/it]"
     ]
    },
    {
     "name": "stdout",
     "output_type": "stream",
     "text": [
      "added document: Burlingame_2019-08-20_Library-Board-Of-Trustees_Agenda\n"
     ]
    },
    {
     "ename": "KeyboardInterrupt",
     "evalue": "",
     "output_type": "error",
     "traceback": [
      "\u001b[0;31m---------------------------------------------------------------------------\u001b[0m",
      "\u001b[0;31mKeyboardInterrupt\u001b[0m                         Traceback (most recent call last)",
      "\u001b[0;32m<ipython-input-25-8ded50e67aa6>\u001b[0m in \u001b[0;36m<module>\u001b[0;34m\u001b[0m\n\u001b[1;32m      1\u001b[0m \u001b[0;32mfor\u001b[0m \u001b[0mp\u001b[0m \u001b[0;32min\u001b[0m \u001b[0mdoc_list_paths\u001b[0m\u001b[0;34m:\u001b[0m\u001b[0;34m\u001b[0m\u001b[0;34m\u001b[0m\u001b[0m\n\u001b[0;32m----> 2\u001b[0;31m     \u001b[0mdocuments\u001b[0m\u001b[0;34m.\u001b[0m\u001b[0madd_docs_from_csv\u001b[0m\u001b[0;34m(\u001b[0m\u001b[0mp\u001b[0m\u001b[0;34m)\u001b[0m\u001b[0;34m\u001b[0m\u001b[0;34m\u001b[0m\u001b[0m\n\u001b[0m",
      "\u001b[0;32m~/Dropbox/projects/autolocal/autolocal/document_manager.py\u001b[0m in \u001b[0;36madd_docs_from_csv\u001b[0;34m(self, csv_path, pass_fields, **kwargs)\u001b[0m\n\u001b[1;32m    144\u001b[0m         \u001b[0mdocs\u001b[0m \u001b[0;34m=\u001b[0m \u001b[0mpd\u001b[0m\u001b[0;34m.\u001b[0m\u001b[0mread_csv\u001b[0m\u001b[0;34m(\u001b[0m\u001b[0mcsv_path\u001b[0m\u001b[0;34m,\u001b[0m \u001b[0;34m**\u001b[0m\u001b[0mkwargs\u001b[0m\u001b[0;34m)\u001b[0m\u001b[0;34m\u001b[0m\u001b[0;34m\u001b[0m\u001b[0m\n\u001b[1;32m    145\u001b[0m         \u001b[0;32mfor\u001b[0m \u001b[0m_\u001b[0m\u001b[0;34m,\u001b[0m \u001b[0mrow\u001b[0m \u001b[0;32min\u001b[0m \u001b[0mtqdm\u001b[0m\u001b[0;34m(\u001b[0m\u001b[0mdocs\u001b[0m\u001b[0;34m.\u001b[0m\u001b[0miterrows\u001b[0m\u001b[0;34m(\u001b[0m\u001b[0;34m)\u001b[0m\u001b[0;34m)\u001b[0m\u001b[0;34m:\u001b[0m\u001b[0;34m\u001b[0m\u001b[0;34m\u001b[0m\u001b[0m\n\u001b[0;32m--> 146\u001b[0;31m             \u001b[0mself\u001b[0m\u001b[0;34m.\u001b[0m\u001b[0madd_doc\u001b[0m\u001b[0;34m(\u001b[0m\u001b[0mrow\u001b[0m\u001b[0;34m)\u001b[0m\u001b[0;34m\u001b[0m\u001b[0;34m\u001b[0m\u001b[0m\n\u001b[0m\u001b[1;32m    147\u001b[0m         \u001b[0;32mpass\u001b[0m\u001b[0;34m\u001b[0m\u001b[0;34m\u001b[0m\u001b[0m\n\u001b[1;32m    148\u001b[0m \u001b[0;34m\u001b[0m\u001b[0m\n",
      "\u001b[0;32m~/Dropbox/projects/autolocal/autolocal/document_manager.py\u001b[0m in \u001b[0;36madd_doc\u001b[0;34m(self, new_doc, to_file)\u001b[0m\n\u001b[1;32m    127\u001b[0m \u001b[0;34m\u001b[0m\u001b[0m\n\u001b[1;32m    128\u001b[0m         \u001b[0;31m# if isinstance(doc['url'], str):\u001b[0m\u001b[0;34m\u001b[0m\u001b[0;34m\u001b[0m\u001b[0;34m\u001b[0m\u001b[0m\n\u001b[0;32m--> 129\u001b[0;31m         \u001b[0mself\u001b[0m\u001b[0;34m.\u001b[0m\u001b[0m_add_doc_to_index\u001b[0m\u001b[0;34m(\u001b[0m\u001b[0mdoc_id\u001b[0m\u001b[0;34m,\u001b[0m \u001b[0mdoc\u001b[0m\u001b[0;34m,\u001b[0m \u001b[0mto_file\u001b[0m\u001b[0;34m=\u001b[0m\u001b[0mto_file\u001b[0m\u001b[0;34m)\u001b[0m\u001b[0;34m\u001b[0m\u001b[0;34m\u001b[0m\u001b[0m\n\u001b[0m\u001b[1;32m    130\u001b[0m \u001b[0;34m\u001b[0m\u001b[0m\n\u001b[1;32m    131\u001b[0m         \u001b[0mprint\u001b[0m\u001b[0;34m(\u001b[0m\u001b[0;34m'added document: {}'\u001b[0m\u001b[0;34m.\u001b[0m\u001b[0mformat\u001b[0m\u001b[0;34m(\u001b[0m\u001b[0mdoc_id\u001b[0m\u001b[0;34m)\u001b[0m\u001b[0;34m)\u001b[0m\u001b[0;34m\u001b[0m\u001b[0;34m\u001b[0m\u001b[0m\n",
      "\u001b[0;32m~/Dropbox/projects/autolocal/autolocal/document_manager.py\u001b[0m in \u001b[0;36m_add_doc_to_index\u001b[0;34m(self, doc_id, doc, doc_txt, to_file)\u001b[0m\n\u001b[1;32m    291\u001b[0m                     \u001b[0mself\u001b[0m\u001b[0;34m.\u001b[0m\u001b[0m_add_item_to_index\u001b[0m\u001b[0;34m(\u001b[0m\u001b[0mindex_var\u001b[0m\u001b[0;34m,\u001b[0m \u001b[0mtoken\u001b[0m\u001b[0;34m,\u001b[0m \u001b[0;34m(\u001b[0m\u001b[0mdoc_id\u001b[0m\u001b[0;34m,\u001b[0m \u001b[0mcount\u001b[0m\u001b[0;34m)\u001b[0m\u001b[0;34m)\u001b[0m\u001b[0;34m\u001b[0m\u001b[0;34m\u001b[0m\u001b[0m\n\u001b[1;32m    292\u001b[0m         \u001b[0;32mif\u001b[0m \u001b[0mto_file\u001b[0m\u001b[0;34m:\u001b[0m\u001b[0;34m\u001b[0m\u001b[0;34m\u001b[0m\u001b[0m\n\u001b[0;32m--> 293\u001b[0;31m             \u001b[0mself\u001b[0m\u001b[0;34m.\u001b[0m\u001b[0m_save_index\u001b[0m\u001b[0;34m(\u001b[0m\u001b[0;34m)\u001b[0m\u001b[0;34m\u001b[0m\u001b[0;34m\u001b[0m\u001b[0m\n\u001b[0m\u001b[1;32m    294\u001b[0m         \u001b[0;32mreturn\u001b[0m\u001b[0;34m\u001b[0m\u001b[0;34m\u001b[0m\u001b[0m\n\u001b[1;32m    295\u001b[0m \u001b[0;34m\u001b[0m\u001b[0m\n",
      "\u001b[0;32m~/Dropbox/projects/autolocal/autolocal/document_manager.py\u001b[0m in \u001b[0;36m_save_index\u001b[0;34m(self)\u001b[0m\n\u001b[1;32m    257\u001b[0m         \u001b[0;32mwith\u001b[0m \u001b[0mopen\u001b[0m\u001b[0;34m(\u001b[0m\u001b[0mself\u001b[0m\u001b[0;34m.\u001b[0m\u001b[0mindex_path\u001b[0m\u001b[0;34m,\u001b[0m \u001b[0;34m'wb'\u001b[0m\u001b[0;34m)\u001b[0m \u001b[0;32mas\u001b[0m \u001b[0mf\u001b[0m\u001b[0;34m:\u001b[0m\u001b[0;34m\u001b[0m\u001b[0;34m\u001b[0m\u001b[0m\n\u001b[1;32m    258\u001b[0m             \u001b[0;32mwith\u001b[0m \u001b[0mself\u001b[0m\u001b[0;34m.\u001b[0m\u001b[0mindex_lock\u001b[0m\u001b[0;34m:\u001b[0m\u001b[0;34m\u001b[0m\u001b[0;34m\u001b[0m\u001b[0m\n\u001b[0;32m--> 259\u001b[0;31m                 \u001b[0mpkl\u001b[0m\u001b[0;34m.\u001b[0m\u001b[0mdump\u001b[0m\u001b[0;34m(\u001b[0m\u001b[0mself\u001b[0m\u001b[0;34m.\u001b[0m\u001b[0mindex\u001b[0m\u001b[0;34m,\u001b[0m \u001b[0mf\u001b[0m\u001b[0;34m,\u001b[0m \u001b[0mpkl\u001b[0m\u001b[0;34m.\u001b[0m\u001b[0mHIGHEST_PROTOCOL\u001b[0m\u001b[0;34m)\u001b[0m\u001b[0;34m\u001b[0m\u001b[0;34m\u001b[0m\u001b[0m\n\u001b[0m\u001b[1;32m    260\u001b[0m         \u001b[0;32mreturn\u001b[0m\u001b[0;34m\u001b[0m\u001b[0;34m\u001b[0m\u001b[0m\n\u001b[1;32m    261\u001b[0m \u001b[0;34m\u001b[0m\u001b[0m\n",
      "\u001b[0;31mKeyboardInterrupt\u001b[0m: "
     ]
    }
   ],
   "source": [
    "for p in doc_list_paths:\n",
    "    documents.add_docs_from_csv(p)"
   ]
  },
  {
   "cell_type": "code",
   "execution_count": null,
   "metadata": {},
   "outputs": [],
   "source": []
  }
 ],
 "metadata": {
  "kernelspec": {
   "display_name": "Python 3",
   "language": "python",
   "name": "python3"
  },
  "language_info": {
   "codemirror_mode": {
    "name": "ipython",
    "version": 3
   },
   "file_extension": ".py",
   "mimetype": "text/x-python",
   "name": "python",
   "nbconvert_exporter": "python",
   "pygments_lexer": "ipython3",
   "version": "3.7.3"
  }
 },
 "nbformat": 4,
 "nbformat_minor": 2
}
