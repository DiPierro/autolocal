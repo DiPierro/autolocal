{
 "cells": [
  {
   "cell_type": "code",
   "execution_count": 1,
   "metadata": {},
   "outputs": [],
   "source": [
    "import pandas as pd\n",
    "import numpy as np\n",
    "from gensim.models.word2vec import Word2Vec\n",
    "import gensim.downloader as api\n",
    "import matplotlib.pyplot as plt\n",
    "%matplotlib inline"
   ]
  },
  {
   "cell_type": "code",
   "execution_count": 5,
   "metadata": {},
   "outputs": [],
   "source": []
  },
  {
   "cell_type": "code",
   "execution_count": 4,
   "metadata": {},
   "outputs": [],
   "source": [
    "# load language model (this takes a few minutes)\n",
    "model = api.load('word2vec-google-news-300')"
   ]
  },
  {
   "cell_type": "code",
   "execution_count": 58,
   "metadata": {},
   "outputs": [],
   "source": [
    "# specify keywords\n",
    "keywords = {\n",
    "    'development': [\n",
    "        'residential',\n",
    "        'housing',\n",
    "        'incentive',\n",
    "        'subdivision',\n",
    "        'improvement',\n",
    "    ],\n",
    "    'zoning': [\n",
    "        'zoning',\n",
    "        'rezoning',\n",
    "        'parcel',\n",
    "    ],\n",
    "    'staff': [\n",
    "        'vacancy',\n",
    "        'vacancies',\n",
    "        'appointment',\n",
    "        'candidate',\n",
    "        'commissioner',\n",
    "        'resign',\n",
    "        'resignation'\n",
    "    ]\n",
    "}"
   ]
  },
  {
   "cell_type": "code",
   "execution_count": 54,
   "metadata": {},
   "outputs": [],
   "source": [
    "# load csv from disk\n",
    "csv_path = '../data/misc/gridley_agendas.csv'\n",
    "agendas = pd.read_csv(csv_path)"
   ]
  },
  {
   "cell_type": "code",
   "execution_count": 55,
   "metadata": {
    "scrolled": false
   },
   "outputs": [],
   "source": [
    "var_name = 'CONSENT AGENDA'\n",
    "\n",
    "from autolocal.nlp import Tokenizer\n",
    "from gensim.parsing.preprocessing import *\n",
    "\n",
    "tokenizer = Tokenizer()\n",
    "similarities = []\n",
    "idx = []\n",
    "for i, row in agendas.iterrows():\n",
    "    s = row[var_name]    \n",
    "    if s and not pd.isna(s):\n",
    "        preprocess_filters = [\n",
    "            lambda x: x.lower(),\n",
    "            strip_punctuation,\n",
    "            strip_numeric,\n",
    "            strip_non_alphanum,\n",
    "            strip_multiple_whitespaces,\n",
    "            strip_numeric,\n",
    "            remove_stopwords,\n",
    "            strip_short]\n",
    "        tokens = preprocess_string(s, preprocess_filters)\n",
    "        tokens = [t for t in tokens if t in model.vocab]\n",
    "        tokens = tokens[27:]       \n",
    "        \n",
    "        sim = {k: model.n_similarity(tokens, v) for k, v in keywords.items()}\n",
    "        sim['raw_text'] = ' '.join(tokens)\n",
    "        similarities.append(sim)\n",
    "        idx.append(i)"
   ]
  },
  {
   "cell_type": "code",
   "execution_count": 56,
   "metadata": {},
   "outputs": [
    {
     "name": "stdout",
     "output_type": "stream",
     "text": [
      "   development    zoning     staff  \\\n",
      "0     0.431602  0.483039  0.367580   \n",
      "1     0.287971  0.298341  0.272866   \n",
      "2     0.429795  0.459589  0.447017   \n",
      "3     0.448220  0.506095  0.350080   \n",
      "4     0.369767  0.430613  0.473593   \n",
      "\n",
      "                                            raw_text  \n",
      "0  city council minutes dated september approval ...  \n",
      "1               city council minutes dated september  \n",
      "2  city council minutes dated august consideratio...  \n",
      "3  city council minutes dated august approval res...  \n",
      "4  city council minutes dated july appointment ne...  \n"
     ]
    }
   ],
   "source": [
    "sims_df = pd.DataFrame(similarities, index=idx, columns=list(keywords.keys()) + ['raw_text'])\n",
    "print(sims_df.head())"
   ]
  },
  {
   "cell_type": "code",
   "execution_count": 60,
   "metadata": {},
   "outputs": [
    {
     "name": "stdout",
     "output_type": "stream",
     "text": [
      "DEVELOPMENT\n",
      "0.5937261581420898\n",
      "city council minutes dated march revision time homebuyer program guidelines single family housing rehabilitation program guidelines project list california transportation commission\n",
      "\n",
      "0.5738751888275146\n",
      "city council minutes dated december intergovernmental agency agreement city regional housing authority housing consultant services\n",
      "\n",
      "0.5506479740142822\n",
      "city services update city council minutes dated april adopt resolution resolution authorizing city administrator execute deferred improvement agreement defer construction sidewalk improvements located kentucky street approval new agreement north valley shooters new rates range users boat ramp users project list california transportation commission\n",
      "\n",
      "ZONING\n",
      "0.54632568359375\n",
      "city services update city council minutes dated july resolutions authorizing levy assessment district expenses butte county tax roll resolution resolution city council city levy assessment district butte county tax roll resolution resolution city council city levy assessment district butte county tax roll resolution resolution city council city levy assessment district butte county tax roll resolution resolution city council city levy assessment district butte county tax roll\n",
      "\n",
      "0.5320314764976501\n",
      "city services update city council minutes dated june approval resolution resolution city council city requesting board supervisors county butte consolidate general municipal election held tuesday november statewide general election held date pursuant elections code resolutions authorizing levy assessment district expenses butte county tax roll resolution resolution city council city levy assessment district butte county tax roll resolution resolution city council city levy assessment district butte county tax roll resolution resolution city council city levy assessment district butte county tax roll resolution resolution city council city levy assessment district butte county tax roll approval resolution resolution city council city authorizing submittal application california state department housing community development funding home investment partnerships program selected execution standard agreement amendments thereto related documents necessary participate home investment partnerships program approval resolution resolution city council city approving agreement california department forestry protection authorizing mayor sign agreement services july june\n",
      "\n",
      "0.5203612446784973\n",
      "city services update city council minutes dated august approve resolution resolution city council city accepting report weed abatement costs assessing liens affected parcels said costs\n",
      "\n",
      "STAFF\n",
      "0.5689398050308228\n",
      "state water resources grant request commissioner appointment\n",
      "\n",
      "0.47359272837638855\n",
      "city council minutes dated july appointment new planning commissioners\n",
      "\n",
      "0.44701722264289856\n",
      "city council minutes dated august consideration approval revision city position classification reclassification finance business service supervisor position\n",
      "\n"
     ]
    }
   ],
   "source": [
    "for c in keywords.keys():\n",
    "    print(c.upper())\n",
    "    idx_top_matches = (sims_df.loc[:,c].sort_values(ascending=False)[:3].index)\n",
    "    for i in idx_top_matches:\n",
    "        print(sims_df.loc[i,c])\n",
    "        print(sims_df.loc[i,'raw_text'])\n",
    "        print()"
   ]
  },
  {
   "cell_type": "code",
   "execution_count": 40,
   "metadata": {},
   "outputs": [
    {
     "data": {
      "text/plain": [
       "Int64Index([11, 18, 32], dtype='int64')"
      ]
     },
     "execution_count": 40,
     "metadata": {},
     "output_type": "execute_result"
    }
   ],
   "source": [
    "sims_df.loc[:,'development'].sort_values(ascending=False)[:3].index"
   ]
  },
  {
   "cell_type": "code",
   "execution_count": null,
   "metadata": {},
   "outputs": [],
   "source": []
  }
 ],
 "metadata": {
  "kernelspec": {
   "display_name": "Python 3",
   "language": "python",
   "name": "python3"
  },
  "language_info": {
   "codemirror_mode": {
    "name": "ipython",
    "version": 3
   },
   "file_extension": ".py",
   "mimetype": "text/x-python",
   "name": "python",
   "nbconvert_exporter": "python",
   "pygments_lexer": "ipython3",
   "version": "3.7.4"
  }
 },
 "nbformat": 4,
 "nbformat_minor": 2
}
