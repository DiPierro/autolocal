{
 "cells": [
  {
   "cell_type": "code",
   "execution_count": 2,
   "metadata": {},
   "outputs": [],
   "source": [
    "import pandas as pd\n",
    "import os"
   ]
  },
  {
   "cell_type": "code",
   "execution_count": 4,
   "metadata": {},
   "outputs": [],
   "source": [
    "# List of all Gridley docs\n",
    "doc_url = 'http://gridley.ca.us/public/uploads/pdfs/'\n",
    "doc_list_path = '../data/misc/all_docs_gridley.csv'\n",
    "txt_dir_path = '../data/misc/all_txt'\n",
    "\n",
    "if not os.path.exists(txt_dir_path):\n",
    "    os.mkdir(txt_dir_path)"
   ]
  },
  {
   "cell_type": "code",
   "execution_count": 5,
   "metadata": {},
   "outputs": [],
   "source": [
    "# prune list of documents to download\n",
    "doc_list = pd.read_csv(doc_list_path)\n",
    "\n",
    "keyword_list = [\n",
    "    'minutes', 'agenda', 'packet'\n",
    "]\n",
    "\n",
    "idx = pd.Series([False]*len(doc_list), dtype=bool)\n",
    "for k in keyword_list:\n",
    "    idx = idx | doc_list.loc[:,'Name'].str.lower().str.contains(k)\n",
    "\n",
    "doc_list = doc_list.loc[idx,:]"
   ]
  },
  {
   "cell_type": "code",
   "execution_count": 26,
   "metadata": {},
   "outputs": [
    {
     "data": {
      "text/plain": [
       "'test_str'"
      ]
     },
     "execution_count": 26,
     "metadata": {},
     "output_type": "execute_result"
    }
   ],
   "source": [
    "'test str'.replace(' ', '_')"
   ]
  },
  {
   "cell_type": "code",
   "execution_count": 21,
   "metadata": {},
   "outputs": [],
   "source": [
    "from collections import Counter"
   ]
  },
  {
   "cell_type": "code",
   "execution_count": null,
   "metadata": {},
   "outputs": [],
   "source": [
    "counter = Counter(['a', 'a', 'b'])"
   ]
  },
  {
   "cell_type": "code",
   "execution_count": 23,
   "metadata": {},
   "outputs": [
    {
     "data": {
      "text/plain": [
       "Counter({'a': 2, 'b': 1})"
      ]
     },
     "execution_count": 23,
     "metadata": {},
     "output_type": "execute_result"
    }
   ],
   "source": [
    "counter"
   ]
  },
  {
   "cell_type": "code",
   "execution_count": 20,
   "metadata": {},
   "outputs": [
    {
     "name": "stdout",
     "output_type": "stream",
     "text": [
      "Name            01-04-16_minutes.pdf\n",
      "LastModified          11/11/16 18:32\n",
      "Size                             31K\n",
      "Name: 0, dtype: object\n"
     ]
    }
   ],
   "source": [
    "for idx, row in list(doc_list.iterrows())[:1]:\n",
    "    print(row)"
   ]
  },
  {
   "cell_type": "code",
   "execution_count": null,
   "metadata": {},
   "outputs": [],
   "source": [
    "# download document\n",
    "\n",
    "# pull text from document\n",
    "\n",
    "# save text to file"
   ]
  }
 ],
 "metadata": {
  "kernelspec": {
   "display_name": "Python 3",
   "language": "python",
   "name": "python3"
  },
  "language_info": {
   "codemirror_mode": {
    "name": "ipython",
    "version": 3
   },
   "file_extension": ".py",
   "mimetype": "text/x-python",
   "name": "python",
   "nbconvert_exporter": "python",
   "pygments_lexer": "ipython3",
   "version": "3.7.4"
  }
 },
 "nbformat": 4,
 "nbformat_minor": 2
}
