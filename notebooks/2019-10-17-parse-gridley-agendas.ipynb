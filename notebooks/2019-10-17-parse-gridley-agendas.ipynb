{
 "cells": [
  {
   "cell_type": "code",
   "execution_count": 1,
   "metadata": {},
   "outputs": [],
   "source": [
    "import os, re\n",
    "import numpy as np"
   ]
  },
  {
   "cell_type": "code",
   "execution_count": 2,
   "metadata": {},
   "outputs": [],
   "source": [
    "# Gridley-specific header info\n",
    "all_section_headers = [\n",
    "            'CALL TO ORDER',\n",
    "            'ROLL CALL',\n",
    "            'PLEDGE OF ALLEGIANCE',\n",
    "            'INVOCATION',\n",
    "            'PROCLAMATIONS',\n",
    "            'INTRODUCTION OF NEW OR PROMOTED EMPLOYEES',\n",
    "            'COMMUNITY PARTICIPATION FORUM',\n",
    "            'CONSENT AGENDA',\n",
    "            'PUBLIC HEARING',\n",
    "            'ITEMS FOR COUNCIL CONSIDERATION',\n",
    "            'CITY STAFF AND COUNCIL COMMITTEE REPORTS',\n",
    "            'POTENTIAL FUTURE CITY COUNCIL ITEMS',\n",
    "            'CLOSED SESSION',\n",
    "            'ADJOURNMENT',\n",
    "            'NOTE 1',\n",
    "            'NOTE 2'\n",
    "        ]\n",
    "footer_start = 'GRIDLEY CITY COUNCIL AGENDA'"
   ]
  },
  {
   "cell_type": "code",
   "execution_count": 3,
   "metadata": {},
   "outputs": [],
   "source": [
    "# get all Gridley agendas\n",
    "\n",
    "data_dir =  '../data/docs/gridley/'\n",
    "required_substrings = ['Gridley', 'Agenda', 'City-Council', '.txt']\n",
    "\n",
    "matches_substrings = lambda s: all([ss in s for ss in required_substrings])\n",
    "doc_list = [s for s in os.listdir(data_dir) if matches_substrings(s)]\n",
    "doc_paths = [os.path.join(data_dir, doc) for doc in doc_list]"
   ]
  },
  {
   "cell_type": "code",
   "execution_count": 4,
   "metadata": {},
   "outputs": [],
   "source": [
    "def parse_txt(doc):\n",
    "\n",
    "    # the number of pages is the last character on the first page\n",
    "    page_break_re = re.compile('\\f')\n",
    "    page_breaks = [m.start() for m in page_break_re.finditer(doc)]\n",
    "    #num_pages = int(doc[:page_breaks[0]].replace('\\n','').replace(' ', '')[-1])\n",
    "    page_count_re = re.compile('Page\\s[\\d]\\sof\\s[\\d]')\n",
    "    n0, n1 = zip(*[[int(d) for d in s[5:].split(' of ')] for s in page_count_re.findall(doc)])\n",
    "    num_pages = n0[np.where(np.array(n0)==np.array(n1))[0][0]]\n",
    "    \n",
    "    # trim extraneous pages and remove page footers\n",
    "    agenda = doc[:page_breaks[num_pages-1]+1]\n",
    "    agenda = re.sub('{}[^()]*\\f'.format(footer_start), '', agenda)    \n",
    "    \n",
    "    # get section breaks in document\n",
    "    all_section_starts = [agenda.find(h) for h in all_section_headers]\n",
    "    section_heads, section_starts = zip(*[(k,t) for k, t in zip(all_section_headers, all_section_starts) if t>0])\n",
    "    \n",
    "    # sort sections\n",
    "    sort_idx = np.argsort(section_starts)\n",
    "    headers = list(np.array(section_heads)[sort_idx])\n",
    "    breaks = list(np.array(section_starts)[sort_idx]) + [len(agenda)]    \n",
    "    \n",
    "    # get section ranges\n",
    "    section_ranges = [('HEADER', 0, breaks[0])]\n",
    "    section_ranges.extend([(headers[i], breaks[i], breaks[i+1]) for i in range(len(headers))])\n",
    "    \n",
    "    # store section\n",
    "    sections = []\n",
    "    for head, start, end in section_ranges:\n",
    "        content = agenda[start:end].replace(head,'')\n",
    "        section = {\n",
    "            'title': head,\n",
    "            'content': content\n",
    "        }\n",
    "        sections.append(section)    \n",
    "        \n",
    "    return sections"
   ]
  },
  {
   "cell_type": "code",
   "execution_count": 5,
   "metadata": {},
   "outputs": [],
   "source": [
    "docs = []\n",
    "for path in doc_paths:\n",
    "    with open(path, 'r') as f:\n",
    "        doc = f.read()\n",
    "    sections = parse_txt(doc)\n",
    "    docs.append(sections)"
   ]
  },
  {
   "cell_type": "code",
   "execution_count": 6,
   "metadata": {},
   "outputs": [
    {
     "data": {
      "text/plain": [
       "[{'title': 'HEADER',\n",
       "  'content': 'Gridley City Council – Regular City Council Meeting Agenda \\n\\nMonday, September 16, 2019; 6:00 pm \\n\\nGridley City Hall, 685 Kentucky Street, Gridley, CA 95948 \\n\\n \\n\\n \\n\\n \\n\\n“Our purpose is to continuously enhance our community’s vitality and overall quality of life.  We \\n\\nare committed to providing high quality,  cost-effective municipal services and forming \\n\\nproductive partnerships with our residents and regional organizations.  We collectively develop, \\n\\nshare, and are guided by a clear vision, values, and meaningful objectives.” \\n\\n \\n\\n \\n'},\n",
       " {'title': 'CALL TO ORDER', 'content': ' - Mayor Johnson \\n'},\n",
       " {'title': 'ROLL CALL', 'content': ' - Recording Secretary \\n'},\n",
       " {'title': 'PLEDGE OF ALLEGIANCE', 'content': ' – Mayor Johnson \\n'},\n",
       " {'title': 'PROCLAMATIONS', 'content': ' – None \\n\\n'},\n",
       " {'title': 'INTRODUCTION OF NEW OR PROMOTED EMPLOYEES',\n",
       "  'content': ' - None \\n\\n'},\n",
       " {'title': 'COMMUNITY PARTICIPATION FORUM',\n",
       "  'content': ' - Members of the public may address the City Council on \\nmatters not listed on the agenda.   The City Council may not discuss nor take action on any \\ncommunity participation item brought forward by a member of the community.  Comments are \\nrequested to be limited to three (3) minutes.  \\n\\n \\n\\n'},\n",
       " {'title': 'CONSENT AGENDA',\n",
       "  'content': ' – Items on the Consent Agenda are considered routine and acted upon by one \\nmotion. Any Council member may request that an item be removed for separate consideration. The \\nCity Council may only make minor comments; otherwise the item should be removed from the \\nConsent Agenda and placed as the first item(s) under “Items for Council Consideration”.  \\n \\n\\n1. \\n\\nCity Council minutes dated September 3, 2019 \\n\\n'},\n",
       " {'title': 'PUBLIC HEARING',\n",
       "  'content': ' \\n\\n2. \\n\\nPublic Hearing:  Applicant is proposing a 21-parcel single-family residential \\nsubdivision on three parcels totaling ±4.7 acres, APN: 022-230-022, -024 and -025 \\n\\n \\n\\na)  Receive Staff Report \\nb)  Open Public Hearing \\nc)  Hear Public Testimony \\nd)  Close Public Hearing \\ne)  Determine the project is Categorically Exempt per the California Environmental \\n\\nQuality Act, Section 15332 (a-e), Class 32, Infill Development Projects. \\n\\nAdopt Resolution Number 2019-R-022:  A Resolution Approving Tentative \\nSubdivision Map No. 1-19 to Subdivide Three Parcels Consisting of Approximately \\n4.7 Acres into Twenty-One (21) Parcels Consisting of One 0.25 Acre Parcel for a \\nDetention Basin and Twenty (20) Parcels for a Residential Housing Development \\nLocated at the Northeast Corner of Peach Street and West Biggs Gridley Road in the \\nSingle Family Residential District (R-1)  and Residential, Low Density (RLD) General \\n\\n \\n\\n \\n \\n\\nPlan Land Use Designation  (APN: 022-230-022, -024 & -025)  \\n \\nAdopt Resolution Number 2019-R-023:  A Resolution Authorizing the City \\nAdministrator to Execute a Deferred Improvement Agreement to Defer the \\nConstruction of a Portion of Road and Pedestrian Improvements on the East Side of \\nWest Biggs Gridley Road \\n\\nAdopt Resolution Number 2019-R-024:  A Resolution Authorizing the City \\nAdministrator to Execute a Landscaping, Lighting, Utility and West Biggs Gridley \\nRoad Assessment District to Provide for the Maintenance of the Subdivision \\nImprovements and Deferred Road Improvement Costs \\n \\n\\n'},\n",
       " {'title': 'ITEMS FOR COUNCIL CONSIDERATION',\n",
       "  'content': ' \\n\\n3. \\n\\nProgram to Manage Unclaimed Cats  \\n\\n'},\n",
       " {'title': 'CITY STAFF AND COUNCIL COMMITTEE REPORTS',\n",
       "  'content': ' - Brief updates from City staff and brief reports on \\nconferences, seminars, and meetings attended by the Mayor and City Council members, if any. \\n\\n \\n\\n'},\n",
       " {'title': 'POTENTIAL FUTURE CITY COUNCIL ITEMS',\n",
       "  'content': ' - (Appearing on the Agenda within 30-90 days): \\n \\n \\n \\n \\n\\nEnvironmental Document Approval and Adoption – Little \\nAvenue Force Main and Lift Station Improvement Project \\nEnvironmental Document Approval and Adoption – Waterline \\nReplacement Project \\nTemporary Residential Housing Incentive Program #2 \\nPolice Department Digital Radio System \\n\\n10/7/2019 \\n10/21/2019 \\n11/4/2019 \\n\\n10/7/2019 \\n\\n'},\n",
       " {'title': 'CLOSED SESSION',\n",
       "  'content': ' \\n \\n\\n4. \\n\\nConference with Labor Negotiators pursuant to Government Code 54957.6 to meet \\nand confer with International Brotherhood of Electrical Workers and Gridley Police \\nOfficers Association \\n\\n'},\n",
       " {'title': 'ADJOURNMENT',\n",
       "  'content': ' – adjourning to the next regularly scheduled meeting on Monday, October 7, 2019 \\n \\n'},\n",
       " {'title': 'NOTE 1',\n",
       "  'content': ': POSTING OF AGENDA- This agenda was posted on the public bulletin board at City Hall at \\nor before 6:00 p.m., September 13, 2019, in accordance with Government Code Section 54954.2. \\nThis agenda along with all attachments is available for public viewing online at www.gridley.ca.us \\nand at the Administration counter in City Hall, 685 Kentucky Street, Gridley, CA. \\n \\n'},\n",
       " {'title': 'NOTE 2',\n",
       "  'content': ': REGARDING UNSCHEDULED MATTERS – In accordance with state law, it shall be the policy \\nof this Council that no action shall be taken on any item presented during the public forum or on \\nunscheduled matters unless the Council, by majority vote, determines that an emergency situation \\nexists, or, unless the Council by a two-thirds vote finds that the need to take action arose \\nsubsequent to the posting of this agenda. \\n\\n'}]"
      ]
     },
     "execution_count": 6,
     "metadata": {},
     "output_type": "execute_result"
    }
   ],
   "source": [
    "docs[0]"
   ]
  },
  {
   "cell_type": "code",
   "execution_count": null,
   "metadata": {},
   "outputs": [],
   "source": []
  }
 ],
 "metadata": {
  "kernelspec": {
   "display_name": "py37",
   "language": "python",
   "name": "py37"
  },
  "language_info": {
   "codemirror_mode": {
    "name": "ipython",
    "version": 3
   },
   "file_extension": ".py",
   "mimetype": "text/x-python",
   "name": "python",
   "nbconvert_exporter": "python",
   "pygments_lexer": "ipython3",
   "version": "3.7.3"
  }
 },
 "nbformat": 4,
 "nbformat_minor": 2
}
