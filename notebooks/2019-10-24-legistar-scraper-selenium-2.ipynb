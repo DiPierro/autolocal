{
 "cells": [
  {
   "cell_type": "code",
   "execution_count": null,
   "metadata": {},
   "outputs": [],
   "source": [
    "# Scraping tool for Legistar based platforms"
   ]
  },
  {
   "cell_type": "code",
   "execution_count": 12,
   "metadata": {},
   "outputs": [
    {
     "name": "stdout",
     "output_type": "stream",
     "text": [
      "The autoreload extension is already loaded. To reload it, use:\n",
      "  %reload_ext autoreload\n"
     ]
    }
   ],
   "source": [
    "from autolocal.legistar_scraper import CITY_ARGS, LegistarScraper\n",
    "%load_ext autoreload\n",
    "%autoreload 2"
   ]
  },
  {
   "cell_type": "code",
   "execution_count": 36,
   "metadata": {},
   "outputs": [
    {
     "name": "stdout",
     "output_type": "stream",
     "text": [
      "{'city_name': 'cupertino', 'scrape_url': 'https://cupertino.legistar.com/Calendar.aspx'}\n"
     ]
    }
   ],
   "source": [
    "# select city to scrape\n",
    "args = CITY_ARGS[5]\n",
    "print(args)"
   ]
  },
  {
   "cell_type": "code",
   "execution_count": 37,
   "metadata": {},
   "outputs": [],
   "source": [
    "# launch browser-based scraper\n",
    "scraper = LegistarScraper(**args)"
   ]
  },
  {
   "cell_type": "code",
   "execution_count": 38,
   "metadata": {
    "scrolled": false
   },
   "outputs": [
    {
     "name": "stdout",
     "output_type": "stream",
     "text": [
      "Manually select all years and all committees.\n",
      "Scraping page 1\n",
      "Scraping page 2\n",
      "Scraping page 3\n",
      "Scraping page 4\n",
      "Scraping page 5\n",
      "Scraping page 6\n",
      "Scraping page 7\n",
      "Scraping page 8\n",
      "Scraping page 9\n",
      "Scraping page 10\n",
      "Scraping page 11\n",
      "Scraping page 12\n",
      "Scraping page 13\n",
      "Scraping page 14\n",
      "Scraping page 15\n",
      "Scraping page 16\n",
      "Scraping page 17\n",
      "Scraping page 18\n",
      "Scraping page 19\n",
      "Scraping page 20\n",
      "Scraping page 21\n"
     ]
    },
    {
     "name": "stderr",
     "output_type": "stream",
     "text": [
      "\r",
      "  0%|          | 0/22 [00:00<?, ?it/s]"
     ]
    },
    {
     "name": "stdout",
     "output_type": "stream",
     "text": [
      "Scraping page 22\n",
      "Scraped 22 pages\n"
     ]
    },
    {
     "name": "stderr",
     "output_type": "stream",
     "text": [
      "100%|██████████| 22/22 [00:06<00:00,  3.73it/s]\n"
     ]
    },
    {
     "name": "stdout",
     "output_type": "stream",
     "text": [
      "Recovered 2139 records\n",
      "Saving to ../data/scraping/scraped_tables/cupertino.csv\n"
     ]
    }
   ],
   "source": [
    "# run scraping tool\n",
    "page_data = scraper.extract_all_table_data()"
   ]
  },
  {
   "cell_type": "code",
   "execution_count": 39,
   "metadata": {},
   "outputs": [
    {
     "data": {
      "text/html": [
       "<div>\n",
       "<style scoped>\n",
       "    .dataframe tbody tr th:only-of-type {\n",
       "        vertical-align: middle;\n",
       "    }\n",
       "\n",
       "    .dataframe tbody tr th {\n",
       "        vertical-align: top;\n",
       "    }\n",
       "\n",
       "    .dataframe thead th {\n",
       "        text-align: right;\n",
       "    }\n",
       "</style>\n",
       "<table border=\"1\" class=\"dataframe\">\n",
       "  <thead>\n",
       "    <tr style=\"text-align: right;\">\n",
       "      <th></th>\n",
       "      <th>Name Text</th>\n",
       "      <th>Meeting Date Text</th>\n",
       "      <th>Text</th>\n",
       "      <th>Meeting Time Text</th>\n",
       "      <th>Meeting Location Text</th>\n",
       "      <th>Meeting Details Text</th>\n",
       "      <th>Presentations Text</th>\n",
       "      <th>Agenda Text</th>\n",
       "      <th>Agenda Packet Text</th>\n",
       "      <th>Minutes Text</th>\n",
       "      <th>...</th>\n",
       "      <th>Meeting Location URL</th>\n",
       "      <th>Meeting Details URL</th>\n",
       "      <th>Presentations URL</th>\n",
       "      <th>Agenda URL</th>\n",
       "      <th>Agenda Packet URL</th>\n",
       "      <th>Minutes URL</th>\n",
       "      <th>Written Communications URL</th>\n",
       "      <th>YouTube Transcription URL</th>\n",
       "      <th>Video URL</th>\n",
       "      <th>Audio URL</th>\n",
       "    </tr>\n",
       "  </thead>\n",
       "  <tbody>\n",
       "    <tr>\n",
       "      <th>0</th>\n",
       "      <td>Administrative Hearing</td>\n",
       "      <td>12/24/2020</td>\n",
       "      <td></td>\n",
       "      <td>5:00 PM</td>\n",
       "      <td>10300 Torre Avenue, City Hall Conference Room C</td>\n",
       "      <td>Meeting details</td>\n",
       "      <td>Not available</td>\n",
       "      <td>Not available</td>\n",
       "      <td>Not available</td>\n",
       "      <td>Not available</td>\n",
       "      <td>...</td>\n",
       "      <td>NaN</td>\n",
       "      <td>NaN</td>\n",
       "      <td>NaN</td>\n",
       "      <td>NaN</td>\n",
       "      <td>NaN</td>\n",
       "      <td>NaN</td>\n",
       "      <td>NaN</td>\n",
       "      <td>NaN</td>\n",
       "      <td>NaN</td>\n",
       "      <td>NaN</td>\n",
       "    </tr>\n",
       "    <tr>\n",
       "      <th>1</th>\n",
       "      <td>Planning Commission</td>\n",
       "      <td>12/22/2020</td>\n",
       "      <td></td>\n",
       "      <td>6:45 PM</td>\n",
       "      <td>10350 Torre Avenue, Council Chamber</td>\n",
       "      <td>Meeting details</td>\n",
       "      <td>Not available</td>\n",
       "      <td>Not available</td>\n",
       "      <td>Not available</td>\n",
       "      <td>Not available</td>\n",
       "      <td>...</td>\n",
       "      <td>NaN</td>\n",
       "      <td>NaN</td>\n",
       "      <td>NaN</td>\n",
       "      <td>NaN</td>\n",
       "      <td>NaN</td>\n",
       "      <td>NaN</td>\n",
       "      <td>NaN</td>\n",
       "      <td>NaN</td>\n",
       "      <td>NaN</td>\n",
       "      <td>NaN</td>\n",
       "    </tr>\n",
       "    <tr>\n",
       "      <th>2</th>\n",
       "      <td>Design Review Committee</td>\n",
       "      <td>12/17/2020</td>\n",
       "      <td></td>\n",
       "      <td>5:00 PM</td>\n",
       "      <td>10300 Torre Avenue, City Hall Conference Room C</td>\n",
       "      <td>Meeting details</td>\n",
       "      <td>Not available</td>\n",
       "      <td>Not available</td>\n",
       "      <td>Not available</td>\n",
       "      <td>Not available</td>\n",
       "      <td>...</td>\n",
       "      <td>NaN</td>\n",
       "      <td>NaN</td>\n",
       "      <td>NaN</td>\n",
       "      <td>NaN</td>\n",
       "      <td>NaN</td>\n",
       "      <td>NaN</td>\n",
       "      <td>NaN</td>\n",
       "      <td>NaN</td>\n",
       "      <td>NaN</td>\n",
       "      <td>NaN</td>\n",
       "    </tr>\n",
       "    <tr>\n",
       "      <th>3</th>\n",
       "      <td>Environmental Review Committee</td>\n",
       "      <td>12/17/2020</td>\n",
       "      <td></td>\n",
       "      <td>9:30 AM</td>\n",
       "      <td>10300 Torre Avenue, City Hall Conference Room C</td>\n",
       "      <td>Meeting details</td>\n",
       "      <td>Not available</td>\n",
       "      <td>Not available</td>\n",
       "      <td>Not available</td>\n",
       "      <td>Not available</td>\n",
       "      <td>...</td>\n",
       "      <td>NaN</td>\n",
       "      <td>NaN</td>\n",
       "      <td>NaN</td>\n",
       "      <td>NaN</td>\n",
       "      <td>NaN</td>\n",
       "      <td>NaN</td>\n",
       "      <td>NaN</td>\n",
       "      <td>NaN</td>\n",
       "      <td>NaN</td>\n",
       "      <td>NaN</td>\n",
       "    </tr>\n",
       "    <tr>\n",
       "      <th>4</th>\n",
       "      <td>City Council</td>\n",
       "      <td>12/15/2020</td>\n",
       "      <td></td>\n",
       "      <td>6:45 PM</td>\n",
       "      <td>10350 Torre Avenue, Council Chamber</td>\n",
       "      <td>Meeting details</td>\n",
       "      <td>Not available</td>\n",
       "      <td>Not available</td>\n",
       "      <td>Not available</td>\n",
       "      <td>Not available</td>\n",
       "      <td>...</td>\n",
       "      <td>NaN</td>\n",
       "      <td>NaN</td>\n",
       "      <td>NaN</td>\n",
       "      <td>NaN</td>\n",
       "      <td>NaN</td>\n",
       "      <td>NaN</td>\n",
       "      <td>NaN</td>\n",
       "      <td>NaN</td>\n",
       "      <td>NaN</td>\n",
       "      <td>NaN</td>\n",
       "    </tr>\n",
       "  </tbody>\n",
       "</table>\n",
       "<p>5 rows × 28 columns</p>\n",
       "</div>"
      ],
      "text/plain": [
       "                        Name Text Meeting Date Text  Text Meeting Time Text  \\\n",
       "0          Administrative Hearing        12/24/2020                 5:00 PM   \n",
       "1             Planning Commission        12/22/2020                 6:45 PM   \n",
       "2         Design Review Committee        12/17/2020                 5:00 PM   \n",
       "3  Environmental Review Committee        12/17/2020                 9:30 AM   \n",
       "4                    City Council        12/15/2020                 6:45 PM   \n",
       "\n",
       "                             Meeting Location Text Meeting Details Text  \\\n",
       "0  10300 Torre Avenue, City Hall Conference Room C      Meeting details   \n",
       "1              10350 Torre Avenue, Council Chamber      Meeting details   \n",
       "2  10300 Torre Avenue, City Hall Conference Room C      Meeting details   \n",
       "3  10300 Torre Avenue, City Hall Conference Room C      Meeting details   \n",
       "4              10350 Torre Avenue, Council Chamber      Meeting details   \n",
       "\n",
       "  Presentations Text    Agenda Text Agenda Packet Text   Minutes Text  ...  \\\n",
       "0      Not available  Not available      Not available  Not available  ...   \n",
       "1      Not available  Not available      Not available  Not available  ...   \n",
       "2      Not available  Not available      Not available  Not available  ...   \n",
       "3      Not available  Not available      Not available  Not available  ...   \n",
       "4      Not available  Not available      Not available  Not available  ...   \n",
       "\n",
       "  Meeting Location URL Meeting Details URL Presentations URL Agenda URL  \\\n",
       "0                  NaN                 NaN               NaN        NaN   \n",
       "1                  NaN                 NaN               NaN        NaN   \n",
       "2                  NaN                 NaN               NaN        NaN   \n",
       "3                  NaN                 NaN               NaN        NaN   \n",
       "4                  NaN                 NaN               NaN        NaN   \n",
       "\n",
       "  Agenda Packet URL  Minutes URL Written Communications URL  \\\n",
       "0               NaN          NaN                        NaN   \n",
       "1               NaN          NaN                        NaN   \n",
       "2               NaN          NaN                        NaN   \n",
       "3               NaN          NaN                        NaN   \n",
       "4               NaN          NaN                        NaN   \n",
       "\n",
       "   YouTube Transcription URL  Video URL Audio URL  \n",
       "0                        NaN        NaN       NaN  \n",
       "1                        NaN        NaN       NaN  \n",
       "2                        NaN        NaN       NaN  \n",
       "3                        NaN        NaN       NaN  \n",
       "4                        NaN        NaN       NaN  \n",
       "\n",
       "[5 rows x 28 columns]"
      ]
     },
     "execution_count": 39,
     "metadata": {},
     "output_type": "execute_result"
    }
   ],
   "source": [
    "# look at data\n",
    "page_data.head()"
   ]
  },
  {
   "cell_type": "code",
   "execution_count": 40,
   "metadata": {},
   "outputs": [],
   "source": [
    "scraper.driver.quit()"
   ]
  },
  {
   "cell_type": "code",
   "execution_count": null,
   "metadata": {},
   "outputs": [],
   "source": []
  }
 ],
 "metadata": {
  "kernelspec": {
   "display_name": "py37",
   "language": "python",
   "name": "py37"
  },
  "language_info": {
   "codemirror_mode": {
    "name": "ipython",
    "version": 3
   },
   "file_extension": ".py",
   "mimetype": "text/x-python",
   "name": "python",
   "nbconvert_exporter": "python",
   "pygments_lexer": "ipython3",
   "version": "3.7.3"
  }
 },
 "nbformat": 4,
 "nbformat_minor": 2
}
