{
 "cells": [
  {
   "cell_type": "code",
   "execution_count": 1,
   "metadata": {},
   "outputs": [],
   "source": [
    "# Scraping tool for Legistar based platforms"
   ]
  },
  {
   "cell_type": "code",
   "execution_count": 2,
   "metadata": {},
   "outputs": [
    {
     "name": "stdout",
     "output_type": "stream",
     "text": [
      "<class 'list'>\n",
      "271461 searchable keywords\n"
     ]
    }
   ],
   "source": [
    "from autolocal.legistar_scraper import CITY_ARGS, LegistarScraper\n",
    "%load_ext autoreload\n",
    "%autoreload 2"
   ]
  },
  {
   "cell_type": "code",
   "execution_count": 3,
   "metadata": {},
   "outputs": [
    {
     "name": "stdout",
     "output_type": "stream",
     "text": [
      "{'city_name': 'oakland', 'scrape_url': 'https://oakland.legistar.com/Calendar.aspx'}\n"
     ]
    }
   ],
   "source": [
    "# select city to scrape\n",
    "args = CITY_ARGS[10]\n",
    "print(args)"
   ]
  },
  {
   "cell_type": "code",
   "execution_count": 4,
   "metadata": {},
   "outputs": [],
   "source": [
    "# launch browser-based scraper\n",
    "scraper = LegistarScraper(**args)"
   ]
  },
  {
   "cell_type": "code",
   "execution_count": 7,
   "metadata": {},
   "outputs": [
    {
     "name": "stdout",
     "output_type": "stream",
     "text": [
      "Scraping page 1\n",
      "Scraping page 2\n",
      "Scraping page 3\n",
      "Scraping page 4\n",
      "Scraping page 5\n",
      "Scraping page 6\n",
      "Scraping page 7\n",
      "Scraping page 8\n",
      "Scraping page 9\n",
      "Scraping page 10\n",
      "Scraping page 11\n",
      "Scraping page 12\n",
      "Scraping page 13\n",
      "Scraping page 14\n",
      "Scraping page 15\n",
      "Scraping page 16\n",
      "Scraping page 17\n",
      "Scraping page 18\n",
      "Scraping page 19\n",
      "Scraping page 20\n",
      "Scraping page 21\n",
      "Scraping page 22\n",
      "Scraping page 23\n",
      "Scraping page 24\n",
      "Scraping page 25\n",
      "Scraping page 26\n",
      "Scraping page 27\n",
      "Scraping page 28\n",
      "Scraping page 29\n",
      "Scraping page 30\n",
      "Scraping page 31\n",
      "Scraping page 32\n",
      "Scraping page 33\n",
      "Scraping page 34\n",
      "Scraping page 35\n",
      "Scraping page 36\n",
      "Scraping page 37\n",
      "Scraping page 38\n",
      "Scraping page 39\n",
      "Scraped 39 pages\n"
     ]
    },
    {
     "name": "stderr",
     "output_type": "stream",
     "text": [
      "100%|██████████| 39/39 [00:11<00:00,  4.76it/s]\n"
     ]
    },
    {
     "name": "stdout",
     "output_type": "stream",
     "text": [
      "Recovered 3832 records\n",
      "Saving to ../data/scraping/scraped_tables/oakland.csv\n"
     ]
    }
   ],
   "source": [
    "# run scraping tool\n",
    "page_data = scraper.extract_all_table_data()"
   ]
  },
  {
   "cell_type": "code",
   "execution_count": null,
   "metadata": {},
   "outputs": [],
   "source": [
    "scraper.driver.quit()"
   ]
  },
  {
   "cell_type": "code",
   "execution_count": null,
   "metadata": {},
   "outputs": [],
   "source": [
    "import pandas as pd"
   ]
  },
  {
   "cell_type": "code",
   "execution_count": 15,
   "metadata": {},
   "outputs": [],
   "source": [
    "cities_csv_path = '../data/scraping/cities.csv'\n",
    "pd.DataFrame(CITY_ARGS).to_csv(cities_csv_path, header=False, index=False)"
   ]
  },
  {
   "cell_type": "code",
   "execution_count": null,
   "metadata": {},
   "outputs": [],
   "source": [
    "# dropdown_input_id = \"ctl00_ContentPlaceHolder1_lstYears_Input\"\n",
    "# scraper.driver.find_element_by_id(dropdown_input_id).click()\n",
    "\n",
    "# dropdown_div_xpath = \"//div[@id='ctl00_ContentPlaceHolder1_lstYears_DropDown']/div/ul/li\"\n",
    "# print([_.text for _ in scraper.driver.find_elements_by_xpath(dropdown_div_xpath)])\n",
    "\n",
    "# parent_xpath = \"//div[@id='{}']..\".format('ctl00_ContentPlaceHolder1_lstYears_DropDown')\n",
    "# scraper.driver.find_element_by_xpath(parent_xpath).get('display')"
   ]
  },
  {
   "cell_type": "code",
   "execution_count": 16,
   "metadata": {},
   "outputs": [],
   "source": [
    "\n",
    "CITY_ARGS = [\n",
    "    {\n",
    "    'city_name': 'hayward',\n",
    "    'scrape_url': 'https://hayward.legistar.com/Calendar.aspx',\n",
    "    },\n",
    "    {\n",
    "    'city_name': 'santa_clara',\n",
    "    'scrape_url': 'https://santaclara.legistar.com/Calendar.aspx',\n",
    "    }, \n",
    "    {\n",
    "    'city_name': 'mountain_view',\n",
    "    'scrape_url': 'https://mountainview.legistar.com/Calendar.aspx',\n",
    "    },\n",
    "    {\n",
    "    'city_name': 'sunnyvale',\n",
    "    'scrape_url': 'https://sunnyvaleca.legistar.com/Calendar.aspx',\n",
    "    },\n",
    "    {\n",
    "    'city_name': 'san_jose',\n",
    "    'scrape_url': 'https://sanjose.legistar.com/Calendar.aspx'\n",
    "    },\n",
    "    {\n",
    "    'city_name': 'cupertino',\n",
    "    'scrape_url': 'https://cupertino.legistar.com/Calendar.aspx'\n",
    "    },\n",
    "    {\n",
    "    'city_name': 'san_mateo_county',\n",
    "    'scrape_url': 'https://sanmateocounty.legistar.com/Calendar.aspx'\n",
    "    },    \n",
    "    {\n",
    "    'city_name': 'burlingame',\n",
    "    'scrape_url': 'https://burlingameca.legistar.com/Calendar.aspx'\n",
    "    },\n",
    "    {\n",
    "    'city_name': 'san_leandro',\n",
    "    'scrape_url': 'https://sanleandro.legistar.com/Calendar.aspx'\n",
    "    },    \n",
    "    {\n",
    "    'city_name': 'alameda',\n",
    "    'scrape_url': 'https://alameda.legistar.com/Calendar.aspx'\n",
    "    },   \n",
    "    {\n",
    "    'city_name': 'oakland',\n",
    "    'scrape_url': 'https://oakland.legistar.com/Calendar.aspx'\n",
    "    },\n",
    "    {\n",
    "    'city_name': 'san_francisco',\n",
    "    'scrape_url': 'https://sfgov.legistar.com/Calendar.aspx'\n",
    "    },\n",
    "    {\n",
    "    'city_name': 'hercules',\n",
    "    'scrape_url': 'https://hercules.legistar.com/Calendar.aspx'\n",
    "    },\n",
    "    {\n",
    "    'city_name': 'stockton',\n",
    "    'scrape_url': 'https://stockton.legistar.com/Calendar.aspx'\n",
    "    },\n",
    "    {\n",
    "    'city_name': 'south_san_francisco',\n",
    "    'scrape_url': 'https://ci-ssf-ca.legistar.com/Calendar.aspx'\n",
    "    },            \n",
    "    {\n",
    "    'city_name': 'mtc',\n",
    "    'scrape_url': 'https://mtc.legistar.com/Calendar.aspx'\n",
    "    }            \n",
    "]\n"
   ]
  },
  {
   "cell_type": "code",
   "execution_count": 23,
   "metadata": {},
   "outputs": [],
   "source": [
    "city_df = pd.read_csv(cities_csv_path, header=None, names=['A', 'B'])"
   ]
  },
  {
   "cell_type": "code",
   "execution_count": 27,
   "metadata": {},
   "outputs": [
    {
     "name": "stdout",
     "output_type": "stream",
     "text": [
      "{'A': 'hayward', 'B': 'https://hayward.legistar.com/Calendar.aspx'}\n",
      "{'A': 'santa_clara', 'B': 'https://santaclara.legistar.com/Calendar.aspx'}\n",
      "{'A': 'mountain_view', 'B': 'https://mountainview.legistar.com/Calendar.aspx'}\n",
      "{'A': 'sunnyvale', 'B': 'https://sunnyvaleca.legistar.com/Calendar.aspx'}\n",
      "{'A': 'san_jose', 'B': 'https://sanjose.legistar.com/Calendar.aspx'}\n",
      "{'A': 'cupertino', 'B': 'https://cupertino.legistar.com/Calendar.aspx'}\n",
      "{'A': 'san_mateo_county', 'B': 'https://sanmateocounty.legistar.com/Calendar.aspx'}\n",
      "{'A': 'burlingame', 'B': 'https://burlingameca.legistar.com/Calendar.aspx'}\n",
      "{'A': 'san_leandro', 'B': 'https://sanleandro.legistar.com/Calendar.aspx'}\n",
      "{'A': 'alameda', 'B': 'https://alameda.legistar.com/Calendar.aspx'}\n",
      "{'A': 'oakland', 'B': 'https://oakland.legistar.com/Calendar.aspx'}\n",
      "{'A': 'san_francisco', 'B': 'https://sfgov.legistar.com/Calendar.aspx'}\n",
      "{'A': 'hercules', 'B': 'https://hercules.legistar.com/Calendar.aspx'}\n",
      "{'A': 'stockton', 'B': 'https://stockton.legistar.com/Calendar.aspx'}\n",
      "{'A': 'south_san_francisco', 'B': 'https://ci-ssf-ca.legistar.com/Calendar.aspx'}\n",
      "{'A': 'mtc', 'B': 'https://mtc.legistar.com/Calendar.aspx'}\n"
     ]
    }
   ],
   "source": [
    "for _, row in city_df.iterrows():\n",
    "    print(dict(row))"
   ]
  },
  {
   "cell_type": "code",
   "execution_count": null,
   "metadata": {},
   "outputs": [],
   "source": []
  }
 ],
 "metadata": {
  "kernelspec": {
   "display_name": "py37",
   "language": "python",
   "name": "py37"
  },
  "language_info": {
   "codemirror_mode": {
    "name": "ipython",
    "version": 3
   },
   "file_extension": ".py",
   "mimetype": "text/x-python",
   "name": "python",
   "nbconvert_exporter": "python",
   "pygments_lexer": "ipython3",
   "version": "3.7.3"
  }
 },
 "nbformat": 4,
 "nbformat_minor": 2
}
