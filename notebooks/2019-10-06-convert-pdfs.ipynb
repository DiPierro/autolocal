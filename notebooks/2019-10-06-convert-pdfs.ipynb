{
 "cells": [
  {
   "cell_type": "code",
   "execution_count": 1,
   "metadata": {},
   "outputs": [],
   "source": [
    "import pdfminer\n",
    "import os, sys\n",
    "sys.path.append(os.path.abspath('..'))\n",
    "from autolocalnews.pdf2txt import main"
   ]
  },
  {
   "cell_type": "code",
   "execution_count": 2,
   "metadata": {},
   "outputs": [],
   "source": [
    "# Set data directory\n",
    "data_dir = '../data/gridley' "
   ]
  },
  {
   "cell_type": "code",
   "execution_count": 3,
   "metadata": {},
   "outputs": [],
   "source": [
    "pdfdir = os.path.join(data_dir, 'pdf') # directory containing PDF files\n",
    "txtdir = os.path.join(data_dir, 'txt') # directory to contain TXT files"
   ]
  },
  {
   "cell_type": "code",
   "execution_count": 4,
   "metadata": {},
   "outputs": [],
   "source": [
    "if not os.path.exists(txtdir):\n",
    "    os.mkdir(txtdir)\n",
    "for pdfname in os.listdir(pdfdir):\n",
    "    txtname = pdfname[:-4] + '.txt'\n",
    "    args = [os.path.join(pdfdir, pdfname), '-o', os.path.join(txtdir, txtname)]\n",
    "    main(args)"
   ]
  },
  {
   "cell_type": "code",
   "execution_count": 5,
   "metadata": {},
   "outputs": [],
   "source": [
    "import nltk"
   ]
  },
  {
   "cell_type": "code",
   "execution_count": 7,
   "metadata": {},
   "outputs": [
    {
     "data": {
      "text/plain": [
       "['I', 'don', 't', 'like', 'to', 'eat', 'Cici', 's', 'food', 'it', 'is', 'true']"
      ]
     },
     "execution_count": 7,
     "metadata": {},
     "output_type": "execute_result"
    }
   ],
   "source": [
    "import re \n",
    "# tokenizer = re.compile(r'\\w+|\\$[\\d\\.]+|\\S+') \n",
    "tokenizer = re.compile(r'\\w+')\n",
    "tokenizer.findall(\"I don't like to eat Cici's food (it is true)\")\n"
   ]
  },
  {
   "cell_type": "code",
   "execution_count": null,
   "metadata": {},
   "outputs": [],
   "source": []
  }
 ],
 "metadata": {
  "kernelspec": {
   "display_name": "py37",
   "language": "python",
   "name": "py37"
  },
  "language_info": {
   "codemirror_mode": {
    "name": "ipython",
    "version": 3
   },
   "file_extension": ".py",
   "mimetype": "text/x-python",
   "name": "python",
   "nbconvert_exporter": "python",
   "pygments_lexer": "ipython3",
   "version": "3.7.3"
  }
 },
 "nbformat": 4,
 "nbformat_minor": 2
}
