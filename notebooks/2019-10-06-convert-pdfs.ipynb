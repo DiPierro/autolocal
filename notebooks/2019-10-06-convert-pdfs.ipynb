{
 "cells": [
  {
   "cell_type": "code",
   "execution_count": 4,
   "metadata": {},
   "outputs": [],
   "source": [
    "import pdfminer"
   ]
  },
  {
   "cell_type": "code",
   "execution_count": 17,
   "metadata": {},
   "outputs": [],
   "source": [
    "from pdfminer.pdfparser import PDFParser\n",
    "from pdfminer.pdfdocument import PDFDocument\n",
    "from pdfminer.pdfpage import PDFPage\n",
    "from pdfminer.pdfpage import PDFTextExtractionNotAllowed\n",
    "from pdfminer.pdfinterp import PDFResourceManager\n",
    "from pdfminer.pdfinterp import PDFPageInterpreter\n",
    "from pdfminer.pdfdevice import PDFDevice\n",
    "\n",
    "# Open a PDF file.\n",
    "fname = \"../data/docs/gridley/Gridley_2019-10-07_City-Council_Agenda.pdf\"\n",
    "fp = open(fname, 'rb')\n",
    "# Create a PDF parser object associated with the file object.\n",
    "parser = PDFParser(fp)\n",
    "# Create a PDF document object that stores the document structure.\n",
    "# Supply the password for initialization.\n",
    "document = PDFDocument(parser, \"\")\n",
    "# Check if the document allows text extraction. If not, abort.\n",
    "if not document.is_extractable:\n",
    "    raise PDFTextExtractionNotAllowed\n",
    "# Create a PDF resource manager object that stores shared resources.\n",
    "rsrcmgr = PDFResourceManager()\n",
    "# Create a PDF device object.\n",
    "device = PDFDevice(rsrcmgr)\n",
    "# Create a PDF interpreter object.\n",
    "interpreter = PDFPageInterpreter(rsrcmgr, device)\n",
    "# Process each page contained in the document.\n",
    "for page in PDFPage.create_pages(document):\n",
    "    interpreter.process_page(page)"
   ]
  },
  {
   "cell_type": "code",
   "execution_count": 20,
   "metadata": {},
   "outputs": [],
   "source": [
    "from pdfminer.layout import LAParams\n",
    "from pdfminer.converter import PDFPageAggregator\n",
    "\n",
    "# Set parameters for analysis.\n",
    "laparams = LAParams()\n",
    "# Create a PDF page aggregator object.\n",
    "device = PDFPageAggregator(rsrcmgr, laparams=laparams)\n",
    "interpreter = PDFPageInterpreter(rsrcmgr, device)\n",
    "for page in PDFPage.create_pages(document):\n",
    "    interpreter.process_page(page)\n",
    "    # receive the LTPage object for the page.\n",
    "    layout = device.get_result()\n",
    "    break"
   ]
  },
  {
   "cell_type": "code",
   "execution_count": 23,
   "metadata": {},
   "outputs": [
    {
     "name": "stdout",
     "output_type": "stream",
     "text": [
      "<LTTextBoxHorizontal(0) 102.960,730.510,521.527,752.662 'Gridley City Council – Regular City Council Meeting Agenda \\n'>\n",
      "<LTTextBoxHorizontal(1) 226.560,717.036,396.830,731.807 'Monday, October 7, 2019; 6:00 pm \\n'>\n",
      "<LTTextBoxHorizontal(2) 175.820,702.761,447.437,717.532 'Gridley City Hall, 685 Kentucky Street, Gridley, CA 95948 \\n'>\n",
      "<LTTextBoxHorizontal(3) 310.440,688.356,312.935,703.127 ' \\n'>\n",
      "<LTTextBoxHorizontal(4) 543.720,686.942,546.210,700.358 ' \\n'>\n",
      "<LTTextBoxHorizontal(5) 72.004,676.932,74.255,690.259 ' \\n'>\n",
      "<LTTextBoxHorizontal(6) 91.320,659.328,538.272,675.468 '“Our purpose is to continuously enhance our community’s vitality and overall quality of life.  We \\n'>\n",
      "<LTTextBoxHorizontal(7) 105.480,645.048,524.352,660.672 'are committed to providing high quality,  cost-effective municipal services and forming \\n'>\n",
      "<LTTextBoxHorizontal(8) 91.560,630.408,538.272,646.032 'productive partnerships with our residents and regional organizations.  We collectively develop, \\n'>\n",
      "<LTTextBoxHorizontal(9) 144.960,615.768,484.872,631.392 'share, and are guided by a clear vision, values, and meaningful objectives.” \\n'>\n",
      "<LTTextBoxHorizontal(10) 221.880,600.696,224.592,616.752 ' \\n'>\n",
      "<LTTextBoxHorizontal(11) 72.000,490.332,462.072,616.752 ' \\nCALL TO ORDER - Mayor Johnson \\nROLL CALL - Recording Secretary \\nPLEDGE OF ALLEGIANCE – Council member Borges \\nINVOCATION – Bishop Joshua McLean, Church of Jesus Christ, Latter-Day Saints \\nPROCLAMATIONS \\n'>\n",
      "<LTTextBoxHorizontal(12) 90.000,475.380,538.728,491.760 '•  Appreciation and Support of the Gridley Area Chamber of Commerce and Their Tuesday \\n'>\n",
      "<LTTextBoxHorizontal(13) 90.000,445.500,519.912,461.880 '•  Domestic Violence Awareness Month, October 2019 (accepted by Anastacia Snyder, \\n'>\n",
      "<LTTextBoxHorizontal(14) 108.000,460.896,221.232,476.952 'Night Farmer’s Market \\n'>\n",
      "<LTTextBoxHorizontal(15) 108.000,416.256,262.032,446.952 'Executive Director for Catalyst) \\n \\n'>\n",
      "<LTTextBoxHorizontal(16) 72.000,357.696,538.392,417.828 'COMMUNITY PARTICIPATION FORUM - Members of the public may address the City Council on \\nmatters not listed on the agenda.   The City Council may not discuss nor take action on any \\ncommunity participation item brought forward by a member of the community.  Comments are \\nrequested to be limited to three (3) minutes.  \\n'>\n",
      "<LTTextBoxHorizontal(17) 324.000,357.696,326.712,373.752 ' \\n'>\n",
      "<LTTextBoxHorizontal(18) 72.000,272.808,555.552,347.268 'CONSENT AGENDA – Items on the Consent Agenda are considered routine and acted upon by one \\nmotion. Any Council member may request that an item be removed for separate consideration. The \\nCity Council may only make minor comments; otherwise the item should be removed from the \\nConsent Agenda and placed as the first item(s) under “Items for Council Consideration”.  \\n \\n'>\n",
      "<LTTextBoxHorizontal(19) 108.000,257.580,120.456,273.960 '1. \\n'>\n",
      "<LTTextBoxHorizontal(20) 144.000,257.736,378.792,273.792 'City Council minutes dated September 16, 2019 \\n'>\n",
      "<LTTextBoxHorizontal(21) 144.000,187.176,558.551,247.152 'Approval of Resolution No. 2019-R-022: A Resolution of the City Council of the City \\nof Gridley Approving the Memorandum of Understanding Between the International \\nBrotherhood of Electrical Workers Local 1245 Employees and the Gridley City \\nCouncil \\n'>\n",
      "<LTTextBoxHorizontal(22) 144.000,131.136,549.311,176.592 'Approval of Resolution No. 2019-R-023: A Resolution of the City Council of the City \\nof Gridley Approving the Memorandum of Understanding Between the Gridley \\nPolice Officers Association and the Gridley City Council \\n'>\n",
      "<LTTextBoxHorizontal(23) 144.000,75.216,549.311,120.552 'Approval of Resolution No. 2019-R-024: A Resolution of the City Council of the City \\nof Gridley Adjusting Compensation for Management, Mid-Management, \\nConfidential and Unrepresented Employees \\n'>\n",
      "<LTTextBoxHorizontal(24) 108.000,230.940,120.456,247.320 '2. \\n'>\n",
      "<LTTextBoxHorizontal(25) 108.000,160.380,120.456,176.760 '3. \\n'>\n",
      "<LTTextBoxHorizontal(26) 108.000,104.340,120.456,120.720 '4. \\n'>\n",
      "<LTTextBoxHorizontal(27) 108.000,48.576,110.712,64.632 ' \\n'>\n",
      "<LTTextBoxHorizontal(28) 72.000,24.792,299.151,36.834 'GRIDLEY CITY COUNCIL AGENDA: Regular Meeting of 10-7-19  \\n'>\n",
      "<LTTextBoxHorizontal(29) 422.514,25.116,506.034,36.834 '                    Page 1 of 3 \\n'>\n",
      "<LTRect 79.350,692.050,541.650,753.750>\n"
     ]
    }
   ],
   "source": [
    "for x in layout:\n",
    "    print(x)"
   ]
  },
  {
   "cell_type": "code",
   "execution_count": null,
   "metadata": {},
   "outputs": [],
   "source": []
  }
 ],
 "metadata": {
  "kernelspec": {
   "display_name": "Python 3",
   "language": "python",
   "name": "python3"
  },
  "language_info": {
   "codemirror_mode": {
    "name": "ipython",
    "version": 3
   },
   "file_extension": ".py",
   "mimetype": "text/x-python",
   "name": "python",
   "nbconvert_exporter": "python",
   "pygments_lexer": "ipython3",
   "version": "3.7.4"
  }
 },
 "nbformat": 4,
 "nbformat_minor": 2
}
