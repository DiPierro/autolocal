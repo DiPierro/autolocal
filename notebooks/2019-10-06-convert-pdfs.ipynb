{
 "cells": [
  {
   "cell_type": "code",
   "execution_count": 1,
   "metadata": {},
   "outputs": [],
   "source": [
    "import pdfminer"
   ]
  },
  {
   "cell_type": "code",
   "execution_count": 9,
   "metadata": {},
   "outputs": [],
   "source": [
    "from pdfminer.pdfparser import PDFParser\n",
    "from pdfminer.pdfdocument import PDFDocument\n",
    "from pdfminer.pdfpage import PDFPage\n",
    "from pdfminer.pdfpage import PDFTextExtractionNotAllowed\n",
    "from pdfminer.pdfinterp import PDFResourceManager\n",
    "from pdfminer.pdfinterp import PDFPageInterpreter\n",
    "from pdfminer.pdfdevice import PDFDevice\n",
    "\n",
    "# Open a PDF file.\n",
    "fname = \"../data/docs/gridley/Gridley_2017-07-17_City-Council_Minutes.pdf\"\n",
    "fp = open(fname, 'rb')\n",
    "# Create a PDF parser object associated with the file object.\n",
    "parser = PDFParser(fp)\n",
    "# Create a PDF document object that stores the document structure.\n",
    "# Supply the password for initialization.\n",
    "document = PDFDocument(parser, \"\")\n",
    "# Check if the document allows text extraction. If not, abort.\n",
    "if not document.is_extractable:\n",
    "    raise PDFTextExtractionNotAllowed\n",
    "# Create a PDF resource manager object that stores shared resources.\n",
    "rsrcmgr = PDFResourceManager()\n",
    "# Create a PDF device object.\n",
    "device = PDFDevice(rsrcmgr)\n",
    "# Create a PDF interpreter object.\n",
    "interpreter = PDFPageInterpreter(rsrcmgr, device)\n",
    "# Process each page contained in the document.\n",
    "for page in PDFPage.create_pages(document):\n",
    "    interpreter.process_page(page)"
   ]
  },
  {
   "cell_type": "code",
   "execution_count": 10,
   "metadata": {},
   "outputs": [],
   "source": [
    "from pdfminer.layout import LAParams\n",
    "from pdfminer.converter import PDFPageAggregator\n",
    "\n",
    "# Set parameters for analysis.\n",
    "laparams = LAParams()\n",
    "# Create a PDF page aggregator object.\n",
    "device = PDFPageAggregator(rsrcmgr, laparams=laparams)\n",
    "interpreter = PDFPageInterpreter(rsrcmgr, device)\n",
    "for page in PDFPage.create_pages(document):\n",
    "    interpreter.process_page(page)\n",
    "    # receive the LTPage object for the page.\n",
    "    layout = device.get_result()"
   ]
  },
  {
   "cell_type": "code",
   "execution_count": 15,
   "metadata": {
    "scrolled": true
   },
   "outputs": [
    {
     "name": "stdout",
     "output_type": "stream",
     "text": [
      "<LTTextBoxHorizontal(0) 81.327,692.876,321.807,734.871 'ROLL CALL VOTE \\nAyes: Davidson, Johnson, Borges, Williams, Hall \\nMotion passed, 5-0 \\n'>\n",
      "692.8765 734.8715\n",
      "<LTTextBoxHorizontal(1) 81.388,663.577,322.704,676.072 'CITY STAFF AND COUNCIL COMMITTEE REPORTS \\n'>\n",
      "663.5765 676.0715\n",
      "<LTTextBoxHorizontal(2) 81.388,619.427,542.486,646.572 'Councilmember Borges reported on the Butte County Association of Governments and Butte \\nCounty Air Quality meetings he attended. \\n'>\n",
      "619.4265 646.5715\n",
      "<LTTextBoxHorizontal(3) 81.291,575.527,538.830,602.621 'Vice Mayor Johnson stated that he attended the Butte County Mosquito and Vector Control \\nDistrict meeting; there is 1 confirmed case of West Nile Virus in Butte County. \\n'>\n",
      "575.5265 602.6215\n",
      "<LTTextBoxHorizontal(4) 81.157,545.976,424.271,558.471 'Mayor Hall attended the Sutter Butte Flood Control Agency meeting. \\n'>\n",
      "545.9765 558.4715\n",
      "<LTTextBoxHorizontal(5) 81.052,516.480,518.595,529.221 'POTENTIAL FUTURE CITY COUNCIL ITEMS - (Appearing on the Agenda within 30-90 days): \\n'>\n",
      "516.48 529.2215\n",
      "<LTTextBoxHorizontal(6) 142.960,448.530,305.800,492.090 'Biggs Police Contract \\nResolutions for Assessment Districts \\nWeed Abatement Resolutions \\n'>\n",
      "448.53 492.09000000000003\n",
      "<LTTextBoxHorizontal(7) 142.780,414.930,307.671,442.690 'General Fund fee study work session \\nElectric Rate Discussions \\n'>\n",
      "414.93 442.69\n",
      "<LTTextBoxHorizontal(8) 142.380,397.930,320.746,409.090 'Sewer Pond Improvements and Policies \\n'>\n",
      "397.93 409.09000000000003\n",
      "<LTTextBoxHorizontal(9) 143.100,381.130,293.530,392.290 'Biggs Electric Services Agreement \\n'>\n",
      "381.13 392.29\n",
      "<LTTextBoxHorizontal(10) 417.070,448.330,462.053,491.890 '8/7/2017 \\n8/7/2017 \\n8/7/2017 \\n'>\n",
      "448.33 491.89\n",
      "<LTTextBoxHorizontal(11) 417.070,431.530,462.053,442.690 '8/7/2017 \\n'>\n",
      "431.53 442.69\n",
      "<LTTextBoxHorizontal(12) 417.300,414.730,467.452,425.890 '9/18/2017 \\n'>\n",
      "414.72999999999996 425.89\n",
      "<LTTextBoxHorizontal(13) 417.300,397.930,467.452,409.090 '9/18/2017 \\n'>\n",
      "397.93 409.09000000000003\n",
      "<LTTextBoxHorizontal(14) 416.740,381.130,473.177,392.290 '10/16/2017 \\n'>\n",
      "381.13 392.29\n",
      "<LTTextBoxHorizontal(15) 80.888,353.026,165.571,365.522 'CLOSED SESSION \\n'>\n",
      "353.0265 365.5215\n",
      "<LTTextBoxHorizontal(16) 116.600,330.730,128.085,341.890 '9. \\n'>\n",
      "330.72999999999996 341.89\n",
      "<LTTextBoxHorizontal(17) 152.130,301.180,557.989,341.640 'Government Code 54956.9: Conference with Legal Counsel and Gridley City staff to \\ndiscuss various claims presented against the City of Gridley. Claimants: Jaswinder \\nKaur; Tim Shields; Kyle Robert Heronemus; Peggy Turnbull \\n'>\n",
      "301.18 341.64\n",
      "<LTTextBoxHorizontal(18) 116.240,271.930,133.730,283.090 '10. \\n'>\n",
      "271.93 283.09000000000003\n",
      "<LTTextBoxHorizontal(19) 152.130,257.280,556.550,282.840 'Government Code 54957.6: Conference with Labor Negotiators, City of Gridley and \\nInternational Brotherhood of Electrical Workers \\n'>\n",
      "257.28 282.84000000000003\n",
      "<LTTextBoxHorizontal(20) 80.827,227.977,162.275,240.471 'ADJOURNMENT \\n'>\n",
      "227.97650000000002 240.4715\n",
      "<LTTextBoxHorizontal(21) 80.888,183.827,563.457,210.971 'Council came out of closed session with no reportable action and adjourned to the next regularly \\nscheduled meeting on August 7, 2017 \\n'>\n",
      "183.8265 210.9715\n",
      "<LTTextBoxHorizontal(22) 80.802,110.626,190.545,123.121 'Paul Ecker , City Clerk \\n'>\n",
      "110.6265 123.1215\n",
      "<LTTextBoxHorizontal(23) 80.857,17.497,333.078,27.791 'GRIDLEY CITY COUNCIL MINUTES: Regular Meeting of 7-17-17 (cid:9)\\n'>\n",
      "17.497 27.791\n",
      "<LTTextBoxHorizontal(24) 468.144,16.997,512.193,26.897 'Page 4 of 4 \\n'>\n",
      "16.997 26.897\n",
      "<LTFigure(ImagePart_3) 0.000,0.000,612.000,792.000 matrix=[612.00,0.00,0.00,792.00, (0.00,0.00)]>\n",
      "0 792\n"
     ]
    }
   ],
   "source": [
    "for elem in layout:\n",
    "    print(elem) #l, b, r, t ???\n",
    "    print(elem.y0, elem.y1)"
   ]
  },
  {
   "cell_type": "code",
   "execution_count": null,
   "metadata": {},
   "outputs": [],
   "source": []
  },
  {
   "cell_type": "code",
   "execution_count": null,
   "metadata": {},
   "outputs": [],
   "source": []
  }
 ],
 "metadata": {
  "kernelspec": {
   "display_name": "Python 3",
   "language": "python",
   "name": "python3"
  },
  "language_info": {
   "codemirror_mode": {
    "name": "ipython",
    "version": 3
   },
   "file_extension": ".py",
   "mimetype": "text/x-python",
   "name": "python",
   "nbconvert_exporter": "python",
   "pygments_lexer": "ipython3",
   "version": "3.7.4"
  }
 },
 "nbformat": 4,
 "nbformat_minor": 2
}
