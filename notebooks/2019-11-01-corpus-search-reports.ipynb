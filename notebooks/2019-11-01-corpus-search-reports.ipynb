{
 "cells": [
  {
   "cell_type": "code",
   "execution_count": 18,
   "metadata": {},
   "outputs": [],
   "source": [
    "import numpy as np\n",
    "from autolocal import DocumentManager"
   ]
  },
  {
   "cell_type": "markdown",
   "metadata": {},
   "source": [
    "## load documents"
   ]
  },
  {
   "cell_type": "code",
   "execution_count": 19,
   "metadata": {},
   "outputs": [],
   "source": [
    "manager = DocumentManager()\n",
    "bad_columns = [name for name in manager.metadata.columns if 'Unnamed' in name ]\n",
    "metadata = manager.metadata.drop(columns=bad_columns)"
   ]
  },
  {
   "cell_type": "code",
   "execution_count": 20,
   "metadata": {},
   "outputs": [
    {
     "data": {
      "text/plain": [
       "31678"
      ]
     },
     "execution_count": 20,
     "metadata": {},
     "output_type": "execute_result"
    }
   ],
   "source": [
    "len(metadata)"
   ]
  },
  {
   "cell_type": "code",
   "execution_count": 21,
   "metadata": {},
   "outputs": [],
   "source": [
    "q = {\n",
    "#     'city': 'San Jose',\n",
    "#     'committee': 'City Council',\n",
    "    'doc_type': 'Agenda',\n",
    "}\n",
    "idx = np.array([True]*len(metadata), dtype=bool)\n",
    "for k, v in q.items():\n",
    "    idx = idx & np.array(metadata.loc[:,k]==v)\n",
    "meetings = metadata.loc[idx,:]"
   ]
  },
  {
   "cell_type": "code",
   "execution_count": 22,
   "metadata": {},
   "outputs": [],
   "source": [
    "# get documents\n",
    "import pandas as pd\n",
    "from autolocal.nlp import Tokenizer\n",
    "tokenizer = Tokenizer()\n",
    "\n",
    "documents = []\n",
    "for idx, row in meetings.iterrows():\n",
    "    path = row['local_path_txt']\n",
    "    with open(path) as f:\n",
    "        doc = f.read()\n",
    "    documents.append(str(doc))"
   ]
  },
  {
   "cell_type": "code",
   "execution_count": 23,
   "metadata": {},
   "outputs": [],
   "source": [
    "documents =  pd.DataFrame(documents, index=meetings.index, columns=['text'])\n",
    "meetings = pd.merge(meetings, documents, right_index=True, left_index=True)"
   ]
  },
  {
   "cell_type": "code",
   "execution_count": 28,
   "metadata": {
    "scrolled": false
   },
   "outputs": [
    {
     "name": "stdout",
     "output_type": "stream",
     "text": [
      "San Francisco Board of Supervisors\n",
      "2007-02-27 00:00:00\n",
      "2007, REFERRED FOR ADOPTION WITHOUT COMMITTEE REFERENCE\n",
      "AGENDA AT THE NEXT BOARD MEETING.\n",
      "Question: Shall this Resolution be ADOPTED?\n",
      "\n",
      "Supervisors Daly, Sandoval,\n",
      "Ammiano\n",
      "\n",
      "[Resolution condemning the Immigration and Customs\n",
      "Enforcement (ICE) Raids, opposing proposed guest\n",
      "worker programs and supporting legalization\n",
      "programs for immigrants]\n",
      "Resolution condemning Immigration and Customs Enforcement (I.C.E.) raids, opposing guest\n",
      "worker programs, and supporting legalization programs for immigrants living in the United\n",
      "States.\n",
      "2/13/2007, REFERRED FOR ADOPTION WITHOUT COMMITTEE REFERENCE\n",
      "AGENDA AT THE NEXT BOARD MEETING.\n",
      "Question: Shall this Resolution be ADOPTED?\n",
      "\n",
      "[Urging the United States Senate to restore federal\n",
      "funding to Public Housing programs.]\n",
      "Resolution urging the United States Senate \n",
      "Oakland Special Concurrent Meeting of the Oakland Redevelopment Successor Agency / City Council / Geologic Hazard Abatement District Board\n",
      "2018-07-24 00:00:00\n",
      "cheduled to the *Special Public Safety \n",
      "Committee\n",
      "Approved the Recommendation of Staff, and \n",
      "Forward to the Special Concurrent Meeting \n",
      "of the Oakland Redevelopment Successor \n",
      "Agency / City Council / Geologic Hazard \n",
      "Abatement District Board\n",
      "\n",
      "The Committee directed staff to find out if Alameda County still request \n",
      "nationalization or citicenship information and if they share this infomation \n",
      "with I.C.E.\n",
      "\n",
      "S7.40\n",
      "\n",
      "Tobacco Law Enforcement Grant\n",
      "Oakland Police Department \n",
      "\n",
      "Subject:\n",
      "From:\n",
      "Recommendation: Adopt A Resolution Authorizing The City Administrator Or Designee To \n",
      "Allow The Oakland Police Department (OPD) To Enter Into An MOU (Memorandum Of \n",
      "Understanding) With The California Department Of Justice (CA DOJ) And To Accept And \n",
      "Appropriate One Hundred Thousand Dollars ($100,000) For A Two-\n",
      "Oakland * Concurrent Meeting of the Oakland Redevelopment Successor Agency and the City Council\n",
      "2017-04-18 00:00:00\n",
      "gislation \n",
      "Committee\n",
      "\n",
      "Scheduled to the Concurrent Meeting of the \n",
      "Oakland Redevelopment Successor \n",
      "Agency and the City Council\n",
      "Scheduled to the Concurrent Meeting of the \n",
      "Oakland Redevelopment Successor \n",
      "Agency and the City Council\n",
      "Subject: Commemorate The Ten-Year Anniversary Of The Woodfin Ice Raids\n",
      "From:\n",
      "Recommendation: Adopt A Resolution To Commemorate The Ten-Year Anniversary \n",
      "Of The Woodfin I.C.E. Raids, Honor The Workers And Their Community Allies Who \n",
      "Organized To Defend Immigrant Workers’ Rights, And Call Upon Oakland Employers \n",
      "To Establish Sanctuary Workplaces\n",
      "16-0869\n",
      "Sponsors:\n",
      "\n",
      "Councilmember Kalb And President Pro Tempore Guillén \n",
      "\n",
      "Attachments:\n",
      "\n",
      "Kalb and Guillén\n",
      "View Report\n",
      "View Supplemental Report\n",
      "\n",
      "Legislative History \n",
      "\n",
      "3/23/17\n",
      "\n",
      "3/23/17\n",
      "\n",
      "*Rules & Legislation \n",
      "Committee\n",
      "\n",
      "*Rules\n",
      "Oakland *Rules & Legislation Committee\n",
      "2017-03-23 00:00:00\n",
      "mbers Dan Kalb \n",
      "\n",
      "City of Oakland\n",
      "\n",
      "Page 10 \n",
      "\n",
      "Printed on 3/22/2017   7:37:17PM\n",
      "\n",
      "\f",
      "*Rules & Legislation Committee\n",
      "\n",
      "Meeting Agenda - FINAL\n",
      "\n",
      "March 23, 2017\n",
      "\n",
      "4.32\n",
      "\n",
      "4.33\n",
      "\n",
      "4.34\n",
      "\n",
      "Subject: Commemorate The Ten-Year Anniversary Of The Woodfin Ice Raids\n",
      "From:\n",
      "Councilmember Dan Kalb And President Pro Tempore Abel Guillén \n",
      "Recommendation: Adopt A Resolution To Commemorate The Ten-Year Anniversary \n",
      "Of The Woodfin I.C.E. Raids, Honor The Workers And Their Community Allies Who \n",
      "Organized To Defend Immigrant Workers’ Rights, And Call Upon Oakland Employers \n",
      "To Establish Sanctuary Workplaces; On The April 18, 2017 City Council Agenda As A \n",
      "Ceremonial\n",
      "16-0869\n",
      "Sponsors:\n",
      "\n",
      "Kalb and Guillén\n",
      "\n",
      "President Pro Tempore Abel J Guillen\n",
      "\n",
      "Subject: Resolution Honoring The Lake Merritt Breakfast Club\n",
      "From:\n",
      "Recommendation: Adop\n",
      "Oakland *Rules and Legislation Committee - CANCELLED\n",
      "2017-03-16 00:00:00\n",
      " Commission Chair Barry J. Miller For His Dedicated Service To \n",
      "The Residents Of The City Of Oakland; On The April 18, 2017 City Council Agenda As \n",
      "A Ceremonial\n",
      "16-0866\n",
      "Subject: Commemorate The Ten-Year Anniversary Of The Woodfin Ice Raids\n",
      "From:\n",
      "Councilmember Dan Kalb And President Pro Tempore Abel Guillén \n",
      "Recommendation: Adopt A Resolution To Commemorate The Ten-Year Anniversary \n",
      "Of The Woodfin I.C.E. Raids, Honor The Workers And Their Community Allies Who \n",
      "Organized To Defend Immigrant Workers’ Rights, And Call Upon Oakland Employers \n",
      "To Establish Sanctuary Workplaces; On The April 18, 2017 City Council Agenda As A \n",
      "Ceremonial\n",
      "16-0869\n",
      "A Review Of The Council Committees' Actions From March 14, 2017 And \n",
      "Determination Of Scheduling To The City Council Meeting Of March 21, 2017 \n",
      "(MATRIX)\n",
      "1\n"
     ]
    }
   ],
   "source": [
    "import re\n",
    "\n",
    "# out_path = '../out/ellis_report.html'\n",
    "# out_path = '../out/eviction_report.html'\n",
    "# out_path = '../out/AB1482_report.html'\n",
    "out_path = '../out/ice_report_2.html'\n",
    "\n",
    "q = 'I\\.C\\.E\\.'\n",
    "saving = False\n",
    "\n",
    "def write_tag(s, tag='p'):    \n",
    "    print(s)\n",
    "    if saving:\n",
    "        with open(out_path,'a') as f:\n",
    "            f.write('<{}>'.format(tag) + s +'</{}>'.format(tag))\n",
    "\n",
    "# q = 'eviction'\n",
    "# q = r'Costa.Hawkins'\n",
    "window = 800 \n",
    "for idx, row in meetings.iterrows():\n",
    "    doc = row['text']\n",
    "    res = re.search(q, doc, re.IGNORECASE)\n",
    "    if res is not None:\n",
    "        start = res.start() \n",
    "        write_tag('{} {}'.format(row['city'], row['committee']), 'h4')\n",
    "        write_tag('{}'.format(row['date'], 'h5'))\n",
    "        row['date']\n",
    "        write_tag(doc[int(start-window/2):int(start+window/2)], 'p')"
   ]
  },
  {
   "cell_type": "code",
   "execution_count": 20,
   "metadata": {},
   "outputs": [
    {
     "data": {
      "text/plain": [
       "9"
      ]
     },
     "execution_count": 20,
     "metadata": {},
     "output_type": "execute_result"
    }
   ],
   "source": [
    "len(list(zip(meetings, documents)))"
   ]
  },
  {
   "cell_type": "code",
   "execution_count": 21,
   "metadata": {},
   "outputs": [
    {
     "data": {
      "text/plain": [
       "82"
      ]
     },
     "execution_count": 21,
     "metadata": {},
     "output_type": "execute_result"
    }
   ],
   "source": [
    "len(meetings)"
   ]
  },
  {
   "cell_type": "code",
   "execution_count": 22,
   "metadata": {},
   "outputs": [
    {
     "data": {
      "text/plain": [
       "82"
      ]
     },
     "execution_count": 22,
     "metadata": {},
     "output_type": "execute_result"
    }
   ],
   "source": [
    "len(documents)"
   ]
  },
  {
   "cell_type": "code",
   "execution_count": null,
   "metadata": {},
   "outputs": [],
   "source": []
  }
 ],
 "metadata": {
  "kernelspec": {
   "display_name": "autolocal",
   "language": "python",
   "name": "autolocal"
  },
  "language_info": {
   "codemirror_mode": {
    "name": "ipython",
    "version": 3
   },
   "file_extension": ".py",
   "mimetype": "text/x-python",
   "name": "python",
   "nbconvert_exporter": "python",
   "pygments_lexer": "ipython3",
   "version": "3.7.4"
  }
 },
 "nbformat": 4,
 "nbformat_minor": 2
}
