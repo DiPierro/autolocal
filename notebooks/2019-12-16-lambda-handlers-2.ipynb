{
 "cells": [
  {
   "cell_type": "markdown",
   "metadata": {},
   "source": [
    "## test email subscription code"
   ]
  },
  {
   "cell_type": "code",
   "execution_count": 69,
   "metadata": {},
   "outputs": [
    {
     "name": "stdout",
     "output_type": "stream",
     "text": [
      "The autoreload extension is already loaded. To reload it, use:\n",
      "  %reload_ext autoreload\n"
     ]
    }
   ],
   "source": [
    "%load_ext autoreload\n",
    "%autoreload 2"
   ]
  },
  {
   "cell_type": "code",
   "execution_count": 3,
   "metadata": {},
   "outputs": [],
   "source": [
    "import json\n",
    "from autolocal.mailer.events import SubscribeEvent\n",
    "from autolocal.mailer.lambda_handlers import lambda_handler_subscribe"
   ]
  },
  {
   "cell_type": "code",
   "execution_count": 4,
   "metadata": {},
   "outputs": [
    {
     "data": {
      "text/plain": [
       "{'email_address': 'chstock@stanford.edu',\n",
       " 'keywords': ['YIMBY'],\n",
       " 'municipalities': ['San Mateo County']}"
      ]
     },
     "execution_count": 4,
     "metadata": {},
     "output_type": "execute_result"
    }
   ],
   "source": [
    "aws_event={\n",
    "    'email_address': 'chstock@stanford.edu',\n",
    "#         'email_address': 'patwei@stanford.edu',\n",
    "#         'email_address': 'hs4man21@stanford.edu',\n",
    "#         'email_address': 'erindb@stanford.edu',\n",
    "    'keywords': ['YIMBY'],\n",
    "    'municipalities': ['San Mateo County']\n",
    "}\n",
    "context = ''\n",
    "aws_event"
   ]
  },
  {
   "cell_type": "code",
   "execution_count": 5,
   "metadata": {},
   "outputs": [
    {
     "data": {
      "text/plain": [
       "{'email_address': 'chstock@stanford.edu',\n",
       " 'keywords': ['YIMBY'],\n",
       " 'municipalities': ['San Mateo County'],\n",
       " 'id': '0c056e40c3370a8030f35130856f081577f90472758088c59e49f5ea'}"
      ]
     },
     "execution_count": 5,
     "metadata": {},
     "output_type": "execute_result"
    }
   ],
   "source": [
    "subscribe_event = SubscribeEvent(aws_event)\n",
    "subscribe_event.form_data"
   ]
  },
  {
   "cell_type": "code",
   "execution_count": 7,
   "metadata": {},
   "outputs": [
    {
     "data": {
      "text/plain": [
       "{'statusCode': 200,\n",
       " 'body': '\"We sent a confirmation email to  chstock@stanford.edu. To finish subscribing, please check your inbox.\"'}"
      ]
     },
     "execution_count": 7,
     "metadata": {},
     "output_type": "execute_result"
    }
   ],
   "source": [
    "lambda_handler_subscribe(aws_event, context)"
   ]
  },
  {
   "cell_type": "markdown",
   "metadata": {},
   "source": [
    "## test subscription confirmation code"
   ]
  },
  {
   "cell_type": "code",
   "execution_count": 8,
   "metadata": {},
   "outputs": [],
   "source": [
    "import json\n",
    "from autolocal.mailer.events import ConfirmSubscriptionEvent\n",
    "from autolocal.mailer.lambda_handlers import lambda_handler_confirm_subscription"
   ]
  },
  {
   "cell_type": "code",
   "execution_count": 10,
   "metadata": {},
   "outputs": [],
   "source": [
    "aws_event = {\n",
    "    'queryStringParameters': {\n",
    "        'qid': '0c056e40c3370a8030f35130856f081577f90472758088c59e49f5ea',\n",
    "    }\n",
    "}\n",
    "context = ''"
   ]
  },
  {
   "cell_type": "code",
   "execution_count": 15,
   "metadata": {},
   "outputs": [
    {
     "data": {
      "text/plain": [
       "'0c056e40c3370a8030f35130856f081577f90472758088c59e49f5ea'"
      ]
     },
     "execution_count": 15,
     "metadata": {},
     "output_type": "execute_result"
    }
   ],
   "source": [
    "confirm_event = ConfirmSubscriptionEvent(aws_event['queryStringParameters'])\n",
    "confirm_event.query_id"
   ]
  },
  {
   "cell_type": "code",
   "execution_count": 17,
   "metadata": {},
   "outputs": [
    {
     "data": {
      "text/plain": [
       "{'statusCode': 200,\n",
       " 'body': '\"Email address has been subscribed: chstock@stanford.edu.\"'}"
      ]
     },
     "execution_count": 17,
     "metadata": {},
     "output_type": "execute_result"
    }
   ],
   "source": [
    "lambda_handler_confirm_subscription(aws_event, context)"
   ]
  },
  {
   "cell_type": "markdown",
   "metadata": {},
   "source": [
    "## test unsubscribe code"
   ]
  },
  {
   "cell_type": "code",
   "execution_count": 4,
   "metadata": {},
   "outputs": [],
   "source": [
    "import json\n",
    "from autolocal.mailer.events import UnsubscribeEvent\n",
    "from autolocal.mailer.lambda_handlers import lambda_handler_unsubscribe"
   ]
  },
  {
   "cell_type": "code",
   "execution_count": 5,
   "metadata": {},
   "outputs": [],
   "source": [
    "aws_event = {\n",
    "        'email_address': 'chstock@stanford.edu',        \n",
    "    }\n",
    "context = ''"
   ]
  },
  {
   "cell_type": "code",
   "execution_count": 6,
   "metadata": {},
   "outputs": [
    {
     "name": "stdout",
     "output_type": "stream",
     "text": [
      "chstock@stanford.edu\n"
     ]
    }
   ],
   "source": [
    "unsubscribe_event = UnsubscribeEvent(aws_event)\n",
    "print(unsubscribe_event.email_address)"
   ]
  },
  {
   "cell_type": "code",
   "execution_count": 7,
   "metadata": {},
   "outputs": [
    {
     "data": {
      "text/plain": [
       "{'statusCode': 200,\n",
       " 'body': '\"We sent a confirmation email to  chstock@stanford.edu. To finish unsubscribing, please check your inbox.\"'}"
      ]
     },
     "execution_count": 7,
     "metadata": {},
     "output_type": "execute_result"
    }
   ],
   "source": [
    "lambda_handler_unsubscribe(aws_event, context)"
   ]
  },
  {
   "cell_type": "markdown",
   "metadata": {},
   "source": [
    "## test unsubscribe confirmation code"
   ]
  },
  {
   "cell_type": "code",
   "execution_count": 8,
   "metadata": {},
   "outputs": [],
   "source": [
    "import json\n",
    "from autolocal.mailer.events import ConfirmUnsubscribeEvent\n",
    "from autolocal.mailer.lambda_handlers import lambda_handler_confirm_unsubscribe\n",
    "from urllib.parse import urlencode, urldefrag, parse_qs"
   ]
  },
  {
   "cell_type": "code",
   "execution_count": 12,
   "metadata": {},
   "outputs": [],
   "source": [
    "aws_event = {\n",
    "    'queryStringParameters': {\n",
    "        'email_address': 'chstock@stanford.edu',        \n",
    "        }\n",
    "    }\n",
    "context = ''"
   ]
  },
  {
   "cell_type": "code",
   "execution_count": 13,
   "metadata": {},
   "outputs": [
    {
     "data": {
      "text/plain": [
       "'chstock@stanford.edu'"
      ]
     },
     "execution_count": 13,
     "metadata": {},
     "output_type": "execute_result"
    }
   ],
   "source": [
    "data = aws_event['queryStringParameters']\n",
    "confirm_unsubscribe_event = ConfirmUnsubscribeEvent(data)\n",
    "confirm_unsubscribe_event.email_address"
   ]
  },
  {
   "cell_type": "code",
   "execution_count": 14,
   "metadata": {},
   "outputs": [
    {
     "data": {
      "text/plain": [
       "{'statusCode': 200,\n",
       " 'body': '\"Email address has been unsubscribed from all email: chstock@stanford.edu.\"'}"
      ]
     },
     "execution_count": 14,
     "metadata": {},
     "output_type": "execute_result"
    }
   ],
   "source": [
    "lambda_handler_confirm_unsubscribe(aws_event, context)"
   ]
  }
 ],
 "metadata": {
  "kernelspec": {
   "display_name": "autolocal",
   "language": "python",
   "name": "autolocal"
  },
  "language_info": {
   "codemirror_mode": {
    "name": "ipython",
    "version": 3
   },
   "file_extension": ".py",
   "mimetype": "text/x-python",
   "name": "python",
   "nbconvert_exporter": "python",
   "pygments_lexer": "ipython3",
   "version": "3.7.5"
  }
 },
 "nbformat": 4,
 "nbformat_minor": 2
}
