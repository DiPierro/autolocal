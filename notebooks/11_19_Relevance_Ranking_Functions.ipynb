{
 "cells": [
  {
   "cell_type": "code",
   "execution_count": null,
   "metadata": {},
   "outputs": [],
   "source": [
    "# Import statements\n",
    "\n",
    "import pandas as pd\n",
    "import numpy as np\n",
    "from gensim.models.word2vec import Word2Vec\n",
    "import gensim.downloader as api\n",
    "from sklearn.metrics.pairwise import cosine_similarity\n",
    "\n",
    "from datetime import datetime\n",
    "import os\n",
    "from autolocal.nlp import Tokenizer\n",
    "from gensim.parsing.preprocessing import *"
   ]
  },
  {
   "cell_type": "code",
   "execution_count": 16,
   "metadata": {},
   "outputs": [
    {
     "name": "stdout",
     "output_type": "stream",
     "text": [
      "loading language model\n"
     ]
    },
    {
     "ename": "NameError",
     "evalue": "name 'api' is not defined",
     "output_type": "error",
     "traceback": [
      "\u001b[0;31m---------------------------------------------------------------------------\u001b[0m",
      "\u001b[0;31mNameError\u001b[0m                                 Traceback (most recent call last)",
      "\u001b[0;32m<ipython-input-16-cc05215f2d29>\u001b[0m in \u001b[0;36m<module>\u001b[0;34m\u001b[0m\n\u001b[1;32m      4\u001b[0m \u001b[0mprint\u001b[0m\u001b[0;34m(\u001b[0m\u001b[0;34m\"loading language model\"\u001b[0m\u001b[0;34m)\u001b[0m\u001b[0;34m\u001b[0m\u001b[0;34m\u001b[0m\u001b[0m\n\u001b[1;32m      5\u001b[0m \u001b[0;31m# load language model (this takes a few minutes)\u001b[0m\u001b[0;34m\u001b[0m\u001b[0;34m\u001b[0m\u001b[0;34m\u001b[0m\u001b[0m\n\u001b[0;32m----> 6\u001b[0;31m \u001b[0mmodel\u001b[0m \u001b[0;34m=\u001b[0m \u001b[0mapi\u001b[0m\u001b[0;34m.\u001b[0m\u001b[0mload\u001b[0m\u001b[0;34m(\u001b[0m\u001b[0;34m'word2vec-google-news-300'\u001b[0m\u001b[0;34m)\u001b[0m\u001b[0;34m\u001b[0m\u001b[0;34m\u001b[0m\u001b[0m\n\u001b[0m\u001b[1;32m      7\u001b[0m \u001b[0mprint\u001b[0m\u001b[0;34m(\u001b[0m\u001b[0;34m\"model loaded\"\u001b[0m\u001b[0;34m)\u001b[0m\u001b[0;34m\u001b[0m\u001b[0;34m\u001b[0m\u001b[0m\n\u001b[1;32m      8\u001b[0m \u001b[0mvectors\u001b[0m \u001b[0;34m=\u001b[0m \u001b[0mmodel\u001b[0m\u001b[0;34m.\u001b[0m\u001b[0mwv\u001b[0m\u001b[0;34m\u001b[0m\u001b[0;34m\u001b[0m\u001b[0m\n",
      "\u001b[0;31mNameError\u001b[0m: name 'api' is not defined"
     ]
    }
   ],
   "source": [
    "# set up word vectors\n",
    "# (this takes a loooong time)\n",
    "\n",
    "print(\"loading language model\")\n",
    "# load language model (this takes a few minutes)\n",
    "model = api.load('word2vec-google-news-300')\n",
    "print(\"model loaded\")\n",
    "\n",
    "vectors = model.wv\n",
    "del model\n",
    "vectors.init_sims(True) # normalize the vectors (!), so we can use the dot product as similarity measure\n",
    "\n",
    "print('embeddings loaded ')\n",
    "print('loading docs ... ')"
   ]
  },
  {
   "cell_type": "code",
   "execution_count": null,
   "metadata": {},
   "outputs": [],
   "source": [
    "def read_metadata():\n",
    "    # return data frame with metadata\n",
    "    pass"
   ]
  },
  {
   "cell_type": "code",
   "execution_count": 1,
   "metadata": {},
   "outputs": [],
   "source": [
    "def read_queries():\n",
    "    # read from input file\n",
    "    # parse as json\n",
    "    # return list of queries\n",
    "    return [{}]"
   ]
  },
  {
   "cell_type": "code",
   "execution_count": 2,
   "metadata": {},
   "outputs": [],
   "source": [
    "def read_history(): \n",
    "    return {\"user_id\": [\n",
    "        {\n",
    "            \"filename\": \"filename1\"\n",
    "            \"segment\": \"segment1\"\n",
    "        }\n",
    "    ]}"
   ]
  },
  {
   "cell_type": "code",
   "execution_count": 3,
   "metadata": {},
   "outputs": [],
   "source": [
    "tokenizer = Tokenizer()\n",
    "\n",
    "# TODO: is lowercasing necessary?\n",
    "preprocess_filters = [\n",
    "    lambda x: x.lower(),\n",
    "    strip_punctuation,\n",
    "    strip_numeric,\n",
    "    strip_non_alphanum,\n",
    "    strip_multiple_whitespaces,\n",
    "    strip_numeric,\n",
    "    remove_stopwords,\n",
    "    strip_short\n",
    "]\n",
    "\n",
    "def read_docs():\n",
    "    # read all documents that we know about\n",
    "    # tokenize each document\n",
    "    # return list of documents\n",
    "    return [\n",
    "        {\n",
    "            \"original_text\": \"I am a document document\",\n",
    "            \"tokens\": [\"I\", \"am\", \"a\", \"document\"],\n",
    "            \"filename\": \"filename1\"\n",
    "        },\n",
    "        {\n",
    "            \"original_text\": \"I am another doc\",\n",
    "            \"tokens\": [\"I\", \"am\", \"another\", \"doc\"],\n",
    "            \"filename\": \"filename2\"\n",
    "        }\n",
    "    ]"
   ]
  },
  {
   "cell_type": "code",
   "execution_count": 4,
   "metadata": {},
   "outputs": [],
   "source": [
    "def read_cached_idf(): \n",
    "    # read cached idf file and conver to json\n",
    "    pass"
   ]
  },
  {
   "cell_type": "code",
   "execution_count": 5,
   "metadata": {},
   "outputs": [],
   "source": [
    "def write_output(results): \n",
    "    pass"
   ]
  },
  {
   "cell_type": "code",
   "execution_count": 6,
   "metadata": {},
   "outputs": [],
   "source": [
    "def update_history(history, top_k_sections, query): \n",
    "    pass"
   ]
  },
  {
   "cell_type": "code",
   "execution_count": 7,
   "metadata": {},
   "outputs": [],
   "source": [
    "def write_history(history): \n",
    "    pass"
   ]
  },
  {
   "cell_type": "code",
   "execution_count": 8,
   "metadata": {},
   "outputs": [],
   "source": [
    "def calculate_idf(all_docs): \n",
    "    # for each word, how many unique docs does it show up in?\n",
    "    return {\n",
    "        \"I\": 1./2,\n",
    "        \"am\": 1./2,\n",
    "        \"a\": 1./1,\n",
    "        \"another\": 1./1,\n",
    "        \"document\": 1./1,\n",
    "        \"doc\": 1./1\n",
    "    }"
   ]
  },
  {
   "cell_type": "code",
   "execution_count": 9,
   "metadata": {},
   "outputs": [],
   "source": [
    "def cache_idf(idf):\n",
    "    # write the idf dict to a file\n",
    "    pass"
   ]
  },
  {
   "cell_type": "code",
   "execution_count": 10,
   "metadata": {},
   "outputs": [],
   "source": [
    "def segment_docs(relevant_docs, keywords): \n",
    "    return [\n",
    "        {\n",
    "            \"original_text\": \"I am a document document\",\n",
    "            \"tokens\": [\"I\", \"am\"],\n",
    "            \"filename\": \"filename1\",\n",
    "            \"section_id\": \"section1\",\n",
    "        },\n",
    "        {\n",
    "            \"original_text\": \"I am a document document\",\n",
    "            \"tokens\": [\"a\", \"document\"],\n",
    "            \"filename\": \"filename1\",\n",
    "            \"section_id\": \"section2\",\n",
    "        },\n",
    "        {\n",
    "            \"original_text\": \"I am another doc\",\n",
    "            \"tokens\": [\"I\", \"am\", \"another\", \"doc\"],\n",
    "            \"filename\": \"filename2\",\n",
    "            \"section\": \"section3\"\n",
    "        }\n",
    "    ]"
   ]
  },
  {
   "cell_type": "code",
   "execution_count": 11,
   "metadata": {},
   "outputs": [],
   "source": [
    "def select_relevant_docs(municipalities, time_window, all_docs, metadata): \n",
    "    # filter metadata to only those files that match the query municipality and time_window\n",
    "    # filter all docs to only filenames in subset of metadata\n",
    "    return [\n",
    "        {\n",
    "            \"original_text\": \"I am a document document\",\n",
    "            \"tokens\": [\"I\", \"am\", \"a\", \"document\"],\n",
    "            \"filename\": \"filename1\"\n",
    "        },\n",
    "        {\n",
    "            \"original_text\": \"I am another doc\",\n",
    "            \"tokens\": [\"I\", \"am\", \"another\", \"doc\"],\n",
    "            \"filename\": \"filename2\"\n",
    "        }\n",
    "    ]"
   ]
  },
  {
   "cell_type": "code",
   "execution_count": 12,
   "metadata": {},
   "outputs": [],
   "source": [
    "def score_doc_section(doc_section, keywords, idf):\n",
    "    # vectorize etc.\n",
    "    pass"
   ]
  },
  {
   "cell_type": "code",
   "execution_count": 13,
   "metadata": {},
   "outputs": [],
   "source": [
    "def select_top_k(doc_sections, doc_scores, k, history): \n",
    "    pass"
   ]
  },
  {
   "cell_type": "code",
   "execution_count": 14,
   "metadata": {},
   "outputs": [],
   "source": [
    "def update_results(results, top_k_sections, query): \n",
    "    pass"
   ]
  },
  {
   "cell_type": "code",
   "execution_count": 15,
   "metadata": {},
   "outputs": [],
   "source": [
    "def run_queries(use_cached_idf = False): \n",
    "    queries = read_queries()\n",
    "    metadata = read_metadata()\n",
    "    all_docs = read_docs(metadata)\n",
    "    if use_cached_idf:\n",
    "        idf = read_cached_idf()\n",
    "    else:\n",
    "        idf = calculate_idf(all_docs)\n",
    "        cache_idf(idf)\n",
    "    history = read_history()\n",
    "    \n",
    "    results = []\n",
    "    \n",
    "    for query in queries: \n",
    "        user_id = query[\"user_id\"]\n",
    "        query_id = query[\"query_id\"]\n",
    "        keywords = query[\"keywords\"]\n",
    "        time_window = query[\"time_window\"]\n",
    "        municipalities = query[\"municipalities\"]\n",
    "        relevant_docs = select_relevant_docs(municipalities, time_window, all_docs, metadata)\n",
    "        doc_sections = segment_docs(relevant_docs, keywords)\n",
    "        doc_sections_scores = score_doc_section(doc_section, keywords, idf)\n",
    "        top_k_sections = select_top_k(doc_sections, doc_scores, k, history)\n",
    "        results = update_results(results, top_k_sections, query)\n",
    "        history = update_history(history, top_k_sections, query)\n",
    "        \n",
    "    write_output(results)\n",
    "    write_history(history)\n",
    "            \n",
    "\n",
    "    "
   ]
  },
  {
   "cell_type": "code",
   "execution_count": null,
   "metadata": {},
   "outputs": [],
   "source": []
  }
 ],
 "metadata": {
  "kernelspec": {
   "display_name": "Python 3",
   "language": "python",
   "name": "python3"
  },
  "language_info": {
   "codemirror_mode": {
    "name": "ipython",
    "version": 3
   },
   "file_extension": ".py",
   "mimetype": "text/x-python",
   "name": "python",
   "nbconvert_exporter": "python",
   "pygments_lexer": "ipython3",
   "version": "3.7.3"
  }
 },
 "nbformat": 4,
 "nbformat_minor": 2
}
