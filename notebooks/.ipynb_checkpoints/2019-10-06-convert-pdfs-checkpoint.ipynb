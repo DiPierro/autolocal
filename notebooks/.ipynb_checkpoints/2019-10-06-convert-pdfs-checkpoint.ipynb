{
 "cells": [
  {
   "cell_type": "code",
   "execution_count": 1,
   "metadata": {},
   "outputs": [],
   "source": [
    "import pdfminer\n",
    "import os, sys\n",
    "sys.path.append(os.path.abspath('..'))\n",
    "from autolocalnews.pdf2txt import main"
   ]
  },
  {
   "cell_type": "code",
   "execution_count": null,
   "metadata": {},
   "outputs": [],
   "source": [
    "# Set data directory\n",
    "data_dir = 'data/sfport-minutes' "
   ]
  },
  {
   "cell_type": "code",
   "execution_count": null,
   "metadata": {},
   "outputs": [],
   "source": [
    "pdfdir = os.path.join(data_dir, 'pdf') # directory containing PDF files\n",
    "txtdir = os.path.join(data_dir, 'txt') # directory to contain TXT files"
   ]
  },
  {
   "cell_type": "code",
   "execution_count": null,
   "metadata": {},
   "outputs": [],
   "source": [
    "if not os.path.exists(txtdir):\n",
    "    os.mkdir(txtdir)\n",
    "for pdfname in os.listdir(pdfdir):\n",
    "    txtname = pdfname[:-4] + '.txt'\n",
    "    args = [os.path.join(pdfdir, pdfname), '-o', os.path.join(txtdir, txtname)]\n",
    "    main(args)"
   ]
  }
 ],
 "metadata": {
  "kernelspec": {
   "display_name": "py27",
   "language": "python",
   "name": "py27"
  },
  "language_info": {
   "codemirror_mode": {
    "name": "ipython",
    "version": 3
   },
   "file_extension": ".py",
   "mimetype": "text/x-python",
   "name": "python",
   "nbconvert_exporter": "python",
   "pygments_lexer": "ipython3",
   "version": "3.7.3"
  }
 },
 "nbformat": 4,
 "nbformat_minor": 2
}
