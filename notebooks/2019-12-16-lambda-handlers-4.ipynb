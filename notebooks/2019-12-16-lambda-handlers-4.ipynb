{
 "cells": [
  {
   "cell_type": "markdown",
   "metadata": {},
   "source": [
    "## test email subscription code"
   ]
  },
  {
   "cell_type": "code",
   "execution_count": 1,
   "metadata": {},
   "outputs": [],
   "source": [
    "%load_ext autoreload\n",
    "%autoreload 2"
   ]
  },
  {
   "cell_type": "code",
   "execution_count": 2,
   "metadata": {},
   "outputs": [],
   "source": [
    "import json\n",
    "from autolocal.mailer.events import SubscribeEvent\n",
    "from autolocal.mailer.lambda_handlers import lambda_handler_subscribe"
   ]
  },
  {
   "cell_type": "code",
   "execution_count": 3,
   "metadata": {},
   "outputs": [
    {
     "data": {
      "text/plain": [
       "{'email_address': 'chstock@stanford.edu',\n",
       " 'keywords': ['YIMBY'],\n",
       " 'municipalities': ['San Mateo County']}"
      ]
     },
     "execution_count": 3,
     "metadata": {},
     "output_type": "execute_result"
    }
   ],
   "source": [
    "aws_event={\n",
    "    'email_address': 'chstock@stanford.edu',\n",
    "    'keywords': ['YIMBY'],\n",
    "    'municipalities': ['San Mateo County']\n",
    "}\n",
    "context = ''\n",
    "aws_event"
   ]
  },
  {
   "cell_type": "code",
   "execution_count": 4,
   "metadata": {},
   "outputs": [
    {
     "data": {
      "text/plain": [
       "{'email_address': 'chstock@stanford.edu',\n",
       " 'keywords': ['YIMBY'],\n",
       " 'municipalities': ['San Mateo County'],\n",
       " 'id': '0c056e40c3370a8030f35130856f081577f90472758088c59e49f5ea'}"
      ]
     },
     "execution_count": 4,
     "metadata": {},
     "output_type": "execute_result"
    }
   ],
   "source": [
    "subscribe_event = SubscribeEvent(aws_event)\n",
    "subscribe_event.form_data"
   ]
  },
  {
   "cell_type": "code",
   "execution_count": 5,
   "metadata": {},
   "outputs": [
    {
     "data": {
      "text/plain": [
       "{'statusCode': 200,\n",
       " 'body': '\"We sent a confirmation email to  chstock@stanford.edu. To finish subscribing, please check your inbox.\"'}"
      ]
     },
     "execution_count": 5,
     "metadata": {},
     "output_type": "execute_result"
    }
   ],
   "source": [
    "lambda_handler_subscribe(aws_event, context)"
   ]
  },
  {
   "cell_type": "markdown",
   "metadata": {},
   "source": [
    "## test subscription confirmation code"
   ]
  },
  {
   "cell_type": "code",
   "execution_count": 6,
   "metadata": {},
   "outputs": [],
   "source": [
    "import json\n",
    "from autolocal.mailer.events import ConfirmSubscriptionEvent\n",
    "from autolocal.mailer.lambda_handlers import lambda_handler_confirm_subscription"
   ]
  },
  {
   "cell_type": "code",
   "execution_count": 7,
   "metadata": {},
   "outputs": [],
   "source": [
    "aws_event = {\n",
    "    'queryStringParameters': {\n",
    "        'qid': '0c056e40c3370a8030f35130856f081577f90472758088c59e49f5ea',\n",
    "    }\n",
    "}\n",
    "context = ''"
   ]
  },
  {
   "cell_type": "code",
   "execution_count": 8,
   "metadata": {},
   "outputs": [
    {
     "data": {
      "text/plain": [
       "'0c056e40c3370a8030f35130856f081577f90472758088c59e49f5ea'"
      ]
     },
     "execution_count": 8,
     "metadata": {},
     "output_type": "execute_result"
    }
   ],
   "source": [
    "confirm_event = ConfirmSubscriptionEvent(aws_event['queryStringParameters'])\n",
    "confirm_event.query_id"
   ]
  },
  {
   "cell_type": "code",
   "execution_count": 9,
   "metadata": {},
   "outputs": [
    {
     "data": {
      "text/plain": [
       "{'statusCode': 200,\n",
       " 'body': '\"Email address has been subscribed: chstock@stanford.edu.\"'}"
      ]
     },
     "execution_count": 9,
     "metadata": {},
     "output_type": "execute_result"
    }
   ],
   "source": [
    "lambda_handler_confirm_subscription(aws_event, context)"
   ]
  },
  {
   "cell_type": "markdown",
   "metadata": {},
   "source": [
    "## test unsubscribe code"
   ]
  },
  {
   "cell_type": "code",
   "execution_count": 10,
   "metadata": {},
   "outputs": [],
   "source": [
    "import json\n",
    "from autolocal.mailer.events import UnsubscribeEvent\n",
    "from autolocal.mailer.lambda_handlers import lambda_handler_unsubscribe"
   ]
  },
  {
   "cell_type": "code",
   "execution_count": 11,
   "metadata": {},
   "outputs": [],
   "source": [
    "aws_event = {\n",
    "        'email_address': 'chstock@stanford.edu',        \n",
    "    }\n",
    "context = ''"
   ]
  },
  {
   "cell_type": "code",
   "execution_count": 12,
   "metadata": {},
   "outputs": [
    {
     "name": "stdout",
     "output_type": "stream",
     "text": [
      "chstock@stanford.edu\n"
     ]
    }
   ],
   "source": [
    "unsubscribe_event = UnsubscribeEvent(aws_event)\n",
    "print(unsubscribe_event.email_address)"
   ]
  },
  {
   "cell_type": "code",
   "execution_count": 13,
   "metadata": {},
   "outputs": [
    {
     "data": {
      "text/plain": [
       "{'statusCode': 200,\n",
       " 'body': '\"We sent a confirmation email to  chstock@stanford.edu. To finish unsubscribing, please check your inbox.\"'}"
      ]
     },
     "execution_count": 13,
     "metadata": {},
     "output_type": "execute_result"
    }
   ],
   "source": [
    "lambda_handler_unsubscribe(aws_event, context)"
   ]
  },
  {
   "cell_type": "markdown",
   "metadata": {},
   "source": [
    "## test unsubscribe confirmation code"
   ]
  },
  {
   "cell_type": "code",
   "execution_count": 14,
   "metadata": {},
   "outputs": [],
   "source": [
    "import json\n",
    "from autolocal.mailer.events import ConfirmUnsubscribeEvent\n",
    "from autolocal.mailer.lambda_handlers import lambda_handler_confirm_unsubscribe\n",
    "from urllib.parse import urlencode, urldefrag, parse_qs"
   ]
  },
  {
   "cell_type": "code",
   "execution_count": 15,
   "metadata": {},
   "outputs": [],
   "source": [
    "aws_event = {\n",
    "    'queryStringParameters': {\n",
    "        'email_address': 'chstock@stanford.edu',        \n",
    "        }\n",
    "    }\n",
    "context = ''"
   ]
  },
  {
   "cell_type": "code",
   "execution_count": 16,
   "metadata": {},
   "outputs": [
    {
     "data": {
      "text/plain": [
       "'chstock@stanford.edu'"
      ]
     },
     "execution_count": 16,
     "metadata": {},
     "output_type": "execute_result"
    }
   ],
   "source": [
    "data = aws_event['queryStringParameters']\n",
    "confirm_unsubscribe_event = ConfirmUnsubscribeEvent(data)\n",
    "confirm_unsubscribe_event.email_address"
   ]
  },
  {
   "cell_type": "code",
   "execution_count": 17,
   "metadata": {},
   "outputs": [
    {
     "data": {
      "text/plain": [
       "{'statusCode': 200,\n",
       " 'body': '\"Email address has been unsubscribed from all email: chstock@stanford.edu.\"'}"
      ]
     },
     "execution_count": 17,
     "metadata": {},
     "output_type": "execute_result"
    }
   ],
   "source": [
    "lambda_handler_confirm_unsubscribe(aws_event, context)"
   ]
  },
  {
   "cell_type": "markdown",
   "metadata": {},
   "source": [
    "## test recommendation email"
   ]
  },
  {
   "cell_type": "code",
   "execution_count": 5,
   "metadata": {},
   "outputs": [],
   "source": [
    "aws_event = {\n",
    "  \"Records\": [\n",
    "    {\n",
    "      \"eventID\": \"1\",\n",
    "      \"eventVersion\": \"1.0\",\n",
    "      \"dynamodb\": {\n",
    "        \"Keys\": {\n",
    "          \"Id\": {\n",
    "            \"N\": \"101\"\n",
    "          }\n",
    "        },\n",
    "        \"NewImage\": {\n",
    "          \"Message\": {\n",
    "            \"S\": \"New item!\"\n",
    "          },\n",
    "          \"Id\": {\n",
    "            \"N\": \"101\"\n",
    "          }\n",
    "        },\n",
    "        \"StreamViewType\": \"NEW_AND_OLD_IMAGES\",\n",
    "        \"SequenceNumber\": \"111\",\n",
    "        \"SizeBytes\": 26\n",
    "      },\n",
    "      \"awsRegion\": \"us-west-2\",\n",
    "      \"eventName\": \"INSERT\",\n",
    "      \"eventSourceARN\": 'eventsourcearn',\n",
    "      \"eventSource\": \"aws:dynamodb\"\n",
    "    },\n",
    "    {\n",
    "      \"eventID\": \"2\",\n",
    "      \"eventVersion\": \"1.0\",\n",
    "      \"dynamodb\": {\n",
    "        \"OldImage\": {\n",
    "          \"Message\": {\n",
    "            \"S\": \"New item!\"\n",
    "          },\n",
    "          \"Id\": {\n",
    "            \"N\": \"101\"\n",
    "          }\n",
    "        },\n",
    "        \"SequenceNumber\": \"222\",\n",
    "        \"Keys\": {\n",
    "          \"Id\": {\n",
    "            \"N\": \"101\"\n",
    "          }\n",
    "        },\n",
    "        \"SizeBytes\": 59,\n",
    "        \"NewImage\": {\n",
    "          \"Message\": {\n",
    "            \"S\": \"This item has changed\"\n",
    "          },\n",
    "          \"Id\": {\n",
    "            \"N\": \"101\"\n",
    "          }\n",
    "        },\n",
    "        \"StreamViewType\": \"NEW_AND_OLD_IMAGES\"\n",
    "      },\n",
    "      \"awsRegion\": \"us-west-2\",\n",
    "      \"eventName\": \"MODIFY\",\n",
    "      \"eventSourceARN\": 'sourcearn',\n",
    "      \"eventSource\": \"aws:dynamodb\"\n",
    "    }\n",
    "  ]\n",
    "}"
   ]
  },
  {
   "cell_type": "code",
   "execution_count": null,
   "metadata": {},
   "outputs": [],
   "source": [
    "records = aws_event['Records']"
   ]
  },
  {
   "cell_type": "code",
   "execution_count": 13,
   "metadata": {},
   "outputs": [],
   "source": [
    "for record in records:\n",
    "    event_name  = record['eventName']\n",
    "    new_image = record['dynamodb']['NewImage']\n",
    "    "
   ]
  },
  {
   "cell_type": "code",
   "execution_count": 14,
   "metadata": {},
   "outputs": [
    {
     "data": {
      "text/plain": [
       "{'Message': {'S': 'This item has changed'}, 'Id': {'N': '101'}}"
      ]
     },
     "execution_count": 14,
     "metadata": {},
     "output_type": "execute_result"
    }
   ],
   "source": [
    "new_image"
   ]
  },
  {
   "cell_type": "code",
   "execution_count": 20,
   "metadata": {},
   "outputs": [
    {
     "data": {
      "text/plain": [
       "'{\"Records\": [{\"eventName\": \"INSERT\", \"dynamodb\": {\"NewImage\": {\"email_address\": {\"S\": \"chstock@stanford.edu\"}, \"keywords\": {\"L\": [{\"S\": \"housing\"}, {\"S\": \"affordable housing\"}, {\"S\": \"homelessness\"}, {\"S\": \"ADU\"}, {\"S\": \"the\"}]}, \"query_id\": {\"S\": \"c0173b668995cffaa4faf1444167d3b96e27c7945bc7c997de38a375\"}, \"id\": {\"S\": \"c0173b668995cffaa4faf1444167d3b96e27c7945bc7c997de38a375_2019-12-17 16:56:11.103274\"}, \"recommendations\": {\"L\": [{\"M\": {\"section_text\": {\"S\": \"Recommended Action: Provide a list of proposed City Work Program items,. identifying the top three proposals. Page 1. Sustainability Commission. Agenda. December 19, 2019. Staff Report. 5. Subject: Sustainability Speaker Series planning. Recommended Action: Discuss and decide next steps for Sustainability Speaker Series. STAFF AND COMMISSION REPORTS. ADJOURNMENT. In compliance with the Americans with Disabilities Act (ADA), anyone who is planning to attend the\"}, \"start_page\": {\"N\": \"1\"}, \"doc_id\": {\"S\": \"Cupertino_2019-12-19_Sustainability-Commission_Agenda\"}}}, {\"M\": {\"section_text\": {\"S\": \"lweisiger@alamedaca. gov and contact is Lara Weisiger, City Clerk. In order to assist the Citys efforts to accommodate persons with severe allergies,. environmental illnesses, multiple chemical sensitivity or related disabilities, attendees at. public meetings are reminded that other attendees may be sensitive to various chemical. based products. Please help the City accommodate these individuals\"}, \"start_page\": {\"N\": \"1\"}, \"doc_id\": {\"S\": \"Alameda_2020-10-19_Public-Utilities-Board_Agenda\"}}}, {\"M\": {\"section_text\": {\"S\": \"Human Services Commission event. Reference Materials: (1) The Kids We Lose flyer. C. Ad hoc: Immigration Issues (15 min). Purpose: to discuss work plan for the ad hoc focused on immigration issues. Action: Discussion only. Reference Materials: (1) FY2019-20 Human Services Work Plan. D. Ad hoc: Disability Rights Issue 1(5 min)\"}, \"start_page\": {\"N\": \"2\"}, \"doc_id\": {\"S\": \"San-Jose_2019-12-19_Human-Services-Commission_Agenda\"}}}, {\"M\": {\"section_text\": {\"S\": \"townhomes at 423 Commercial Avenue, and determine that the project is categorically. exempt from CEQA. (Gaspare Annibale, Associate Planner). ADMINISTRATIVE BUSINESS. 3. Report regarding an update on the progress of the Active South City Bicycle and. Pedestrian Plan (Nell Selander, Deputy Director of Economic and Community. Development and Tony Rozzi, Principal Planner)\"}, \"start_page\": {\"N\": \"3\"}, \"doc_id\": {\"S\": \"South-San-Francisco_2019-12-19_Planning-Commission_Agenda\"}}}, {\"M\": {\"section_text\": {\"S\": \"In order to assist the Citys efforts to accommodate persons with severe allergies,. environmental illnesses, multiple chemical sensitivity or related disabilities, attendees at. public meetings are reminded that other attendees may be sensitive to various chemical. based products. Please help the City accommodate these individuals. City of Alameda. Page 2\"}, \"start_page\": {\"N\": \"2\"}, \"doc_id\": {\"S\": \"Alameda_2019-12-18_Open-Government-Commission_Agenda\"}}}]}, \"municipalities\": {\"L\": [{\"S\": \"Alameda\"}, {\"S\": \"Burlingame\"}, {\"S\": \"Cupertino\"}, {\"S\": \"Hayward\"}, {\"S\": \"Hercules\"}, {\"S\": \"Metropolitan Transportation Commission\"}, {\"S\": \"Mountain View\"}, {\"S\": \"Oakland\"}, {\"S\": \"San Francisco\"}, {\"S\": \"San Jose\"}, {\"S\": \"San Leandro\"}, {\"S\": \"San Mateo County\"}, {\"S\": \"Santa Clara\"}, {\"S\": \"South San Francisco\"}, {\"S\": \"South San Francisco\"}, {\"S\": \"Stockton\"}]}}}}]}'"
      ]
     },
     "execution_count": 20,
     "metadata": {},
     "output_type": "execute_result"
    }
   ],
   "source": [
    "d = {'email_address': {'S': 'chstock@stanford.edu'}, 'keywords': {'L': [{'S': 'housing'}, {'S': 'affordable housing'}, {'S': 'homelessness'}, {'S': 'ADU'}, {'S': 'the'}]}, 'query_id': {'S': 'c0173b668995cffaa4faf1444167d3b96e27c7945bc7c997de38a375'}, 'id': {'S': 'c0173b668995cffaa4faf1444167d3b96e27c7945bc7c997de38a375_2019-12-17 16:56:11.103274'}, 'recommendations': {'L': [{'M': {'section_text': {'S': 'Recommended Action: Provide a list of proposed City Work Program items,. identifying the top three proposals. Page 1. Sustainability Commission. Agenda. December 19, 2019. Staff Report. 5. Subject: Sustainability Speaker Series planning. Recommended Action: Discuss and decide next steps for Sustainability Speaker Series. STAFF AND COMMISSION REPORTS. ADJOURNMENT. In compliance with the Americans with Disabilities Act (ADA), anyone who is planning to attend the'}, 'start_page': {'N': '1'}, 'doc_id': {'S': 'Cupertino_2019-12-19_Sustainability-Commission_Agenda'}}}, {'M': {'section_text': {'S': 'lweisiger@alamedaca. gov and contact is Lara Weisiger, City Clerk. In order to assist the Citys efforts to accommodate persons with severe allergies,. environmental illnesses, multiple chemical sensitivity or related disabilities, attendees at. public meetings are reminded that other attendees may be sensitive to various chemical. based products. Please help the City accommodate these individuals'}, 'start_page': {'N': '1'}, 'doc_id': {'S': 'Alameda_2020-10-19_Public-Utilities-Board_Agenda'}}}, {'M': {'section_text': {'S': 'Human Services Commission event. Reference Materials: (1) The Kids We Lose flyer. C. Ad hoc: Immigration Issues (15 min). Purpose: to discuss work plan for the ad hoc focused on immigration issues. Action: Discussion only. Reference Materials: (1) FY2019-20 Human Services Work Plan. D. Ad hoc: Disability Rights Issue 1(5 min)'}, 'start_page': {'N': '2'}, 'doc_id': {'S': 'San-Jose_2019-12-19_Human-Services-Commission_Agenda'}}}, {'M': {'section_text': {'S': 'townhomes at 423 Commercial Avenue, and determine that the project is categorically. exempt from CEQA. (Gaspare Annibale, Associate Planner). ADMINISTRATIVE BUSINESS. 3. Report regarding an update on the progress of the Active South City Bicycle and. Pedestrian Plan (Nell Selander, Deputy Director of Economic and Community. Development and Tony Rozzi, Principal Planner)'}, 'start_page': {'N': '3'}, 'doc_id': {'S': 'South-San-Francisco_2019-12-19_Planning-Commission_Agenda'}}}, {'M': {'section_text': {'S': 'In order to assist the Citys efforts to accommodate persons with severe allergies,. environmental illnesses, multiple chemical sensitivity or related disabilities, attendees at. public meetings are reminded that other attendees may be sensitive to various chemical. based products. Please help the City accommodate these individuals. City of Alameda. Page 2'}, 'start_page': {'N': '2'}, 'doc_id': {'S': 'Alameda_2019-12-18_Open-Government-Commission_Agenda'}}}]}, 'municipalities': {'L': [{'S': 'Alameda'}, {'S': 'Burlingame'}, {'S': 'Cupertino'}, {'S': 'Hayward'}, {'S': 'Hercules'}, {'S': 'Metropolitan Transportation Commission'}, {'S': 'Mountain View'}, {'S': 'Oakland'}, {'S': 'San Francisco'}, {'S': 'San Jose'}, {'S': 'San Leandro'}, {'S': 'San Mateo County'}, {'S': 'Santa Clara'}, {'S': 'South San Francisco'}, {'S': 'South San Francisco'}, {'S': 'Stockton'}]}}\n",
    "import json\n",
    "json.dumps({\n",
    "    'Records': [\n",
    "        {\n",
    "            'eventName': 'INSERT',\n",
    "            'dynamodb': {\n",
    "                'NewImage': d\n",
    "            }\n",
    "        }\n",
    "    ]\n",
    "})"
   ]
  },
  {
   "cell_type": "code",
   "execution_count": null,
   "metadata": {},
   "outputs": [],
   "source": []
  }
 ],
 "metadata": {
  "kernelspec": {
   "display_name": "autolocal",
   "language": "python",
   "name": "autolocal"
  },
  "language_info": {
   "codemirror_mode": {
    "name": "ipython",
    "version": 3
   },
   "file_extension": ".py",
   "mimetype": "text/x-python",
   "name": "python",
   "nbconvert_exporter": "python",
   "pygments_lexer": "ipython3",
   "version": "3.7.5"
  }
 },
 "nbformat": 4,
 "nbformat_minor": 2
}
