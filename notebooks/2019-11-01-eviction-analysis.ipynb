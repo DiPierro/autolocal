{
 "cells": [
  {
   "cell_type": "code",
   "execution_count": 1,
   "metadata": {},
   "outputs": [
    {
     "name": "stdout",
     "output_type": "stream",
     "text": [
      "<class 'list'>\n",
      "156835 searchable keywords\n"
     ]
    }
   ],
   "source": [
    "import numpy as np\n",
    "from autolocal import DocumentManager"
   ]
  },
  {
   "cell_type": "markdown",
   "metadata": {},
   "source": [
    "## load documents"
   ]
  },
  {
   "cell_type": "code",
   "execution_count": 2,
   "metadata": {},
   "outputs": [],
   "source": [
    "manager = DocumentManager()\n",
    "bad_columns = [name for name in manager.metadata.columns if 'Unnamed' in name ]\n",
    "metadata = manager.metadata.drop(columns=bad_columns)"
   ]
  },
  {
   "cell_type": "code",
   "execution_count": 3,
   "metadata": {},
   "outputs": [
    {
     "data": {
      "text/plain": [
       "18755"
      ]
     },
     "execution_count": 3,
     "metadata": {},
     "output_type": "execute_result"
    }
   ],
   "source": [
    "len(metadata)"
   ]
  },
  {
   "cell_type": "code",
   "execution_count": 4,
   "metadata": {},
   "outputs": [],
   "source": [
    "q = {\n",
    "#     'city': 'San Jose',\n",
    "#     'committee': 'City Council',\n",
    "    'doc_type': 'Agenda',\n",
    "}\n",
    "idx = np.array([True]*len(metadata), dtype=bool)\n",
    "for k, v in q.items():\n",
    "    idx = idx & np.array(metadata.loc[:,k]==v)\n",
    "meetings = metadata.loc[idx,:]"
   ]
  },
  {
   "cell_type": "code",
   "execution_count": 5,
   "metadata": {},
   "outputs": [],
   "source": [
    "# get documents\n",
    "import pandas as pd\n",
    "from autolocal.nlp import Tokenizer\n",
    "tokenizer = Tokenizer()\n",
    "\n",
    "documents = []\n",
    "for idx, row in meetings.iterrows():\n",
    "    path = row['local_path_txt']\n",
    "    with open(path) as f:\n",
    "        doc = f.read()\n",
    "    documents.append(str(doc))"
   ]
  },
  {
   "cell_type": "code",
   "execution_count": 6,
   "metadata": {},
   "outputs": [],
   "source": [
    "documents =  pd.DataFrame(documents, index=meetings.index, columns=['text'])\n",
    "meetings = pd.merge(meetings, documents, right_index=True, left_index=True)"
   ]
  },
  {
   "cell_type": "code",
   "execution_count": 17,
   "metadata": {
    "scrolled": false
   },
   "outputs": [
    {
     "name": "stdout",
     "output_type": "stream",
     "text": [
      "Cupertino Legislative Review Committee\n",
      "2019-08-27 00:00:00\n",
      "ider  adopting  a  position  on  AB  1487 (Chiu)  -  San  Francisco  Bay  Area \n",
      "housing development\n",
      "Recommended Action:  Consider adopting a position on AB 1487 and authorizing the \n",
      "Mayor to send a letter to the State Legislature\n",
      "Staff Report\n",
      "A - MTC Bill Information\n",
      "\n",
      "Page 2 \n",
      "\n",
      "\f",
      "Legislative Review Committee\n",
      "\n",
      "Agenda\n",
      "\n",
      "August 27, 2019\n",
      "\n",
      "9.\n",
      "\n",
      "10.\n",
      "\n",
      "11.\n",
      "\n",
      "12.\n",
      "\n",
      "13.\n",
      "\n",
      "Subject:  Consider adopting a position on AB 1482 (Chiu) - Tenancy: rent caps\n",
      "Recommended  Action:    Consider  taking  a  position  on  AB  1482 and  authorizing  the \n",
      "Mayor to send a letter to the State Legislature\n",
      "Staff Report\n",
      "\n",
      "Subject:    Consider  adopting  a  position  on  SB  6 (Beall)  -  Residential  development: \n",
      "available land\n",
      "Recommended  Action:    Adopt  a  position  supporting  Senate  Bill  6 and  authorize  the \n",
      "Mayor to \n",
      "San Francisco Board of Supervisors\n",
      "1999-05-17 00:00:00\n",
      "\n",
      "\n",
      "50. 990949 [State Legislation, AB 394, Acute Care Nurse to Patient Ratios] Supervisors Brown, Bierman, Ammiano\n",
      "Resolution urging the California Legislature to pass Assembly Bill 394, relating to nurse to patient ratios.\n",
      "5/10/1999, REFERRED FOR ADOPTION WITHOUT COMMITTEE REFERENCE AGENDA AT THE\n",
      "NEXT BOARD MEETING.\n",
      "Question: Shall this Resolution be ADOPTED?\n",
      "\n",
      "51. 990950 [State Legislation, Oppose AB 1482, Animal Care and Control Standards Delay]\n",
      "\n",
      "Supervisor Leno\n",
      "Resolution urging the California State Legislature to oppose AB 1482, which would delay implementation\n",
      "of humane animal care and control standards.\n",
      "5/10/1999, REFERRED FOR ADOPTION WITHOUT COMMITTEE REFERENCE AGENDA AT THE\n",
      "NEXT BOARD MEETING.\n",
      "Question: Shall this Resolution be ADOPTED?\n",
      "\n",
      "52. 990951 [State Legislation, AB 71, Carpool\n",
      "Mtc Metropolitan Transportation Commission\n",
      "2019-05-22 00:00:00\n",
      "rking_Group_Update_with Handouts.pdf\n",
      "\n",
      "AB 1481 (Bonta) and AB 1697 (Grayson) - Tenancy Termination: Just \n",
      "Cause\n",
      "\n",
      "Prohibits eviction of a tenant without just cause stated in writing. Requires \n",
      "tenant be provided a notice of a violation of lease and opportunity to cure \n",
      "violation prior to issuance of notice of termination.\n",
      "Support \n",
      "9ai_AB-1481 and AB-1697.pdf\n",
      "\n",
      "Action:\n",
      "\n",
      "Attachments:\n",
      "\n",
      "9a.ii.\n",
      "\n",
      "19-0511\n",
      "\n",
      "AB 1482 (Chiu) - Statewide Annual Cap on Rent Increases\n",
      "\n",
      "Caps annual rent increases by five percent above the percent change in \n",
      "the cost of living and limits the total rental rate increase within a 12 month \n",
      "period to 10 percent.\n",
      "Support\n",
      "9aii_AB-1482_Chiu.pdf\n",
      "\n",
      "Action:\n",
      "\n",
      "Attachments:\n",
      "\n",
      "9a.iii.\n",
      "\n",
      "19-0512\n",
      "\n",
      "SB 18 (Skinner) - Keep Californians Housed Act\n",
      "\n",
      "Authorizes a competitive grant program to be admi\n",
      "Mtc ABAG Executive Board\n",
      "2019-05-16 00:00:00\n",
      "Bills\n",
      "\n",
      "9.c.i.\n",
      "\n",
      "19-0604\n",
      "\n",
      "AB 1481 (Bonta) and AB 1697 (Grayson) - Tenancy Termination: Just \n",
      "Cause\n",
      "\n",
      "Prohibits eviction of a tenant without just cause stated in writing. Requires \n",
      "tenant be provided a notice of a violation of lease and opportunity to cure \n",
      "violation prior to issuance of notice of termination.\n",
      "Support\n",
      "AB 1481 and AB 1697 Staff Summary 5/10/19\n",
      "\n",
      "Action:\n",
      "\n",
      "Attachments:\n",
      "\n",
      "9.c.ii.\n",
      "\n",
      "19-0605\n",
      "\n",
      "AB 1482 (Chiu) - Statewide Annual Cap on Rent Increases\n",
      "\n",
      "Caps annual rent increases by five percent above the percent change in \n",
      "the cost of living and limits the total rental rate increase within a 12 month \n",
      "period to 10 percent.\n",
      "Support\n",
      "AB 1482 Staff Summary 5/10/19\n",
      "\n",
      "Action:\n",
      "\n",
      "Attachments:\n",
      "\n",
      "9.c.iii.\n",
      "\n",
      "19-0606\n",
      "\n",
      "SB 18 (Skinner) - Keep Californians Housed Act\n",
      "\n",
      "Authorizes a competitive grant program t\n",
      "Mtc Joint MTC Legislation Committee and ABAG Legislation Committee\n",
      "2019-05-10 00:00:00\n",
      " in writing. Requires \n",
      "tenant be provided a notice of a violation of lease and opportunity to cure \n",
      "violation prior to issuance of notice of termination.\n",
      "Support / ABAG Executive Board Approval\n",
      "Support / MTC Commission Approval\n",
      "Rebecca Long\n",
      "7b1_AB-1481 and AB-1697.pdf\n",
      "\n",
      "Action:\n",
      "\n",
      "Presenter:\n",
      "\n",
      "Attachments:\n",
      "\n",
      "\f",
      "Joint MTC Legislation Committee and ABAG \n",
      "Legislation Committee\n",
      "\n",
      "May 10, 2019\n",
      "\n",
      "7b2.\n",
      "\n",
      "19-0511\n",
      "\n",
      "AB 1482 (Chiu) - Statewide Annual Cap on Rent Increases\n",
      "\n",
      "Caps annual rent increases by five percent above the percent change in \n",
      "the cost of living and limits the total rental rate increase within a 12 month \n",
      "period to 10 percent.\n",
      "Support / ABAG Executive Board Approval\n",
      "Support / MTC Commission Approval\n",
      "Rebecca Long\n",
      "7b2_AB-1482_Chiu.pdf\n",
      "\n",
      "Action:\n",
      "\n",
      "Presenter:\n",
      "\n",
      "Attachments:\n",
      "\n",
      "7b3.\n",
      "\n",
      "19-0512\n",
      "\n",
      "SB 18 (Ski\n",
      "Mtc ABAG Legislation Committee\n",
      "2019-05-10 00:00:00\n",
      "g. Requires \n",
      "tenant be provided a notice of a violation of lease and opportunity to cure \n",
      "violation prior to issuance of notice of termination.\n",
      "Support / ABAG Executive Board Approval\n",
      "Support / MTC Commission Approval\n",
      "Rebecca Long\n",
      "7b1_AB-1481 and AB-1697.pdf\n",
      "\n",
      "Action:\n",
      "\n",
      "Presenter:\n",
      "\n",
      "Attachments:\n",
      "\n",
      "Page 4 \n",
      "\n",
      "Printed on 5/10/2019\n",
      "\n",
      "\f",
      "ABAG Legislation Committee\n",
      "\n",
      "Meeting Agenda\n",
      "\n",
      "May 10, 2019\n",
      "\n",
      "7b2.\n",
      "\n",
      "19-0496\n",
      "\n",
      "AB 1482 (Chiu) - Statewide Annual Cap on Rent Increases\n",
      "\n",
      "Caps annual rent increases by five percent above the percent change in \n",
      "the cost of living and limits the total rental rate increase within a 12 month \n",
      "period to 10 percent.\n",
      "Support / ABAG Executive Board Approval\n",
      "Support / MTC Commission Approval\n",
      "Rebecca Long\n",
      "7b2_AB-1482_Chiu.pdf\n",
      "\n",
      "Action:\n",
      "\n",
      "Presenter:\n",
      "\n",
      "Attachments:\n",
      "\n",
      "7b3.\n",
      "\n",
      "19-0497\n",
      "\n",
      "SB 18 (Ski\n"
     ]
    }
   ],
   "source": [
    "import re\n",
    "\n",
    "# out_path = '../out/ellis_report.html'\n",
    "# out_path = '../out/eviction_report.html'\n",
    "out_path = '../out/AB1482_report.html'\n",
    "\n",
    "def write_tag(s, tag='p'):    \n",
    "    print(s)\n",
    "    with open(out_path,'a') as f:\n",
    "        f.write('<{}>'.format(tag) + s +'</{}>'.format(tag))\n",
    "\n",
    "# q = 'eviction'\n",
    "q = 'AB?.1482'\n",
    "# q = r'Costa.Hawkins'\n",
    "window = 800 \n",
    "for idx, row in meetings.iterrows():\n",
    "    doc = row['text']\n",
    "    res = re.search(q, doc)\n",
    "    if res is not None:\n",
    "        start = res.start() \n",
    "        write_tag('{} {}'.format(row['city'], row['committee']), 'h4')\n",
    "        write_tag('{}'.format(row['date'], 'h5'))\n",
    "        row['date']\n",
    "        write_tag(doc[int(start-window/2):int(start+window/2)], 'p')"
   ]
  },
  {
   "cell_type": "code",
   "execution_count": 20,
   "metadata": {},
   "outputs": [
    {
     "data": {
      "text/plain": [
       "9"
      ]
     },
     "execution_count": 20,
     "metadata": {},
     "output_type": "execute_result"
    }
   ],
   "source": [
    "len(list(zip(meetings, documents)))"
   ]
  },
  {
   "cell_type": "code",
   "execution_count": 21,
   "metadata": {},
   "outputs": [
    {
     "data": {
      "text/plain": [
       "82"
      ]
     },
     "execution_count": 21,
     "metadata": {},
     "output_type": "execute_result"
    }
   ],
   "source": [
    "len(meetings)"
   ]
  },
  {
   "cell_type": "code",
   "execution_count": 22,
   "metadata": {},
   "outputs": [
    {
     "data": {
      "text/plain": [
       "82"
      ]
     },
     "execution_count": 22,
     "metadata": {},
     "output_type": "execute_result"
    }
   ],
   "source": [
    "len(documents)"
   ]
  },
  {
   "cell_type": "code",
   "execution_count": null,
   "metadata": {},
   "outputs": [],
   "source": []
  }
 ],
 "metadata": {
  "kernelspec": {
   "display_name": "autolocal",
   "language": "python",
   "name": "autolocal"
  },
  "language_info": {
   "codemirror_mode": {
    "name": "ipython",
    "version": 3
   },
   "file_extension": ".py",
   "mimetype": "text/x-python",
   "name": "python",
   "nbconvert_exporter": "python",
   "pygments_lexer": "ipython3",
   "version": "3.7.4"
  }
 },
 "nbformat": 4,
 "nbformat_minor": 2
}
