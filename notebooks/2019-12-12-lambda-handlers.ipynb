{
 "cells": [
  {
   "cell_type": "markdown",
   "metadata": {},
   "source": [
    "## test email subscription code"
   ]
  },
  {
   "cell_type": "code",
   "execution_count": 38,
   "metadata": {},
   "outputs": [],
   "source": [
    "import json\n",
    "from autolocal.mailer.events import SubscribeEvent\n",
    "from autolocal.mailer.lambda_handlers import lambda_handler_subscribe"
   ]
  },
  {
   "cell_type": "code",
   "execution_count": 42,
   "metadata": {},
   "outputs": [
    {
     "data": {
      "text/plain": [
       "{'body': '{\"email_address\": \"erindb@stanford.edu\", \"keywords\": [\"star wars\"], \"municipalities\": [\"San Mateo County\"]}'}"
      ]
     },
     "execution_count": 42,
     "metadata": {},
     "output_type": "execute_result"
    }
   ],
   "source": [
    "aws_event={\n",
    "    'body': json.dumps({\n",
    "#         'email_address': 'chstock@stanford.edu',\n",
    "#         'email_address': 'patwei@stanford.edu',\n",
    "#         'email_address': 'hs4man21@stanford.edu',\n",
    "        'email_address': 'erindb@stanford.edu',\n",
    "        'keywords': ['star wars'],\n",
    "        'municipalities': ['San Mateo County']\n",
    "    })\n",
    "}\n",
    "context = ''\n",
    "aws_event"
   ]
  },
  {
   "cell_type": "code",
   "execution_count": 43,
   "metadata": {},
   "outputs": [
    {
     "data": {
      "text/plain": [
       "{'email_address': 'erindb@stanford.edu',\n",
       " 'keywords': ['star wars'],\n",
       " 'municipalities': ['San Mateo County'],\n",
       " 'id': '03a52e70f83ff922c8dfc22a74472bf52541f641f67c1b47930a462a',\n",
       " 'subscribed_timestamp': '2019-12-13T00:45:13.846988',\n",
       " 'subscription_status_last_updated_timestamp': '2019-12-13T00:45:13.846988',\n",
       " 'subscription_status': 'pending',\n",
       " 'most_recent_digest_timestamp': 'none'}"
      ]
     },
     "execution_count": 43,
     "metadata": {},
     "output_type": "execute_result"
    }
   ],
   "source": [
    "subscribe_event = SubscribeEvent(aws_event)\n",
    "subscribe_event.record"
   ]
  },
  {
   "cell_type": "code",
   "execution_count": 44,
   "metadata": {},
   "outputs": [
    {
     "data": {
      "text/plain": [
       "{'statusCode': 200,\n",
       " 'body': '\"We sent a confirmation email to  erindb@stanford.edu. To finish subscribing, please check your inbox.\"'}"
      ]
     },
     "execution_count": 44,
     "metadata": {},
     "output_type": "execute_result"
    }
   ],
   "source": [
    "lambda_handler_subscribe(aws_event, context)"
   ]
  },
  {
   "cell_type": "markdown",
   "metadata": {},
   "source": [
    "## test subscription confirmation code"
   ]
  },
  {
   "cell_type": "code",
   "execution_count": 1,
   "metadata": {},
   "outputs": [],
   "source": [
    "import json\n",
    "from autolocal.mailer.events import ConfirmSubscriptionEvent\n",
    "from autolocal.mailer.lambda_handlers import lambda_handler_confirm_subscription"
   ]
  },
  {
   "cell_type": "code",
   "execution_count": 2,
   "metadata": {},
   "outputs": [],
   "source": [
    "aws_event = {\n",
    "#     'body': json.dumps({\n",
    "    \n",
    "#         'qid': '1d4d75d9f494f2336cfb7d59538acf588877b7abdd6f6581dc8ba749',\n",
    "#     })\n",
    "# }\n",
    "context = ''"
   ]
  },
  {
   "cell_type": "code",
   "execution_count": null,
   "metadata": {},
   "outputs": [],
   "source": [
    "confirm_event = ConfirmSubscriptionEvent(aws_event)\n",
    "confirm_event.query_id"
   ]
  },
  {
   "cell_type": "code",
   "execution_count": 28,
   "metadata": {},
   "outputs": [
    {
     "data": {
      "text/plain": [
       "{'statusCode': 200,\n",
       " 'body': '\"Email address has been subscribed: chstock@stanford.edu).\"'}"
      ]
     },
     "execution_count": 28,
     "metadata": {},
     "output_type": "execute_result"
    }
   ],
   "source": [
    "lambda_handler_confirm_subscription(aws_event, context)"
   ]
  },
  {
   "cell_type": "markdown",
   "metadata": {},
   "source": [
    "## test unsubscribe code"
   ]
  },
  {
   "cell_type": "code",
   "execution_count": 4,
   "metadata": {},
   "outputs": [],
   "source": [
    "import json\n",
    "from autolocal.mailer.events import UnsubscribeEvent\n",
    "from autolocal.mailer.lambda_handlers import lambda_handler_unsubscribe"
   ]
  },
  {
   "cell_type": "code",
   "execution_count": 5,
   "metadata": {},
   "outputs": [],
   "source": [
    "aws_event = {\n",
    "#     'body': json.dumps({\n",
    "#         'email_address': 'patwei@stanford.edu'\n",
    "        'email_address': 'chstock@stanford.edu',        \n",
    "    }\n",
    "context = ''"
   ]
  },
  {
   "cell_type": "code",
   "execution_count": 6,
   "metadata": {},
   "outputs": [
    {
     "name": "stdout",
     "output_type": "stream",
     "text": [
      "chstock@stanford.edu\n"
     ]
    }
   ],
   "source": [
    "unsubscribe_event = UnsubscribeEvent(aws_event)\n",
    "print(unsubscribe_event.email_address)"
   ]
  },
  {
   "cell_type": "code",
   "execution_count": 7,
   "metadata": {},
   "outputs": [
    {
     "data": {
      "text/plain": [
       "{'statusCode': 200,\n",
       " 'body': '\"Email address has been unsubscribed from all mail: chstock@stanford.edu).\"'}"
      ]
     },
     "execution_count": 7,
     "metadata": {},
     "output_type": "execute_result"
    }
   ],
   "source": [
    "lambda_handler_unsubscribe(aws_event, context)"
   ]
  },
  {
   "cell_type": "code",
   "execution_count": 8,
   "metadata": {},
   "outputs": [
    {
     "data": {
      "text/plain": [
       "['b218eb7c39aa7769bd74d3edd3de95e50139fb0aaf265046242f0d71']"
      ]
     },
     "execution_count": 8,
     "metadata": {},
     "output_type": "execute_result"
    }
   ],
   "source": [
    "query_ids = unsubscribe_event.get_query_ids()\n",
    "query_ids"
   ]
  },
  {
   "cell_type": "code",
   "execution_count": 7,
   "metadata": {},
   "outputs": [],
   "source": [
    "unsubscribe_event.unsubscribe_queries(query_ids)"
   ]
  }
 ],
 "metadata": {
  "kernelspec": {
   "display_name": "autolocal",
   "language": "python",
   "name": "autolocal"
  },
  "language_info": {
   "codemirror_mode": {
    "name": "ipython",
    "version": 3
   },
   "file_extension": ".py",
   "mimetype": "text/x-python",
   "name": "python",
   "nbconvert_exporter": "python",
   "pygments_lexer": "ipython3",
   "version": "3.7.5"
  }
 },
 "nbformat": 4,
 "nbformat_minor": 2
}
