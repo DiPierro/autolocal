{
 "cells": [
  {
   "cell_type": "markdown",
   "metadata": {},
   "source": [
    "## test email subscription code"
   ]
  },
  {
   "cell_type": "code",
   "execution_count": 1,
   "metadata": {},
   "outputs": [],
   "source": [
    "import json\n",
    "from autolocal.email.events import SubscribeEvent\n",
    "from autolocal.email.lambda_handlers import lambda_handler_subscribe"
   ]
  },
  {
   "cell_type": "code",
   "execution_count": 14,
   "metadata": {},
   "outputs": [
    {
     "data": {
      "text/plain": [
       "'{\"body\": {\"email_address\": \"chstock@stanford.edu\", \"keywords\": [\"housing\", \"ADUs\", \"affordable\"], \"municipalities\": [\"San Jose\", \"San Mateo County\"]}}'"
      ]
     },
     "execution_count": 14,
     "metadata": {},
     "output_type": "execute_result"
    }
   ],
   "source": [
    "d={\n",
    "    'body': {\n",
    "        'email_address': 'chstock@stanford.edu',\n",
    "        'keywords': ['housing', 'ADUs', 'affordable'],\n",
    "        'municipalities': ['San Jose', 'San Mateo County']\n",
    "    }\n",
    "}\n",
    "json.dumps(d)"
   ]
  },
  {
   "cell_type": "code",
   "execution_count": 13,
   "metadata": {},
   "outputs": [
    {
     "data": {
      "text/plain": [
       "'email_address=chstock%40stanford.edu&keywords=%5B%27housing%27%2C+%27ADUs%27%2C+%27affordable%27%5D&municipalities=%5B%27San+Jose%27%2C+%27San+Mateo+County%27%5D'"
      ]
     },
     "execution_count": 13,
     "metadata": {},
     "output_type": "execute_result"
    }
   ],
   "source": [
    "import urllib\n",
    "urllib.parse.urlencode(d['body'])"
   ]
  },
  {
   "cell_type": "code",
   "execution_count": 2,
   "metadata": {},
   "outputs": [],
   "source": [
    "aws_event = {\n",
    "    'body': json.dumps({\n",
    "        'email_address': 'chstock@stanford.edu',\n",
    "        'keywords': ['housing', 'ADUs', 'affordable'],\n",
    "        'municipalities': ['San Jose', 'San Mateo County']\n",
    "    })\n",
    "}\n",
    "context = ''"
   ]
  },
  {
   "cell_type": "code",
   "execution_count": 3,
   "metadata": {},
   "outputs": [
    {
     "data": {
      "text/plain": [
       "{'email_address': 'chstock@stanford.edu',\n",
       " 'keywords': ['housing', 'ADUs', 'affordable'],\n",
       " 'municipalities': ['San Jose', 'San Mateo County'],\n",
       " 'id': '1d4d75d9f494f2336cfb7d59538acf588877b7abdd6f6581dc8ba749',\n",
       " 'subscribed_timestamp': '2019-12-12T10:01:02.925993',\n",
       " 'subscription_status_last_updated_timestamp': '2019-12-12T10:01:02.925993',\n",
       " 'subscription_status': 'pending',\n",
       " 'most_recent_digest_timestamp': 'none'}"
      ]
     },
     "execution_count": 3,
     "metadata": {},
     "output_type": "execute_result"
    }
   ],
   "source": [
    "subscribe_event = SubscribeEvent(aws_event)\n",
    "subscribe_event.record"
   ]
  },
  {
   "cell_type": "code",
   "execution_count": 4,
   "metadata": {},
   "outputs": [
    {
     "name": "stdout",
     "output_type": "stream",
     "text": [
      "Email sent! Message ID:\n",
      "0101016ef98e05bc-68b7f7a6-bb4d-4e26-9dc5-1956eb920a14-000000\n"
     ]
    },
    {
     "data": {
      "text/plain": [
       "{'statusCode': 200,\n",
       " 'body': '\"We sent a confirmation email to  chstock@stanford.edu. To finish subscribing, please check your inbox.\"'}"
      ]
     },
     "execution_count": 4,
     "metadata": {},
     "output_type": "execute_result"
    }
   ],
   "source": [
    "lambda_handler_subscribe(aws_event, context)"
   ]
  },
  {
   "cell_type": "markdown",
   "metadata": {},
   "source": [
    "## test subscription confirmation code"
   ]
  },
  {
   "cell_type": "code",
   "execution_count": 5,
   "metadata": {},
   "outputs": [],
   "source": [
    "import json\n",
    "from autolocal.email.events import ConfirmSubscriptionEvent\n",
    "from autolocal.email.lambda_handlers import lambda_handler_confirm_subscription"
   ]
  },
  {
   "cell_type": "code",
   "execution_count": 15,
   "metadata": {},
   "outputs": [],
   "source": [
    "d = {'qid': '1d4d75d9f494f2336cfb7d59538acf588877b7abdd6f6581dc8ba749'}"
   ]
  },
  {
   "cell_type": "code",
   "execution_count": 6,
   "metadata": {},
   "outputs": [],
   "source": [
    "aws_event = {\n",
    "    'body': json.dumps({\n",
    "        'qid': '1d4d75d9f494f2336cfb7d59538acf588877b7abdd6f6581dc8ba749',\n",
    "    })\n",
    "}\n",
    "context = ''"
   ]
  },
  {
   "cell_type": "code",
   "execution_count": 7,
   "metadata": {},
   "outputs": [
    {
     "data": {
      "text/plain": [
       "'1d4d75d9f494f2336cfb7d59538acf588877b7abdd6f6581dc8ba749'"
      ]
     },
     "execution_count": 7,
     "metadata": {},
     "output_type": "execute_result"
    }
   ],
   "source": [
    "confirm_event = ConfirmSubscriptionEvent(aws_event)\n",
    "confirm_event.query_id"
   ]
  },
  {
   "cell_type": "code",
   "execution_count": 8,
   "metadata": {},
   "outputs": [
    {
     "data": {
      "text/plain": [
       "{'statusCode': 200,\n",
       " 'body': '\"Email address has been subscribed: chstock@stanford.edu).\"'}"
      ]
     },
     "execution_count": 8,
     "metadata": {},
     "output_type": "execute_result"
    }
   ],
   "source": [
    "lambda_handler_confirm_subscription(aws_event, context)"
   ]
  },
  {
   "cell_type": "markdown",
   "metadata": {},
   "source": [
    "## test unsubscribe code"
   ]
  },
  {
   "cell_type": "code",
   "execution_count": 1,
   "metadata": {},
   "outputs": [],
   "source": [
    "import json\n",
    "from autolocal.email.events import UnsubscribeEvent\n",
    "from autolocal.email.lambda_handlers import lambda_handler_unsubscribe"
   ]
  },
  {
   "cell_type": "code",
   "execution_count": 2,
   "metadata": {},
   "outputs": [],
   "source": [
    "aws_event = {\n",
    "    'body': json.dumps({\n",
    "        'email_address': 'chstock@stanford.edu'\n",
    "    })\n",
    "}\n",
    "context = ''"
   ]
  },
  {
   "cell_type": "code",
   "execution_count": 3,
   "metadata": {},
   "outputs": [
    {
     "name": "stdout",
     "output_type": "stream",
     "text": [
      "chstock@stanford.edu\n"
     ]
    }
   ],
   "source": [
    "unsubscribe_event = UnsubscribeEvent(aws_event)\n",
    "print(unsubscribe_event.email_address)"
   ]
  },
  {
   "cell_type": "code",
   "execution_count": 4,
   "metadata": {},
   "outputs": [
    {
     "name": "stdout",
     "output_type": "stream",
     "text": [
      "Email sent! Message ID:\n",
      "0101016ef9912292-54785ded-2c8e-4202-a776-2c9392aa1432-000000\n"
     ]
    },
    {
     "data": {
      "text/plain": [
       "{'statusCode': 200,\n",
       " 'body': '\"Email address has been unsubscribed from all mail: chstock@stanford.edu).\"'}"
      ]
     },
     "execution_count": 4,
     "metadata": {},
     "output_type": "execute_result"
    }
   ],
   "source": [
    "lambda_handler_unsubscribe(aws_event, context)"
   ]
  },
  {
   "cell_type": "code",
   "execution_count": 8,
   "metadata": {},
   "outputs": [
    {
     "data": {
      "text/plain": [
       "['b218eb7c39aa7769bd74d3edd3de95e50139fb0aaf265046242f0d71']"
      ]
     },
     "execution_count": 8,
     "metadata": {},
     "output_type": "execute_result"
    }
   ],
   "source": [
    "query_ids = unsubscribe_event.get_query_ids()\n",
    "query_ids"
   ]
  },
  {
   "cell_type": "code",
   "execution_count": 7,
   "metadata": {},
   "outputs": [],
   "source": [
    "unsubscribe_event.unsubscribe_queries(query_ids)"
   ]
  }
 ],
 "metadata": {
  "kernelspec": {
   "display_name": "autolocal",
   "language": "python",
   "name": "autolocal"
  },
  "language_info": {
   "codemirror_mode": {
    "name": "ipython",
    "version": 3
   },
   "file_extension": ".py",
   "mimetype": "text/x-python",
   "name": "python",
   "nbconvert_exporter": "python",
   "pygments_lexer": "ipython3",
   "version": "3.7.5"
  }
 },
 "nbformat": 4,
 "nbformat_minor": 2
}
